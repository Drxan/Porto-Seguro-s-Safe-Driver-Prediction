{
 "cells": [
  {
   "cell_type": "markdown",
   "metadata": {},
   "source": [
    "### （1）将所有分类变量做哑编码；\n",
    "###  （2）利用totally random treess embedding 方法对原始特征进行特征组合，生成新特征；\n",
    "###  （3）剔除方差为零的变量；\n",
    "### （4）将所有特征合并，训练lgb模型"
   ]
  },
  {
   "cell_type": "code",
   "execution_count": 49,
   "metadata": {
    "collapsed": false
   },
   "outputs": [],
   "source": [
    "import itertools\n",
    "import pandas as pd\n",
    "import numpy as np\n",
    "import matplotlib.pyplot as plt\n",
    "import seaborn as sns\n",
    "from sklearn.model_selection import train_test_split,GridSearchCV\n",
    "from xgboost.sklearn import XGBClassifier\n",
    "from sklearn.ensemble import RandomTreesEmbedding\n",
    "import xgboost as xgb\n",
    "from sklearn import metrics\n",
    "import lightgbm as lgb\n",
    "from copy import deepcopy\n",
    "from sklearn.externals import joblib\n",
    "from sklearn.preprocessing import OneHotEncoder\n",
    "import graphviz\n",
    "import win32com.client  \n",
    "import winsound  \n",
    "%matplotlib inline\n",
    "plt.rcParams['figure.figsize']=12,4"
   ]
  },
  {
   "cell_type": "code",
   "execution_count": 3,
   "metadata": {
    "collapsed": true
   },
   "outputs": [],
   "source": [
    "data_path=r'D:\\study\\Competition\\porto-sequro-safe-driver-prediction\\data'\n",
    "train_df=pd.read_csv(data_path+'\\\\train.csv',na_values=-1)\n",
    "test_df=pd.read_csv(data_path+'\\\\test.csv',na_values=-1)"
   ]
  },
  {
   "cell_type": "code",
   "execution_count": 7,
   "metadata": {
    "collapsed": true
   },
   "outputs": [],
   "source": [
    "#所有变量\n",
    "raw_features=[x for x in train_df.columns if x not in ['id','target']]\n",
    "#所有二元变量\n",
    "bin_features=[feat for feat in train_df.columns if 'bin' in feat]\n",
    "#所有的分类变量\n",
    "cat_features=[feat for feat in train_df.columns if 'cat' in feat]\n",
    "#所有calc变量\n",
    "calc_features=[feat for feat in train_df.columns if 'calc' in feat]"
   ]
  },
  {
   "cell_type": "code",
   "execution_count": 8,
   "metadata": {
    "collapsed": false
   },
   "outputs": [
    {
     "data": {
      "text/html": [
       "<div>\n",
       "<table border=\"1\" class=\"dataframe\">\n",
       "  <thead>\n",
       "    <tr style=\"text-align: right;\">\n",
       "      <th></th>\n",
       "      <th>id</th>\n",
       "      <th>target</th>\n",
       "      <th>ps_ind_01</th>\n",
       "      <th>ps_ind_02_cat</th>\n",
       "      <th>ps_ind_03</th>\n",
       "      <th>ps_ind_04_cat</th>\n",
       "      <th>ps_ind_05_cat</th>\n",
       "      <th>ps_ind_06_bin</th>\n",
       "      <th>ps_ind_07_bin</th>\n",
       "      <th>ps_ind_08_bin</th>\n",
       "      <th>...</th>\n",
       "      <th>ps_calc_11</th>\n",
       "      <th>ps_calc_12</th>\n",
       "      <th>ps_calc_13</th>\n",
       "      <th>ps_calc_14</th>\n",
       "      <th>ps_calc_15_bin</th>\n",
       "      <th>ps_calc_16_bin</th>\n",
       "      <th>ps_calc_17_bin</th>\n",
       "      <th>ps_calc_18_bin</th>\n",
       "      <th>ps_calc_19_bin</th>\n",
       "      <th>ps_calc_20_bin</th>\n",
       "    </tr>\n",
       "  </thead>\n",
       "  <tbody>\n",
       "    <tr>\n",
       "      <th>0</th>\n",
       "      <td>7</td>\n",
       "      <td>0</td>\n",
       "      <td>2</td>\n",
       "      <td>2.0</td>\n",
       "      <td>5</td>\n",
       "      <td>1.0</td>\n",
       "      <td>0.0</td>\n",
       "      <td>0</td>\n",
       "      <td>1</td>\n",
       "      <td>0</td>\n",
       "      <td>...</td>\n",
       "      <td>9</td>\n",
       "      <td>1</td>\n",
       "      <td>5</td>\n",
       "      <td>8</td>\n",
       "      <td>0</td>\n",
       "      <td>1</td>\n",
       "      <td>1</td>\n",
       "      <td>0</td>\n",
       "      <td>0</td>\n",
       "      <td>1</td>\n",
       "    </tr>\n",
       "    <tr>\n",
       "      <th>1</th>\n",
       "      <td>9</td>\n",
       "      <td>0</td>\n",
       "      <td>1</td>\n",
       "      <td>1.0</td>\n",
       "      <td>7</td>\n",
       "      <td>0.0</td>\n",
       "      <td>0.0</td>\n",
       "      <td>0</td>\n",
       "      <td>0</td>\n",
       "      <td>1</td>\n",
       "      <td>...</td>\n",
       "      <td>3</td>\n",
       "      <td>1</td>\n",
       "      <td>1</td>\n",
       "      <td>9</td>\n",
       "      <td>0</td>\n",
       "      <td>1</td>\n",
       "      <td>1</td>\n",
       "      <td>0</td>\n",
       "      <td>1</td>\n",
       "      <td>0</td>\n",
       "    </tr>\n",
       "    <tr>\n",
       "      <th>2</th>\n",
       "      <td>13</td>\n",
       "      <td>0</td>\n",
       "      <td>5</td>\n",
       "      <td>4.0</td>\n",
       "      <td>9</td>\n",
       "      <td>1.0</td>\n",
       "      <td>0.0</td>\n",
       "      <td>0</td>\n",
       "      <td>0</td>\n",
       "      <td>1</td>\n",
       "      <td>...</td>\n",
       "      <td>4</td>\n",
       "      <td>2</td>\n",
       "      <td>7</td>\n",
       "      <td>7</td>\n",
       "      <td>0</td>\n",
       "      <td>1</td>\n",
       "      <td>1</td>\n",
       "      <td>0</td>\n",
       "      <td>1</td>\n",
       "      <td>0</td>\n",
       "    </tr>\n",
       "  </tbody>\n",
       "</table>\n",
       "<p>3 rows × 59 columns</p>\n",
       "</div>"
      ],
      "text/plain": [
       "   id  target  ps_ind_01  ps_ind_02_cat  ps_ind_03  ps_ind_04_cat  \\\n",
       "0   7       0          2            2.0          5            1.0   \n",
       "1   9       0          1            1.0          7            0.0   \n",
       "2  13       0          5            4.0          9            1.0   \n",
       "\n",
       "   ps_ind_05_cat  ps_ind_06_bin  ps_ind_07_bin  ps_ind_08_bin       ...        \\\n",
       "0            0.0              0              1              0       ...         \n",
       "1            0.0              0              0              1       ...         \n",
       "2            0.0              0              0              1       ...         \n",
       "\n",
       "   ps_calc_11  ps_calc_12  ps_calc_13  ps_calc_14  ps_calc_15_bin  \\\n",
       "0           9           1           5           8               0   \n",
       "1           3           1           1           9               0   \n",
       "2           4           2           7           7               0   \n",
       "\n",
       "   ps_calc_16_bin  ps_calc_17_bin  ps_calc_18_bin  ps_calc_19_bin  \\\n",
       "0               1               1               0               0   \n",
       "1               1               1               0               1   \n",
       "2               1               1               0               1   \n",
       "\n",
       "   ps_calc_20_bin  \n",
       "0               1  \n",
       "1               0  \n",
       "2               0  \n",
       "\n",
       "[3 rows x 59 columns]"
      ]
     },
     "execution_count": 8,
     "metadata": {},
     "output_type": "execute_result"
    }
   ],
   "source": [
    "train_df.head(3)"
   ]
  },
  {
   "cell_type": "markdown",
   "metadata": {},
   "source": [
    "### One_Hot_Encoding"
   ]
  },
  {
   "cell_type": "code",
   "execution_count": 9,
   "metadata": {
    "collapsed": true
   },
   "outputs": [],
   "source": [
    "def get_dummy_feat(train_df,test_df,cat_features):\n",
    "    oht_feat=pd.get_dummies(train_df[cat_features].append(test_df[cat_features]),columns=cat_features,dummy_na=True)\n",
    "    train_df=train_df.join(oht_feat.iloc[0:train_df.shape[0]])\n",
    "    test_df=test_df.join(oht_feat.iloc[train_df.shape[0]:])\n",
    "    return train_df,test_df"
   ]
  },
  {
   "cell_type": "code",
   "execution_count": 10,
   "metadata": {
    "collapsed": false
   },
   "outputs": [],
   "source": [
    "train_df,test_df=get_dummy_feat(train_df,test_df,cat_features)"
   ]
  },
  {
   "cell_type": "markdown",
   "metadata": {},
   "source": [
    "### Combined Feature(totally random trees)"
   ]
  },
  {
   "cell_type": "code",
   "execution_count": 22,
   "metadata": {
    "collapsed": true
   },
   "outputs": [],
   "source": [
    "rte=RandomTreesEmbedding(n_estimators=30,max_depth=4,max_leaf_nodes=10,sparse_output=False,n_jobs=-1,random_state=9)"
   ]
  },
  {
   "cell_type": "code",
   "execution_count": 27,
   "metadata": {
    "collapsed": true
   },
   "outputs": [],
   "source": [
    "def combine_feats(train_df,test_df,combine_raw_feats,combiner,na_fill_values=-1):\n",
    "    combiner.fit(train_df[raw_features].fillna(na_fill_values))\n",
    "    train_combine=combiner.transform(train_df[combine_raw_feats].fillna(na_fill_values))\n",
    "    test_combine=combiner.transform(test_df[combine_raw_feats].fillna(na_fill_values))\n",
    "    feat_names=['comb_'+str(i) for i in range(1,train_combine.shape[1]+1)]\n",
    "    train_combine=pd.DataFrame(train_combine,columns=feat_names,index=train_df.index)\n",
    "    test_combine=pd.DataFrame(test_combine,columns=feat_names,index=test_df.index)\n",
    "    train_df=train_df.join(train_combine)\n",
    "    test_df=test_df.join(test_combine)\n",
    "    return train_df,test_df"
   ]
  },
  {
   "cell_type": "code",
   "execution_count": 28,
   "metadata": {
    "collapsed": false
   },
   "outputs": [],
   "source": [
    "train_df,test_df=combine_feats(train_df,test_df,raw_features,rte,na_fill_values=-1)"
   ]
  },
  {
   "cell_type": "markdown",
   "metadata": {},
   "source": [
    "### 方差为0（或取值唯一）的变量"
   ]
  },
  {
   "cell_type": "code",
   "execution_count": 31,
   "metadata": {
    "collapsed": false
   },
   "outputs": [],
   "source": [
    "useless_feats=list(train_df.columns[train_df.var()==0])"
   ]
  },
  {
   "cell_type": "code",
   "execution_count": 33,
   "metadata": {
    "collapsed": true
   },
   "outputs": [],
   "source": [
    "use_features=[x for x in train_df.columns if x not in ['id','target']+cat_features+useless_feats]"
   ]
  },
  {
   "cell_type": "code",
   "execution_count": 34,
   "metadata": {
    "collapsed": true
   },
   "outputs": [],
   "source": [
    "X=train_df[use_features]\n",
    "y=train_df['target']\n",
    "\n",
    "X_predict=test_df[use_features]"
   ]
  },
  {
   "cell_type": "code",
   "execution_count": 35,
   "metadata": {
    "collapsed": true
   },
   "outputs": [],
   "source": [
    "X_train,X_test,y_train,y_test=train_test_split(X,y,test_size=0.20,stratify=y,random_state=9)"
   ]
  },
  {
   "cell_type": "markdown",
   "metadata": {},
   "source": [
    "# 1 Base line"
   ]
  },
  {
   "cell_type": "code",
   "execution_count": 60,
   "metadata": {
    "collapsed": false
   },
   "outputs": [],
   "source": [
    "def gini(actual, pred, cmpcol = 0, sortcol = 1):\n",
    "    assert( len(actual) == len(pred) )\n",
    "    all = np.asarray(np.c_[ actual, pred, np.arange(len(actual)) ], dtype=np.float)\n",
    "    all = all[ np.lexsort((all[:,2], -1*all[:,1])) ]\n",
    "    totalLosses = all[:,0].sum()\n",
    "    giniSum = all[:,0].cumsum().sum() / totalLosses\n",
    " \n",
    "    giniSum -= (len(actual) + 1) / 2.\n",
    "    return giniSum / len(actual)\n",
    "\n",
    "def softmax(x):\n",
    "    \"\"\"Compute softmax values for each sets of scores in x.\"\"\"\n",
    "    e_x = np.exp(x - np.max(x))\n",
    "    return e_x / e_x.sum() \n",
    "\n",
    "def gini_normalized(preds,dtrain):\n",
    "    y=dtrain.get_label()\n",
    "    preds=softmax(preds)\n",
    "    return 'NormGini',gini(y, preds) / gini(y, y),True\n",
    "\n",
    "def gini_normalized_ordinary(y,preds):\n",
    "    return gini(y, preds) / gini(y, y)\n",
    "\n",
    "def modelfit(alg,X,y,X_test,y_test,cat_features,cvparams,folds=None,useTrainCV=True,cv_folds=5,early_stopping_rounds=30):\n",
    "    feature_names=list(X.columns)\n",
    "    if useTrainCV==True:\n",
    "        dtrain=lgb.Dataset(X, label=y, max_bin=255, reference=None, \n",
    "                           weight=None, group=None, silent=False, feature_name=feature_names,\n",
    "                            categorical_feature=cat_features,params=None, free_raw_data=True)\n",
    "        cvresult=lgb.cv(cvparams,dtrain,num_boost_round=50000,folds=folds,nfold=cv_folds,stratified=True,\n",
    "                        metrics='auc',feature_name=feature_names,categorical_feature=cat_features,early_stopping_rounds=early_stopping_rounds,\n",
    "                        verbose_eval=20,show_stdv =True,seed=9)\n",
    "        #,feval=gini_normalized\n",
    "        alg.set_params(n_estimators=len(cvresult['auc-mean']))\n",
    "        print('Best Iteration:',len(cvresult['auc-mean']))\n",
    "        \n",
    "    alg.fit(X,y,eval_metric='auc',feature_name=feature_names,categorical_feature=cat_features)\n",
    "    \n",
    "    #Predict training set:\n",
    "    dtrain_predictions=alg.predict(X)\n",
    "    dtrain_predprob=alg.predict_proba(X)[:,1]\n",
    "    \n",
    "    #pPredict test set:\n",
    "    dtest_predictions=alg.predict(X_test)\n",
    "    dtest_predprob=alg.predict_proba(X_test)[:,1]\n",
    "    \n",
    "    #Print Mode report:\n",
    "    print('Model report on trian:')\n",
    "    #print('Train Accuracy:{0:.4f}'.format(metrics.accuracy_score(y,dtrain_predictions)))\n",
    "    print('Train AUC:{0:.4f}'.format(metrics.roc_auc_score(y,dtrain_predprob)))\n",
    "    #print('Train Normalized GINI：{0:.6f}'.format(gini_normalized_ordinary(y,dtrain_predprob)))\n",
    "    print('Model report on test:')\n",
    "    #print('Test Accuracy:{0:.4f}'.format(metrics.accuracy_score(y_test,dtest_predictions)))\n",
    "    print('Test AUC:{0:.4f}'.format(metrics.roc_auc_score(y_test,dtest_predprob)))\n",
    "    #print('Test Normalized GINI：{0：.6f}'.format(gini_normalized_ordinary(y,dtest_predprob)))\n",
    "    print('Test classifiction report:')\n",
    "    print(metrics.classification_report(y_test,dtest_predictions))\n",
    "    print('Test confusion matrix:')\n",
    "    plt.figure()\n",
    "    with sns.axes_style(style='dark'):\n",
    "        plot_confusion_matrix(metrics.confusion_matrix(y_test,dtest_predictions),classes=['0','1'],\n",
    "                             title='Confusion Matrix')\n",
    "    \n",
    "    feat_imp=pd.Series(alg.feature_importances_,index=X.columns).sort_values(ascending=True)\n",
    "    #plt.figure()\n",
    "    #feat_imp.plot(kind='barh',title='Feature Importances',color='green')\n",
    "    #plt.ylabel('Feature Importance Score')\n",
    "    lgb.plot_importance(alg,importance_type='split')\n",
    "    return feat_imp\n",
    "\n",
    "def turnParams(model,X,y,cat_features,searchParam,modelparams,scoring='roc_auc',cv=5):\n",
    "    gsc=GridSearchCV(estimator=model.__class__(**modelparams),param_grid=searchParam,scoring=scoring,\n",
    "                    iid=False,cv=cv)\n",
    "    gsc.fit(X,y,eval_metric='auc',categorical_feature=cat_features)\n",
    "    param_name=list(searchParam.keys())[0]\n",
    "    columns=[p[param_name] for p in gsc.cv_results_['params']]\n",
    "    cv_scores=pd.DataFrame([gsc.cv_results_['mean_test_score'],\n",
    "                            gsc.cv_results_['mean_train_score'],\n",
    "                            gsc.cv_results_['std_test_score'],\n",
    "                            gsc.cv_results_['std_train_score']],\n",
    "                            index=['mean_test_score','mean_train_score','std_test_score','std_train_score'],\n",
    "                            columns=columns).T\n",
    "    #cv_scores.index.name=param_name\n",
    "    for param in gsc.best_params_.keys():\n",
    "        modelparams[param]=gsc.best_params_[param]\n",
    "    print('Best params:')\n",
    "    for param in gsc.best_params_.keys():\n",
    "        print(param,':',gsc.best_params_[param])\n",
    "    print('Best score:',gsc.best_score_)\n",
    "    print(cv_scores)\n",
    "    speak = win32com.client.Dispatch('SAPI.SPVOICE')  \n",
    "    winsound.Beep(20170, 800)  \n",
    "    speak.Speak('程序运行完毕!')\n",
    "    \n",
    "def plot_confusion_matrix(cm, classes,\n",
    "                          normalize=False,\n",
    "                          title='Confusion matrix',\n",
    "                          cmap=plt.cm.Blues):\n",
    "    \"\"\"\n",
    "    This function prints and plots the confusion matrix.\n",
    "    Normalization can be applied by setting `normalize=True`.\n",
    "    \"\"\"\n",
    "    if normalize:\n",
    "        cm = cm.astype('float') / cm.sum(axis=1)[:, np.newaxis]\n",
    "        print(\"Normalized confusion matrix\")\n",
    "    else:\n",
    "        print('Confusion matrix, without normalization')\n",
    "\n",
    "    print(cm)\n",
    "\n",
    "    plt.imshow(cm, interpolation='nearest', cmap=cmap)\n",
    "    plt.title(title)\n",
    "    plt.colorbar()\n",
    "    tick_marks = np.arange(len(classes))\n",
    "    plt.xticks(tick_marks, classes, rotation=45)\n",
    "    plt.yticks(tick_marks, classes)\n",
    "\n",
    "    fmt = '.2f' if normalize else 'd'\n",
    "    thresh = cm.max() / 2.\n",
    "    for i, j in itertools.product(range(cm.shape[0]), range(cm.shape[1])):\n",
    "        plt.text(j, i, format(cm[i, j], fmt),\n",
    "                 horizontalalignment=\"center\",\n",
    "                 color=\"white\" if cm[i, j] > thresh else \"black\")\n",
    "\n",
    "    plt.tight_layout()\n",
    "    plt.ylabel('True label')\n",
    "    plt.xlabel('Predicted label')"
   ]
  },
  {
   "cell_type": "code",
   "execution_count": 40,
   "metadata": {
    "collapsed": true
   },
   "outputs": [],
   "source": [
    "params={'boosting_type':'gbdt',\n",
    "        'num_leaves':50,\n",
    "        'max_depth':6,\n",
    "        'learning_rate':0.2,\n",
    "        'n_estimators':38,\n",
    "        'max_bin':255,\n",
    "        'objective':'binary',\n",
    "        'min_split_gain':0,\n",
    "        'min_child_weight':0,\n",
    "        'min_child_samples':1,\n",
    "        'subsample':1.0,\n",
    "        'subsample_freq':1,\n",
    "        'colsample_bytree':1.0,\n",
    "        'reg_alpha':0,\n",
    "        'reg_lambda':0,\n",
    "        'random_state':9,\n",
    "        'n_jobs':4,\n",
    "        'is_unbalance':True,\n",
    "       }\n",
    "\n",
    "cvparams={'boosting_type':'gbdt',\n",
    "        'num_leaves':20,\n",
    "        'max_depth':6,\n",
    "        'learning_rate':0.2,\n",
    "        'max_bin':255,\n",
    "        'objective':'binary',\n",
    "        'min_gain_to_split':0,\n",
    "        'min_sum_hessian_in_leaf':0,\n",
    "        'min_data_in_leaf':1,\n",
    "        'bagging_fraction':1.0,\n",
    "        'bagging_freq':1,\n",
    "        'feature_fraction':1.0,\n",
    "        'lambda_l1':0,\n",
    "        'lambda_l2':0,\n",
    "        'num_threads':4,\n",
    "        'is_unbalance':True,\n",
    "       }\n",
    "#在sklaearn接口中，参数名称发生了变化，需要进行映射\n",
    "tran_table={ 'min_split_gain':'min_gain_to_split',\n",
    "             'min_child_weight':'min_sum_hessian_in_leaf',\n",
    "             'min_child_samples':'min_data_in_leaf',\n",
    "             'subsample':'bagging_fraction',\n",
    "             'subsample_freq':'bagging_freq',\n",
    "             'colsample_bytree':'feature_fraction',\n",
    "             'reg_alpha':'lambda_l1',\n",
    "             'reg_lambda':'lambda_l2',\n",
    "             'n_jobs':'num_threads',\n",
    "            \n",
    "             'boosting_type':'boosting_type',\n",
    "             'num_leaves':'num_leaves',\n",
    "             'max_depth':'max_depth',\n",
    "             'learning_rate':'learning_rate',\n",
    "             'max_bin':'max_bin',\n",
    "             'objective':'objective',\n",
    "             'is_unbalance':'is_unbalance'}\n",
    "def get_lgb_params(sklearn_params,cvparams,tran_table):\n",
    "    for sklearn_param,lgb_param in tran_table.items():\n",
    "        cvparams[lgb_param]=sklearn_params[sklearn_param]"
   ]
  },
  {
   "cell_type": "code",
   "execution_count": 41,
   "metadata": {
    "collapsed": true
   },
   "outputs": [],
   "source": [
    "lgbc=lgb.LGBMClassifier(**params)"
   ]
  },
  {
   "cell_type": "code",
   "execution_count": 42,
   "metadata": {
    "collapsed": false
   },
   "outputs": [
    {
     "name": "stdout",
     "output_type": "stream",
     "text": [
      "[20]\tcv_agg's auc: 0.628345 + 0.00418503\n",
      "[40]\tcv_agg's auc: 0.625136 + 0.00235659\n",
      "[60]\tcv_agg's auc: 0.621914 + 0.00214394\n",
      "Best Iteration: 13\n",
      "Model report on trian:\n",
      "Train AUC:0.6685\n",
      "Model report on test:\n",
      "Test AUC:0.6323\n",
      "Test classifiction report:\n",
      "             precision    recall  f1-score   support\n",
      "\n",
      "          0       0.97      0.65      0.78    114704\n",
      "          1       0.05      0.54      0.10      4339\n",
      "\n",
      "avg / total       0.94      0.65      0.76    119043\n",
      "\n",
      "Test confusion matrix:\n",
      "Confusion matrix, without normalization\n",
      "[[74644 40060]\n",
      " [ 2011  2328]]\n"
     ]
    },
    {
     "data": {
      "image/png": "[encoded data removed]",
      "text/plain": [
       "<matplotlib.figure.Figure at 0x2b177afac8>"
      ]
     },
     "metadata": {},
     "output_type": "display_data"
    },
    {
     "data": {
      "image/png": "[encoded data removed]",
      "text/plain": [
       "<matplotlib.figure.Figure at 0x2b187809b0>"
      ]
     },
     "metadata": {},
     "output_type": "display_data"
    }
   ],
   "source": [
    "get_lgb_params(lgbc.get_params(),cvparams,tran_table)\n",
    "\n",
    "feat_imp=modelfit(lgbc,X_train,y_train,X_test,y_test,'auto',cvparams,useTrainCV=True,cv_folds=5,early_stopping_rounds=50)"
   ]
  },
  {
   "cell_type": "code",
   "execution_count": 45,
   "metadata": {
    "collapsed": true
   },
   "outputs": [],
   "source": [
    "params['n_estimators']=13"
   ]
  },
  {
   "cell_type": "markdown",
   "metadata": {},
   "source": [
    "# 2 Tune params"
   ]
  },
  {
   "cell_type": "code",
   "execution_count": 46,
   "metadata": {
    "collapsed": true
   },
   "outputs": [],
   "source": [
    "#不重要的警告信息不予显示\n",
    "import warnings\n",
    "warnings.filterwarnings(\"ignore\")"
   ]
  },
  {
   "cell_type": "markdown",
   "metadata": {},
   "source": [
    "## 2.1 subsample"
   ]
  },
  {
   "cell_type": "code",
   "execution_count": 47,
   "metadata": {
    "collapsed": false
   },
   "outputs": [
    {
     "name": "stdout",
     "output_type": "stream",
     "text": [
      "Best params:\n",
      "subsample : 1.0\n",
      "Best score: 0.629723203331\n",
      "     mean_test_score  mean_train_score  std_test_score  std_train_score\n",
      "0.1         0.592676          0.621134        0.003643         0.000855\n",
      "0.3         0.615700          0.657228        0.005724         0.000951\n",
      "0.5         0.621130          0.666217        0.006985         0.002017\n",
      "0.7         0.625098          0.671901        0.005579         0.001366\n",
      "0.9         0.627729          0.674632        0.005162         0.001488\n",
      "1.0         0.629723          0.675214        0.005527         0.001330\n"
     ]
    }
   ],
   "source": [
    "searchParam={'subsample':[0.1,0.3,0.5,0.7,0.9,1.0]}\n",
    "turnParams(lgbc,X_train,y_train,'auto',searchParam,params,scoring='roc_auc',cv=5);"
   ]
  },
  {
   "cell_type": "code",
   "execution_count": 48,
   "metadata": {
    "collapsed": false
   },
   "outputs": [
    {
     "name": "stdout",
     "output_type": "stream",
     "text": [
      "Best params:\n",
      "subsample : 0.99\n",
      "Best score: 0.630477660651\n",
      "      mean_test_score  mean_train_score  std_test_score  std_train_score\n",
      "0.95         0.628756          0.674835        0.005005         0.001952\n",
      "0.96         0.629306          0.674633        0.004773         0.001336\n",
      "0.97         0.629613          0.675443        0.003655         0.001665\n",
      "0.98         0.630119          0.676000        0.004557         0.001319\n",
      "0.99         0.630478          0.675884        0.004471         0.001542\n",
      "1.00         0.629723          0.675214        0.005527         0.001330\n"
     ]
    }
   ],
   "source": [
    "searchParam={'subsample':[0.95,0.96,0.97,0.98,0.99,1.0]}\n",
    "turnParams(lgbc,X_train,y_train,'auto',searchParam,params,scoring='roc_auc',cv=5);"
   ]
  },
  {
   "cell_type": "markdown",
   "metadata": {},
   "source": [
    "## 2.3 colsample_bytree"
   ]
  },
  {
   "cell_type": "code",
   "execution_count": 52,
   "metadata": {
    "collapsed": false
   },
   "outputs": [
    {
     "name": "stdout",
     "output_type": "stream",
     "text": [
      "Best params:\n",
      "colsample_bytree : 1.0\n",
      "Best score: 0.630477660651\n",
      "     mean_test_score  mean_train_score  std_test_score  std_train_score\n",
      "0.1         0.620465          0.654775        0.005378         0.001488\n",
      "0.3         0.629353          0.668536        0.005159         0.001660\n",
      "0.5         0.628667          0.671158        0.004139         0.001384\n",
      "0.7         0.628205          0.672902        0.006592         0.000979\n",
      "0.9         0.629973          0.674517        0.006444         0.001248\n",
      "1.0         0.630478          0.675884        0.004471         0.001542\n"
     ]
    }
   ],
   "source": [
    "searchParam={'colsample_bytree':[0.1,0.3,0.5,0.7,0.9,1.0]}\n",
    "turnParams(lgbc,X_train,y_train,'auto',searchParam,params,scoring='roc_auc',cv=5);"
   ]
  },
  {
   "cell_type": "code",
   "execution_count": 57,
   "metadata": {
    "collapsed": false
   },
   "outputs": [
    {
     "name": "stdout",
     "output_type": "stream",
     "text": [
      "Best params:\n",
      "colsample_bytree : 1.0\n",
      "Best score: 0.630477660651\n",
      "      mean_test_score  mean_train_score  std_test_score  std_train_score\n",
      "0.94         0.629019          0.675760        0.005462         0.001504\n",
      "0.95         0.629727          0.675104        0.004640         0.000729\n",
      "0.96         0.630024          0.675732        0.004576         0.000734\n",
      "0.97         0.629741          0.675377        0.004977         0.001928\n",
      "0.98         0.630308          0.675655        0.003893         0.001665\n",
      "0.99         0.629105          0.675998        0.004794         0.001655\n",
      "1.00         0.630478          0.675884        0.004471         0.001542\n"
     ]
    }
   ],
   "source": [
    "searchParam={'colsample_bytree':[0.94,0.95,0.96,0.97,0.98,0.99,1.0]}\n",
    "turnParams(lgbc,X_train,y_train,'auto',searchParam,params,scoring='roc_auc',cv=5);"
   ]
  },
  {
   "cell_type": "markdown",
   "metadata": {},
   "source": [
    "## 2.4 reg_alpha"
   ]
  },
  {
   "cell_type": "code",
   "execution_count": 59,
   "metadata": {
    "collapsed": false
   },
   "outputs": [
    {
     "name": "stdout",
     "output_type": "stream",
     "text": [
      "Best params:\n",
      "reg_alpha : 35\n",
      "Best score: 0.632301341607\n",
      "    mean_test_score  mean_train_score  std_test_score  std_train_score\n",
      "34         0.631638          0.670342        0.005283         0.002022\n",
      "35         0.632301          0.669847        0.004472         0.002171\n",
      "37         0.632182          0.669894        0.004128         0.002142\n",
      "40         0.631227          0.669532        0.004820         0.001925\n",
      "45         0.631414          0.668631        0.003969         0.001533\n",
      "50         0.631715          0.668237        0.005519         0.002020\n"
     ]
    }
   ],
   "source": [
    "searchParam={'reg_alpha':[34,35,37,40,45,50]}\n",
    "turnParams(lgbc,X_train,y_train,'auto',searchParam,params,scoring='roc_auc',cv=5);"
   ]
  },
  {
   "cell_type": "code",
   "execution_count": 61,
   "metadata": {
    "collapsed": false
   },
   "outputs": [
    {
     "name": "stdout",
     "output_type": "stream",
     "text": [
      "Best params:\n",
      "reg_alpha : 34.9\n",
      "Best score: 0.63236810376\n",
      "      mean_test_score  mean_train_score  std_test_score  std_train_score\n",
      "34.5         0.631570          0.670470        0.003887         0.002135\n",
      "34.7         0.631317          0.670002        0.004823         0.002176\n",
      "34.9         0.632368          0.669686        0.004401         0.002100\n",
      "35.0         0.632301          0.669847        0.004472         0.002171\n",
      "35.1         0.632081          0.669987        0.004149         0.001905\n",
      "35.3         0.632222          0.669975        0.003611         0.001881\n",
      "35.5         0.632075          0.669895        0.003405         0.001879\n"
     ]
    }
   ],
   "source": [
    "searchParam={'reg_alpha':[34.5,34.7,34.9,35,35.1,35.3,35.5]}\n",
    "turnParams(lgbc,X_train,y_train,'auto',searchParam,params,scoring='roc_auc',cv=5);"
   ]
  },
  {
   "cell_type": "markdown",
   "metadata": {},
   "source": [
    "## 2.5 reg_lambda"
   ]
  },
  {
   "cell_type": "code",
   "execution_count": 62,
   "metadata": {
    "collapsed": false
   },
   "outputs": [
    {
     "name": "stdout",
     "output_type": "stream",
     "text": [
      "Best params:\n",
      "reg_lambda : 0.01\n",
      "Best score: 0.632368313487\n",
      "        mean_test_score  mean_train_score  std_test_score  std_train_score\n",
      "0.0001         0.632368          0.669686        0.004401           0.0021\n",
      "0.0005         0.632368          0.669686        0.004401           0.0021\n",
      "0.0010         0.632368          0.669686        0.004401           0.0021\n",
      "0.0020         0.632368          0.669686        0.004401           0.0021\n",
      "0.0030         0.632368          0.669686        0.004401           0.0021\n",
      "0.0050         0.632368          0.669686        0.004401           0.0021\n",
      "0.0100         0.632368          0.669685        0.004401           0.0021\n"
     ]
    }
   ],
   "source": [
    "searchParam={'reg_lambda':[1e-4,5e-4,1e-3,2e-3,3e-3,5e-3,0.01]}\n",
    "turnParams(lgbc,X_train,y_train,'auto',searchParam,params,scoring='roc_auc',cv=5);"
   ]
  },
  {
   "cell_type": "code",
   "execution_count": 63,
   "metadata": {
    "collapsed": false
   },
   "outputs": [
    {
     "name": "stdout",
     "output_type": "stream",
     "text": [
      "Best params:\n",
      "reg_lambda : 5\n",
      "Best score: 0.632814713914\n",
      "       mean_test_score  mean_train_score  std_test_score  std_train_score\n",
      "0.009         0.632368          0.669685        0.004401         0.002100\n",
      "0.010         0.632368          0.669685        0.004401         0.002100\n",
      "0.011         0.632368          0.669685        0.004401         0.002100\n",
      "0.050         0.632369          0.669684        0.004401         0.002100\n",
      "0.100         0.632370          0.669682        0.004401         0.002100\n",
      "1.000         0.631707          0.669677        0.003786         0.001695\n",
      "5.000         0.632815          0.670106        0.004375         0.001130\n"
     ]
    }
   ],
   "source": [
    "searchParam={'reg_lambda':[0.009,0.01,0.011,0.05,0.1,1,5]}\n",
    "turnParams(lgbc,X_train,y_train,'auto',searchParam,params,scoring='roc_auc',cv=5);"
   ]
  },
  {
   "cell_type": "code",
   "execution_count": 64,
   "metadata": {
    "collapsed": false
   },
   "outputs": [
    {
     "name": "stdout",
     "output_type": "stream",
     "text": [
      "Best params:\n",
      "reg_lambda : 4\n",
      "Best score: 0.633417963398\n",
      "    mean_test_score  mean_train_score  std_test_score  std_train_score\n",
      "4          0.633418          0.670026        0.005780         0.001461\n",
      "5          0.632815          0.670106        0.004375         0.001130\n",
      "6          0.633379          0.670056        0.004339         0.001257\n",
      "8          0.632365          0.669502        0.005442         0.001389\n",
      "10         0.632487          0.669258        0.004587         0.001784\n",
      "15         0.632015          0.668896        0.005129         0.001847\n"
     ]
    }
   ],
   "source": [
    "searchParam={'reg_lambda':[4,5,6,8,10,15]}\n",
    "turnParams(lgbc,X_train,y_train,'auto',searchParam,params,scoring='roc_auc',cv=5);"
   ]
  },
  {
   "cell_type": "code",
   "execution_count": 65,
   "metadata": {
    "collapsed": false
   },
   "outputs": [
    {
     "name": "stdout",
     "output_type": "stream",
     "text": [
      "Best params:\n",
      "reg_lambda : 4\n",
      "Best score: 0.633417963398\n",
      "     mean_test_score  mean_train_score  std_test_score  std_train_score\n",
      "1.5         0.632809          0.670051        0.005481         0.001093\n",
      "2.0         0.632877          0.669828        0.005634         0.001804\n",
      "2.5         0.632908          0.669982        0.005716         0.001298\n",
      "3.0         0.632690          0.669957        0.005831         0.001392\n",
      "3.5         0.632801          0.669672        0.005817         0.001478\n",
      "4.0         0.633418          0.670026        0.005780         0.001461\n",
      "4.5         0.632671          0.670176        0.004506         0.001172\n"
     ]
    }
   ],
   "source": [
    "searchParam={'reg_lambda':[1.5,2,2.5,3,3.5,4,4.5]}\n",
    "turnParams(lgbc,X_train,y_train,'auto',searchParam,params,scoring='roc_auc',cv=5);"
   ]
  },
  {
   "cell_type": "markdown",
   "metadata": {},
   "source": [
    "## 2.6 min_child_samples"
   ]
  },
  {
   "cell_type": "code",
   "execution_count": 66,
   "metadata": {
    "collapsed": false
   },
   "outputs": [
    {
     "name": "stdout",
     "output_type": "stream",
     "text": [
      "Best params:\n",
      "min_child_samples : 4\n",
      "Best score: 0.633788674578\n",
      "   mean_test_score  mean_train_score  std_test_score  std_train_score\n",
      "1         0.633418          0.670026        0.005780         0.001461\n",
      "2         0.633506          0.669978        0.005703         0.001423\n",
      "3         0.633581          0.669987        0.005726         0.001422\n",
      "4         0.633789          0.669960        0.005700         0.001424\n",
      "5         0.633315          0.669944        0.005974         0.001312\n",
      "6         0.633315          0.669945        0.005974         0.001312\n",
      "7         0.633279          0.669954        0.005915         0.001300\n"
     ]
    }
   ],
   "source": [
    "searchParam={'min_child_samples':[1,2,3,4,5,6,7]}\n",
    "turnParams(lgbc,X_train,y_train,'auto',searchParam,params,scoring='roc_auc',cv=5);"
   ]
  },
  {
   "cell_type": "markdown",
   "metadata": {},
   "source": [
    "## 2.7 min_child_weight"
   ]
  },
  {
   "cell_type": "code",
   "execution_count": 67,
   "metadata": {
    "collapsed": false
   },
   "outputs": [
    {
     "name": "stdout",
     "output_type": "stream",
     "text": [
      "Best params:\n",
      "min_child_weight : 0\n",
      "Best score: 0.633788674578\n",
      "         mean_test_score  mean_train_score  std_test_score  std_train_score\n",
      "0.00000         0.633789          0.669960        0.005700         0.001424\n",
      "0.00001         0.633789          0.669960        0.005700         0.001424\n",
      "0.00100         0.633789          0.669960        0.005700         0.001424\n",
      "0.10000         0.633789          0.669960        0.005700         0.001424\n",
      "0.50000         0.633789          0.669960        0.005700         0.001424\n",
      "1.00000         0.633565          0.669849        0.005948         0.001303\n",
      "3.00000         0.633776          0.669958        0.005629         0.001401\n",
      "5.00000         0.633764          0.669958        0.005621         0.001400\n"
     ]
    }
   ],
   "source": [
    "searchParam={'min_child_weight':[0,1e-5,1e-3,0.1,0.5,1.0,3.0,5.0]}\n",
    "turnParams(lgbc,X_train,y_train,'auto',searchParam,params,scoring='roc_auc',cv=5);"
   ]
  },
  {
   "cell_type": "markdown",
   "metadata": {},
   "source": [
    "## 2.9 min_split_gain"
   ]
  },
  {
   "cell_type": "code",
   "execution_count": 68,
   "metadata": {
    "collapsed": false
   },
   "outputs": [
    {
     "name": "stdout",
     "output_type": "stream",
     "text": [
      "Best params:\n",
      "min_split_gain : 0\n",
      "Best score: 0.633788674578\n",
      "     mean_test_score  mean_train_score  std_test_score  std_train_score\n",
      "0.0         0.633789          0.669960        0.005700         0.001424\n",
      "0.5         0.632046          0.669680        0.005772         0.001685\n",
      "0.9         0.632098          0.670028        0.005446         0.002101\n",
      "1.0         0.632370          0.669848        0.005234         0.001961\n",
      "1.1         0.632159          0.669805        0.005165         0.001971\n",
      "2.0         0.631430          0.669340        0.004839         0.002112\n",
      "3.0         0.632016          0.669354        0.004782         0.001545\n"
     ]
    }
   ],
   "source": [
    "searchParam={'min_split_gain':[0,0.5,0.9,1,1.1,2,3]}\n",
    "turnParams(lgbc,X_train,y_train,'auto',searchParam,params,scoring='roc_auc',cv=5);"
   ]
  },
  {
   "cell_type": "markdown",
   "metadata": {},
   "source": [
    "## 2.10 num_leaves"
   ]
  },
  {
   "cell_type": "code",
   "execution_count": 69,
   "metadata": {
    "collapsed": false
   },
   "outputs": [
    {
     "name": "stdout",
     "output_type": "stream",
     "text": [
      "Best params:\n",
      "num_leaves : 20\n",
      "Best score: 0.633624955583\n",
      "    mean_test_score  mean_train_score  std_test_score  std_train_score\n",
      "3          0.617844          0.622475        0.004015         0.001467\n",
      "5          0.624865          0.630266        0.005095         0.001420\n",
      "7          0.628424          0.635714        0.005198         0.001434\n",
      "9          0.629825          0.638636        0.005247         0.001637\n",
      "11         0.630481          0.641230        0.005560         0.001625\n",
      "15         0.631743          0.645533        0.006358         0.001581\n",
      "20         0.633625          0.650339        0.004975         0.001232\n"
     ]
    }
   ],
   "source": [
    "searchParam={'num_leaves':[3,5,7,9,11,15,20]}\n",
    "turnParams(lgbc,X_train,y_train,'auto',searchParam,params,scoring='roc_auc',cv=5);"
   ]
  },
  {
   "cell_type": "code",
   "execution_count": 74,
   "metadata": {
    "collapsed": false
   },
   "outputs": [
    {
     "name": "stdout",
     "output_type": "stream",
     "text": [
      "Best params:\n",
      "num_leaves : 45\n",
      "Best score: 0.634314138481\n",
      "    mean_test_score  mean_train_score  std_test_score  std_train_score\n",
      "45         0.634314          0.672581        0.004210         0.001167\n",
      "50         0.633585          0.677290        0.004555         0.001174\n",
      "55         0.633189          0.680651        0.005958         0.000497\n",
      "60         0.633988          0.683824        0.003933         0.001476\n",
      "70         0.633025          0.690767        0.005258         0.000674\n"
     ]
    }
   ],
   "source": [
    "searchParam={'num_leaves':[45,50,55,60,70]}\n",
    "turnParams(lgbc,X_train,y_train,'auto',searchParam,params,scoring='roc_auc',cv=5);"
   ]
  },
  {
   "cell_type": "code",
   "execution_count": 75,
   "metadata": {
    "collapsed": false
   },
   "outputs": [
    {
     "name": "stdout",
     "output_type": "stream",
     "text": [
      "Best params:\n",
      "num_leaves : 43\n",
      "Best score: 0.635063554422\n",
      "    mean_test_score  mean_train_score  std_test_score  std_train_score\n",
      "42         0.634286          0.670756        0.005760         0.001584\n",
      "43         0.635064          0.671192        0.004812         0.001026\n",
      "44         0.634135          0.671970        0.005335         0.001044\n",
      "45         0.634314          0.672581        0.004210         0.001167\n",
      "46         0.632515          0.672920        0.005396         0.001213\n",
      "47         0.634282          0.674088        0.005531         0.001218\n",
      "48         0.634131          0.675116        0.004992         0.001191\n"
     ]
    }
   ],
   "source": [
    "searchParam={'num_leaves':[42,43,44,45,46,47,48]}\n",
    "turnParams(lgbc,X_train,y_train,'auto',searchParam,params,scoring='roc_auc',cv=5);"
   ]
  },
  {
   "cell_type": "markdown",
   "metadata": {},
   "source": [
    "## 2.10 max_depth"
   ]
  },
  {
   "cell_type": "code",
   "execution_count": 76,
   "metadata": {
    "collapsed": false
   },
   "outputs": [
    {
     "name": "stdout",
     "output_type": "stream",
     "text": [
      "Best params:\n",
      "max_depth : 9\n",
      "Best score: 0.634726181982\n",
      "   mean_test_score  mean_train_score  std_test_score  std_train_score\n",
      "4         0.630042          0.644196        0.004323         0.002007\n",
      "5         0.630419          0.656036        0.004841         0.001883\n",
      "6         0.632439          0.666359        0.004774         0.001848\n",
      "7         0.633397          0.669067        0.004440         0.001732\n",
      "8         0.633954          0.669890        0.005184         0.000547\n",
      "9         0.634726          0.670847        0.005622         0.001123\n"
     ]
    }
   ],
   "source": [
    "searchParam={'max_depth':[4,5,6,7,8,9]}\n",
    "turnParams(lgbc,X_train,y_train,'auto',searchParam,params,scoring='roc_auc',cv=5);"
   ]
  },
  {
   "cell_type": "code",
   "execution_count": 77,
   "metadata": {
    "collapsed": false
   },
   "outputs": [
    {
     "name": "stdout",
     "output_type": "stream",
     "text": [
      "Best params:\n",
      "max_depth : 11\n",
      "Best score: 0.635202461354\n",
      "    mean_test_score  mean_train_score  std_test_score  std_train_score\n",
      "9          0.634726          0.670847        0.005622         0.001123\n",
      "10         0.635064          0.671192        0.004812         0.001026\n",
      "11         0.635202          0.671306        0.005949         0.000790\n"
     ]
    }
   ],
   "source": [
    "searchParam={'max_depth':[9,10,11]}\n",
    "turnParams(lgbc,X_train,y_train,'auto',searchParam,params,scoring='roc_auc',cv=5);"
   ]
  },
  {
   "cell_type": "code",
   "execution_count": 79,
   "metadata": {
    "collapsed": false
   },
   "outputs": [
    {
     "name": "stdout",
     "output_type": "stream",
     "text": [
      "Best params:\n",
      "max_depth : 11\n",
      "Best score: 0.635202461354\n",
      "    mean_test_score  mean_train_score  std_test_score  std_train_score\n",
      "11         0.635202          0.671306        0.005949         0.000790\n",
      "12         0.634670          0.671258        0.005977         0.000823\n",
      "13         0.634126          0.671008        0.005354         0.000895\n",
      "14         0.634222          0.671099        0.005305         0.000910\n",
      "15         0.634160          0.671111        0.005310         0.000908\n",
      "16         0.634134          0.671105        0.005335         0.000909\n",
      "17         0.634134          0.671105        0.005335         0.000909\n",
      "18         0.634134          0.671105        0.005335         0.000909\n",
      "19         0.634134          0.671105        0.005335         0.000909\n",
      "20         0.634134          0.671105        0.005335         0.000909\n"
     ]
    }
   ],
   "source": [
    "searchParam={'max_depth':[11,12,13,14,15,16,17,18,19,20]}\n",
    "turnParams(lgbc,X_train,y_train,'auto',searchParam,params,scoring='roc_auc',cv=5);"
   ]
  },
  {
   "cell_type": "markdown",
   "metadata": {},
   "source": [
    "## 2.11 lower learning_rate"
   ]
  },
  {
   "cell_type": "code",
   "execution_count": 80,
   "metadata": {
    "collapsed": false
   },
   "outputs": [
    {
     "name": "stdout",
     "output_type": "stream",
     "text": [
      "[20]\tcv_agg's auc: 0.621139 + 0.00307677\n",
      "[40]\tcv_agg's auc: 0.623833 + 0.00329456\n",
      "[60]\tcv_agg's auc: 0.626209 + 0.00379048\n",
      "[80]\tcv_agg's auc: 0.628595 + 0.00413835\n",
      "[100]\tcv_agg's auc: 0.630333 + 0.00432588\n",
      "[120]\tcv_agg's auc: 0.631667 + 0.00458017\n",
      "[140]\tcv_agg's auc: 0.632734 + 0.00470973\n",
      "[160]\tcv_agg's auc: 0.633844 + 0.00480791\n",
      "[180]\tcv_agg's auc: 0.634788 + 0.0047507\n",
      "[200]\tcv_agg's auc: 0.635628 + 0.0047541\n",
      "[220]\tcv_agg's auc: 0.636371 + 0.00472223\n",
      "[240]\tcv_agg's auc: 0.637023 + 0.00466543\n",
      "[260]\tcv_agg's auc: 0.637604 + 0.00459459\n",
      "[280]\tcv_agg's auc: 0.638 + 0.00463109\n",
      "[300]\tcv_agg's auc: 0.638391 + 0.00465878\n",
      "[320]\tcv_agg's auc: 0.638713 + 0.00473336\n",
      "[340]\tcv_agg's auc: 0.638944 + 0.00474056\n",
      "[360]\tcv_agg's auc: 0.639163 + 0.00480039\n",
      "[380]\tcv_agg's auc: 0.639397 + 0.00481488\n",
      "[400]\tcv_agg's auc: 0.639558 + 0.00480378\n",
      "[420]\tcv_agg's auc: 0.639741 + 0.0047657\n",
      "[440]\tcv_agg's auc: 0.639894 + 0.00470975\n",
      "[460]\tcv_agg's auc: 0.639973 + 0.00463453\n",
      "[480]\tcv_agg's auc: 0.639972 + 0.0045852\n",
      "[500]\tcv_agg's auc: 0.639989 + 0.00451211\n",
      "[520]\tcv_agg's auc: 0.640004 + 0.00450071\n",
      "[540]\tcv_agg's auc: 0.640047 + 0.00444922\n",
      "[560]\tcv_agg's auc: 0.640022 + 0.00442565\n",
      "[580]\tcv_agg's auc: 0.639994 + 0.00442305\n",
      "Best Iteration: 545\n",
      "Model report on trian:\n",
      "Train AUC:0.6953\n",
      "Model report on test:\n",
      "Test AUC:0.6413\n",
      "Test classifiction report:\n",
      "             precision    recall  f1-score   support\n",
      "\n",
      "          0       0.97      0.65      0.78    114704\n",
      "          1       0.06      0.54      0.10      4339\n",
      "\n",
      "avg / total       0.94      0.64      0.75    119043\n",
      "\n",
      "Test confusion matrix:\n",
      "Confusion matrix, without normalization\n",
      "[[74402 40302]\n",
      " [ 1977  2362]]\n"
     ]
    },
    {
     "data": {
      "image/png": "[encoded data removed]",
      "text/plain": [
       "<matplotlib.figure.Figure at 0x2b10cdfac8>"
      ]
     },
     "metadata": {},
     "output_type": "display_data"
    },
    {
     "data": {
      "image/png": "[encoded data removed]",
      "text/plain": [
       "<matplotlib.figure.Figure at 0x2b10c720f0>"
      ]
     },
     "metadata": {},
     "output_type": "display_data"
    }
   ],
   "source": [
    "params['learning_rate']=0.01\n",
    "lgbc=lgb.LGBMClassifier(**params)\n",
    "get_lgb_params(params,cvparams,tran_table)\n",
    "feat_imp=modelfit(lgbc,X_train,y_train,X_test,y_test,'auto',cvparams,useTrainCV=True,cv_folds=5,early_stopping_rounds=50)"
   ]
  },
  {
   "cell_type": "code",
   "execution_count": 92,
   "metadata": {
    "collapsed": false
   },
   "outputs": [],
   "source": [
    "params['n_estimators']=545"
   ]
  },
  {
   "cell_type": "markdown",
   "metadata": {},
   "source": [
    "# 3 Final model"
   ]
  },
  {
   "cell_type": "code",
   "execution_count": 93,
   "metadata": {
    "collapsed": false
   },
   "outputs": [
    {
     "data": {
      "text/plain": [
       "{'boosting_type': 'gbdt',\n",
       " 'colsample_bytree': 1.0,\n",
       " 'is_unbalance': True,\n",
       " 'learning_rate': 0.01,\n",
       " 'max_bin': 255,\n",
       " 'max_depth': 11,\n",
       " 'min_child_samples': 4,\n",
       " 'min_child_weight': 0,\n",
       " 'min_split_gain': 0,\n",
       " 'n_estimators': 545,\n",
       " 'n_jobs': 4,\n",
       " 'num_leaves': 43,\n",
       " 'objective': 'binary',\n",
       " 'random_state': 9,\n",
       " 'reg_alpha': 34.9,\n",
       " 'reg_lambda': 4,\n",
       " 'subsample': 0.99,\n",
       " 'subsample_freq': 1}"
      ]
     },
     "execution_count": 93,
     "metadata": {},
     "output_type": "execute_result"
    }
   ],
   "source": [
    "params"
   ]
  },
  {
   "cell_type": "code",
   "execution_count": 94,
   "metadata": {
    "collapsed": true
   },
   "outputs": [],
   "source": [
    "lgbc_opt=lgb.LGBMClassifier(**params)"
   ]
  },
  {
   "cell_type": "markdown",
   "metadata": {},
   "source": [
    "### cv"
   ]
  },
  {
   "cell_type": "code",
   "execution_count": 95,
   "metadata": {
    "collapsed": false
   },
   "outputs": [
    {
     "name": "stdout",
     "output_type": "stream",
     "text": [
      "Best params:\n",
      "n_estimators : 545\n",
      "Best score: 0.640854373079\n",
      "     mean_test_score  mean_train_score  std_test_score  std_train_score\n",
      "545         0.640854          0.695048        0.002836         0.000717\n"
     ]
    }
   ],
   "source": [
    "searchParam={'n_estimators':[545]}\n",
    "turnParams(lgbc_opt,X,y,'auto',searchParam,params,scoring='roc_auc',cv=5);"
   ]
  },
  {
   "cell_type": "code",
   "execution_count": 96,
   "metadata": {
    "collapsed": false
   },
   "outputs": [
    {
     "data": {
      "text/plain": [
       "LGBMClassifier(boosting_type='gbdt', colsample_bytree=1.0, is_unbalance=True,\n",
       "        learning_rate=0.01, max_bin=255, max_depth=11, min_child_samples=4,\n",
       "        min_child_weight=0, min_split_gain=0, n_estimators=545, n_jobs=4,\n",
       "        num_leaves=43, objective='binary', random_state=9, reg_alpha=34.9,\n",
       "        reg_lambda=4, silent=True, subsample=0.99, subsample_for_bin=50000,\n",
       "        subsample_freq=1)"
      ]
     },
     "execution_count": 96,
     "metadata": {},
     "output_type": "execute_result"
    }
   ],
   "source": [
    "lgbc_opt.fit(X,y,feature_name=list(X.columns),categorical_feature='auto')"
   ]
  },
  {
   "cell_type": "code",
   "execution_count": 97,
   "metadata": {
    "collapsed": false
   },
   "outputs": [
    {
     "data": {
      "text/plain": [
       "['D:\\\\study\\\\Competition\\\\kaggle-PSSDP-20171014\\\\20171106_17LightGBM.pkl']"
      ]
     },
     "execution_count": 97,
     "metadata": {},
     "output_type": "execute_result"
    }
   ],
   "source": [
    "joblib.dump(lgbc_opt,r'D:\\study\\Competition\\kaggle-PSSDP-20171014\\20171106_17LightGBM.pkl')"
   ]
  },
  {
   "cell_type": "code",
   "execution_count": 98,
   "metadata": {
    "collapsed": true
   },
   "outputs": [],
   "source": [
    "pred_prob=lgbc_opt.predict_proba(X_predict)[:,1]"
   ]
  },
  {
   "cell_type": "code",
   "execution_count": 99,
   "metadata": {
    "collapsed": true
   },
   "outputs": [],
   "source": [
    "predict_result=pd.DataFrame({'id':test_df['id'].astype(int),'target':pd.Series(pred_prob,index=test_df['id'].index)})"
   ]
  },
  {
   "cell_type": "code",
   "execution_count": 102,
   "metadata": {
    "collapsed": false
   },
   "outputs": [
    {
     "data": {
      "text/html": [
       "<div>\n",
       "<table border=\"1\" class=\"dataframe\">\n",
       "  <thead>\n",
       "    <tr style=\"text-align: right;\">\n",
       "      <th></th>\n",
       "      <th>id</th>\n",
       "      <th>target</th>\n",
       "    </tr>\n",
       "  </thead>\n",
       "  <tbody>\n",
       "    <tr>\n",
       "      <th>0</th>\n",
       "      <td>0</td>\n",
       "      <td>0.404214</td>\n",
       "    </tr>\n",
       "    <tr>\n",
       "      <th>1</th>\n",
       "      <td>1</td>\n",
       "      <td>0.404432</td>\n",
       "    </tr>\n",
       "    <tr>\n",
       "      <th>2</th>\n",
       "      <td>2</td>\n",
       "      <td>0.429248</td>\n",
       "    </tr>\n",
       "    <tr>\n",
       "      <th>3</th>\n",
       "      <td>3</td>\n",
       "      <td>0.301466</td>\n",
       "    </tr>\n",
       "    <tr>\n",
       "      <th>4</th>\n",
       "      <td>4</td>\n",
       "      <td>0.495673</td>\n",
       "    </tr>\n",
       "  </tbody>\n",
       "</table>\n",
       "</div>"
      ],
      "text/plain": [
       "   id    target\n",
       "0   0  0.404214\n",
       "1   1  0.404432\n",
       "2   2  0.429248\n",
       "3   3  0.301466\n",
       "4   4  0.495673"
      ]
     },
     "execution_count": 102,
     "metadata": {},
     "output_type": "execute_result"
    }
   ],
   "source": [
    "predict_result.head()"
   ]
  },
  {
   "cell_type": "code",
   "execution_count": 101,
   "metadata": {
    "collapsed": true
   },
   "outputs": [],
   "source": [
    "predict_result.to_csv(r'D:\\study\\Competition\\kaggle-PSSDP-20171014\\20171106_17lgbm.csv',index=False)"
   ]
  },
  {
   "cell_type": "code",
   "execution_count": 172,
   "metadata": {
    "collapsed": false
   },
   "outputs": [
    {
     "data": {
      "text/plain": [
       "<matplotlib.axes._subplots.AxesSubplot at 0xc8011d27b8>"
      ]
     },
     "execution_count": 172,
     "metadata": {},
     "output_type": "execute_result"
    },
    {
     "data": {
      "image/png": "[encoded data removed]",
      "text/plain": [
       "<matplotlib.figure.Figure at 0xc802356a20>"
      ]
     },
     "metadata": {},
     "output_type": "display_data"
    }
   ],
   "source": [
    "sns.distplot(predict_result['target'])"
   ]
  },
  {
   "cell_type": "code",
   "execution_count": 173,
   "metadata": {
    "collapsed": false
   },
   "outputs": [
    {
     "data": {
      "text/plain": [
       "count    892816.000000\n",
       "mean          0.467750\n",
       "std           0.112784\n",
       "min           0.152381\n",
       "25%           0.386147\n",
       "50%           0.463037\n",
       "75%           0.543116\n",
       "max           0.893551\n",
       "Name: target, dtype: float64"
      ]
     },
     "execution_count": 173,
     "metadata": {},
     "output_type": "execute_result"
    }
   ],
   "source": [
    "predict_result['target'].describe()"
   ]
  },
  {
   "cell_type": "code",
   "execution_count": null,
   "metadata": {
    "collapsed": true
   },
   "outputs": [],
   "source": []
  }
 ],
 "metadata": {
  "kernelspec": {
   "display_name": "Python 3",
   "language": "python",
   "name": "python3"
  },
  "language_info": {
   "codemirror_mode": {
    "name": "ipython",
    "version": 3
   },
   "file_extension": ".py",
   "mimetype": "text/x-python",
   "name": "python",
   "nbconvert_exporter": "python",
   "pygments_lexer": "ipython3",
   "version": "3.6.0"
  }
 },
 "nbformat": 4,
 "nbformat_minor": 2
}
