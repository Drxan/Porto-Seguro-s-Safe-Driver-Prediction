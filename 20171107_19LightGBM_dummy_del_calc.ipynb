{
 "cells": [
  {
   "cell_type": "markdown",
   "metadata": {},
   "source": [
    "### （1）将所有分类变量做哑编码；\n",
    "###  （3）剔除方差为零的变量；\n",
    "###  （4）删除所有calc组内变量\n",
    "### （5）将所有特征合并，训练lgb模型"
   ]
  },
  {
   "cell_type": "code",
   "execution_count": 1,
   "metadata": {
    "collapsed": false
   },
   "outputs": [
    {
     "name": "stderr",
     "output_type": "stream",
     "text": [
      "C:\\ProgramData\\Anaconda3\\lib\\site-packages\\sklearn\\cross_validation.py:41: DeprecationWarning: This module was deprecated in version 0.18 in favor of the model_selection module into which all the refactored classes and functions are moved. Also note that the interface of the new CV iterators are different from that of this module. This module will be removed in 0.20.\n",
      "  \"This module will be removed in 0.20.\", DeprecationWarning)\n"
     ]
    }
   ],
   "source": [
    "import itertools\n",
    "import pandas as pd\n",
    "import numpy as np\n",
    "import matplotlib.pyplot as plt\n",
    "import seaborn as sns\n",
    "from sklearn.model_selection import train_test_split,GridSearchCV\n",
    "from xgboost.sklearn import XGBClassifier\n",
    "from sklearn.ensemble import RandomTreesEmbedding\n",
    "import xgboost as xgb\n",
    "from sklearn import metrics\n",
    "import lightgbm as lgb\n",
    "from copy import deepcopy\n",
    "from sklearn.externals import joblib\n",
    "from sklearn.preprocessing import OneHotEncoder\n",
    "import graphviz\n",
    "import win32com.client  \n",
    "import winsound  \n",
    "%matplotlib inline\n",
    "plt.rcParams['figure.figsize']=12,4"
   ]
  },
  {
   "cell_type": "code",
   "execution_count": 2,
   "metadata": {
    "collapsed": true
   },
   "outputs": [],
   "source": [
    "data_path=r'D:\\study\\Competition\\porto-sequro-safe-driver-prediction\\data'\n",
    "train_df=pd.read_csv(data_path+'\\\\train.csv',na_values=-1)\n",
    "test_df=pd.read_csv(data_path+'\\\\test.csv',na_values=-1)"
   ]
  },
  {
   "cell_type": "code",
   "execution_count": 3,
   "metadata": {
    "collapsed": true
   },
   "outputs": [],
   "source": [
    "#所有变量\n",
    "raw_features=[x for x in train_df.columns if x not in ['id','target']]\n",
    "#所有二元变量\n",
    "bin_features=[feat for feat in train_df.columns if 'bin' in feat]\n",
    "#所有的分类变量\n",
    "cat_features=[feat for feat in train_df.columns if 'cat' in feat]\n",
    "#所有calc变量\n",
    "calc_features=[feat for feat in train_df.columns if 'calc' in feat]"
   ]
  },
  {
   "cell_type": "markdown",
   "metadata": {},
   "source": [
    "### 删除所有calc组内变量"
   ]
  },
  {
   "cell_type": "code",
   "execution_count": 4,
   "metadata": {
    "collapsed": false
   },
   "outputs": [],
   "source": [
    "train_df.drop(calc_features,axis=1,inplace=True)\n",
    "test_df.drop(calc_features,axis=1,inplace=True)"
   ]
  },
  {
   "cell_type": "code",
   "execution_count": 5,
   "metadata": {
    "collapsed": true
   },
   "outputs": [],
   "source": [
    "raw_features=[x for x in train_df.columns if x not in ['id','target']]"
   ]
  },
  {
   "cell_type": "code",
   "execution_count": 6,
   "metadata": {
    "collapsed": false
   },
   "outputs": [
    {
     "data": {
      "text/html": [
       "<div>\n",
       "<table border=\"1\" class=\"dataframe\">\n",
       "  <thead>\n",
       "    <tr style=\"text-align: right;\">\n",
       "      <th></th>\n",
       "      <th>id</th>\n",
       "      <th>target</th>\n",
       "      <th>ps_ind_01</th>\n",
       "      <th>ps_ind_02_cat</th>\n",
       "      <th>ps_ind_03</th>\n",
       "      <th>ps_ind_04_cat</th>\n",
       "      <th>ps_ind_05_cat</th>\n",
       "      <th>ps_ind_06_bin</th>\n",
       "      <th>ps_ind_07_bin</th>\n",
       "      <th>ps_ind_08_bin</th>\n",
       "      <th>...</th>\n",
       "      <th>ps_car_07_cat</th>\n",
       "      <th>ps_car_08_cat</th>\n",
       "      <th>ps_car_09_cat</th>\n",
       "      <th>ps_car_10_cat</th>\n",
       "      <th>ps_car_11_cat</th>\n",
       "      <th>ps_car_11</th>\n",
       "      <th>ps_car_12</th>\n",
       "      <th>ps_car_13</th>\n",
       "      <th>ps_car_14</th>\n",
       "      <th>ps_car_15</th>\n",
       "    </tr>\n",
       "  </thead>\n",
       "  <tbody>\n",
       "    <tr>\n",
       "      <th>0</th>\n",
       "      <td>7</td>\n",
       "      <td>0</td>\n",
       "      <td>2</td>\n",
       "      <td>2.0</td>\n",
       "      <td>5</td>\n",
       "      <td>1.0</td>\n",
       "      <td>0.0</td>\n",
       "      <td>0</td>\n",
       "      <td>1</td>\n",
       "      <td>0</td>\n",
       "      <td>...</td>\n",
       "      <td>1.0</td>\n",
       "      <td>0</td>\n",
       "      <td>0.0</td>\n",
       "      <td>1</td>\n",
       "      <td>12</td>\n",
       "      <td>2.0</td>\n",
       "      <td>0.400000</td>\n",
       "      <td>0.883679</td>\n",
       "      <td>0.370810</td>\n",
       "      <td>3.605551</td>\n",
       "    </tr>\n",
       "    <tr>\n",
       "      <th>1</th>\n",
       "      <td>9</td>\n",
       "      <td>0</td>\n",
       "      <td>1</td>\n",
       "      <td>1.0</td>\n",
       "      <td>7</td>\n",
       "      <td>0.0</td>\n",
       "      <td>0.0</td>\n",
       "      <td>0</td>\n",
       "      <td>0</td>\n",
       "      <td>1</td>\n",
       "      <td>...</td>\n",
       "      <td>1.0</td>\n",
       "      <td>1</td>\n",
       "      <td>2.0</td>\n",
       "      <td>1</td>\n",
       "      <td>19</td>\n",
       "      <td>3.0</td>\n",
       "      <td>0.316228</td>\n",
       "      <td>0.618817</td>\n",
       "      <td>0.388716</td>\n",
       "      <td>2.449490</td>\n",
       "    </tr>\n",
       "    <tr>\n",
       "      <th>2</th>\n",
       "      <td>13</td>\n",
       "      <td>0</td>\n",
       "      <td>5</td>\n",
       "      <td>4.0</td>\n",
       "      <td>9</td>\n",
       "      <td>1.0</td>\n",
       "      <td>0.0</td>\n",
       "      <td>0</td>\n",
       "      <td>0</td>\n",
       "      <td>1</td>\n",
       "      <td>...</td>\n",
       "      <td>1.0</td>\n",
       "      <td>1</td>\n",
       "      <td>2.0</td>\n",
       "      <td>1</td>\n",
       "      <td>60</td>\n",
       "      <td>1.0</td>\n",
       "      <td>0.316228</td>\n",
       "      <td>0.641586</td>\n",
       "      <td>0.347275</td>\n",
       "      <td>3.316625</td>\n",
       "    </tr>\n",
       "  </tbody>\n",
       "</table>\n",
       "<p>3 rows × 39 columns</p>\n",
       "</div>"
      ],
      "text/plain": [
       "   id  target  ps_ind_01  ps_ind_02_cat  ps_ind_03  ps_ind_04_cat  \\\n",
       "0   7       0          2            2.0          5            1.0   \n",
       "1   9       0          1            1.0          7            0.0   \n",
       "2  13       0          5            4.0          9            1.0   \n",
       "\n",
       "   ps_ind_05_cat  ps_ind_06_bin  ps_ind_07_bin  ps_ind_08_bin    ...      \\\n",
       "0            0.0              0              1              0    ...       \n",
       "1            0.0              0              0              1    ...       \n",
       "2            0.0              0              0              1    ...       \n",
       "\n",
       "   ps_car_07_cat  ps_car_08_cat  ps_car_09_cat  ps_car_10_cat  ps_car_11_cat  \\\n",
       "0            1.0              0            0.0              1             12   \n",
       "1            1.0              1            2.0              1             19   \n",
       "2            1.0              1            2.0              1             60   \n",
       "\n",
       "   ps_car_11  ps_car_12  ps_car_13  ps_car_14  ps_car_15  \n",
       "0        2.0   0.400000   0.883679   0.370810   3.605551  \n",
       "1        3.0   0.316228   0.618817   0.388716   2.449490  \n",
       "2        1.0   0.316228   0.641586   0.347275   3.316625  \n",
       "\n",
       "[3 rows x 39 columns]"
      ]
     },
     "execution_count": 6,
     "metadata": {},
     "output_type": "execute_result"
    }
   ],
   "source": [
    "train_df.head(3)"
   ]
  },
  {
   "cell_type": "markdown",
   "metadata": {},
   "source": [
    "### One_Hot_Encoding"
   ]
  },
  {
   "cell_type": "code",
   "execution_count": 7,
   "metadata": {
    "collapsed": true
   },
   "outputs": [],
   "source": [
    "def get_dummy_feat(train_df,test_df,cat_features):\n",
    "    oht_feat=pd.get_dummies(train_df[cat_features].append(test_df[cat_features]),columns=cat_features,dummy_na=True)\n",
    "    train_df=train_df.join(oht_feat.iloc[0:train_df.shape[0]])\n",
    "    test_df=test_df.join(oht_feat.iloc[train_df.shape[0]:])\n",
    "    return train_df,test_df"
   ]
  },
  {
   "cell_type": "code",
   "execution_count": 8,
   "metadata": {
    "collapsed": false
   },
   "outputs": [],
   "source": [
    "train_df,test_df=get_dummy_feat(train_df,test_df,cat_features)"
   ]
  },
  {
   "cell_type": "markdown",
   "metadata": {},
   "source": [
    "### 方差为0（或取值唯一）的变量"
   ]
  },
  {
   "cell_type": "code",
   "execution_count": 9,
   "metadata": {
    "collapsed": false
   },
   "outputs": [],
   "source": [
    "useless_feats=list(train_df.columns[train_df.var()==0])"
   ]
  },
  {
   "cell_type": "code",
   "execution_count": 10,
   "metadata": {
    "collapsed": true
   },
   "outputs": [],
   "source": [
    "use_features=[x for x in train_df.columns if x not in ['id','target']+cat_features+useless_feats]"
   ]
  },
  {
   "cell_type": "code",
   "execution_count": 11,
   "metadata": {
    "collapsed": true
   },
   "outputs": [],
   "source": [
    "X=train_df[use_features]\n",
    "y=train_df['target']\n",
    "\n",
    "X_predict=test_df[use_features]"
   ]
  },
  {
   "cell_type": "code",
   "execution_count": 12,
   "metadata": {
    "collapsed": true
   },
   "outputs": [],
   "source": [
    "X_train,X_test,y_train,y_test=train_test_split(X,y,test_size=0.20,stratify=y,random_state=9)"
   ]
  },
  {
   "cell_type": "markdown",
   "metadata": {},
   "source": [
    "# 1 Base line"
   ]
  },
  {
   "cell_type": "code",
   "execution_count": 15,
   "metadata": {
    "collapsed": false
   },
   "outputs": [],
   "source": [
    "def gini(actual, pred, cmpcol = 0, sortcol = 1):\n",
    "    assert( len(actual) == len(pred) )\n",
    "    all = np.asarray(np.c_[ actual, pred, np.arange(len(actual)) ], dtype=np.float)\n",
    "    all = all[ np.lexsort((all[:,2], -1*all[:,1])) ]\n",
    "    totalLosses = all[:,0].sum()\n",
    "    giniSum = all[:,0].cumsum().sum() / totalLosses\n",
    " \n",
    "    giniSum -= (len(actual) + 1) / 2.\n",
    "    return giniSum / len(actual)\n",
    "\n",
    "def softmax(x):\n",
    "    \"\"\"Compute softmax values for each sets of scores in x.\"\"\"\n",
    "    e_x = np.exp(x - np.max(x))\n",
    "    return e_x / e_x.sum() \n",
    "\n",
    "def gini_normalized(preds,dtrain):\n",
    "    y=dtrain.get_label()\n",
    "    preds=softmax(preds)\n",
    "    return 'NormGini',gini(y, preds) / gini(y, y),True\n",
    "\n",
    "def gini_normalized_ordinary(y,preds):\n",
    "    return gini(y, preds) / gini(y, y)\n",
    "\n",
    "def modelfit(alg,X,y,X_test,y_test,cat_features,cvparams,folds=None,useTrainCV=True,cv_folds=5,early_stopping_rounds=30):\n",
    "    feature_names=list(X.columns)\n",
    "    if useTrainCV==True:\n",
    "        dtrain=lgb.Dataset(X, label=y, max_bin=255, reference=None, \n",
    "                           weight=None, group=None, silent=False, feature_name=feature_names,\n",
    "                            categorical_feature=cat_features,params=None, free_raw_data=True)\n",
    "        cvresult=lgb.cv(cvparams,dtrain,num_boost_round=50000,folds=folds,nfold=cv_folds,stratified=True,\n",
    "                        metrics='auc',feature_name=feature_names,categorical_feature=cat_features,early_stopping_rounds=early_stopping_rounds,\n",
    "                        verbose_eval=20,show_stdv =True,seed=9)\n",
    "        #,feval=gini_normalized\n",
    "        alg.set_params(n_estimators=len(cvresult['auc-mean']))\n",
    "        print('Best Iteration:',len(cvresult['auc-mean']))\n",
    "        \n",
    "    alg.fit(X,y,eval_metric='auc',feature_name=feature_names,categorical_feature=cat_features)\n",
    "    \n",
    "    #Predict training set:\n",
    "    dtrain_predictions=alg.predict(X)\n",
    "    dtrain_predprob=alg.predict_proba(X)[:,1]\n",
    "    \n",
    "    #pPredict test set:\n",
    "    dtest_predictions=alg.predict(X_test)\n",
    "    dtest_predprob=alg.predict_proba(X_test)[:,1]\n",
    "    \n",
    "    #Print Mode report:\n",
    "    print('Model report on trian:')\n",
    "    #print('Train Accuracy:{0:.4f}'.format(metrics.accuracy_score(y,dtrain_predictions)))\n",
    "    print('Train AUC:{0:.4f}'.format(metrics.roc_auc_score(y,dtrain_predprob)))\n",
    "    #print('Train Normalized GINI：{0:.6f}'.format(gini_normalized_ordinary(y,dtrain_predprob)))\n",
    "    print('Model report on test:')\n",
    "    #print('Test Accuracy:{0:.4f}'.format(metrics.accuracy_score(y_test,dtest_predictions)))\n",
    "    print('Test AUC:{0:.4f}'.format(metrics.roc_auc_score(y_test,dtest_predprob)))\n",
    "    #print('Test Normalized GINI：{0：.6f}'.format(gini_normalized_ordinary(y,dtest_predprob)))\n",
    "    print('Test classifiction report:')\n",
    "    print(metrics.classification_report(y_test,dtest_predictions))\n",
    "    print('Test confusion matrix:')\n",
    "    plt.figure()\n",
    "    with sns.axes_style(style='dark'):\n",
    "        plot_confusion_matrix(metrics.confusion_matrix(y_test,dtest_predictions),classes=['0','1'],\n",
    "                             title='Confusion Matrix')\n",
    "    \n",
    "    feat_imp=pd.Series(alg.feature_importances_,index=X.columns).sort_values(ascending=True)\n",
    "    #plt.figure()\n",
    "    #feat_imp.plot(kind='barh',title='Feature Importances',color='green')\n",
    "    #plt.ylabel('Feature Importance Score')\n",
    "    lgb.plot_importance(alg,importance_type='split')\n",
    "    return feat_imp\n",
    "\n",
    "def turnParams(model,X,y,cat_features,searchParam,modelparams,scoring='roc_auc',cv=5):\n",
    "    gsc=GridSearchCV(estimator=model.__class__(**modelparams),param_grid=searchParam,scoring=scoring,\n",
    "                    iid=False,cv=cv)\n",
    "    gsc.fit(X,y,eval_metric='auc',categorical_feature=cat_features)\n",
    "    param_name=list(searchParam.keys())[0]\n",
    "    columns=[p[param_name] for p in gsc.cv_results_['params']]\n",
    "    cv_scores=pd.DataFrame([gsc.cv_results_['mean_test_score'],\n",
    "                            gsc.cv_results_['mean_train_score'],\n",
    "                            gsc.cv_results_['std_test_score'],\n",
    "                            gsc.cv_results_['std_train_score']],\n",
    "                            index=['mean_test_score','mean_train_score','std_test_score','std_train_score'],\n",
    "                            columns=columns).T\n",
    "    #cv_scores.index.name=param_name\n",
    "    for param in gsc.best_params_.keys():\n",
    "        modelparams[param]=gsc.best_params_[param]\n",
    "    print('Best params:')\n",
    "    for param in gsc.best_params_.keys():\n",
    "        print(param,':',gsc.best_params_[param])\n",
    "    print('Best score:',gsc.best_score_)\n",
    "    print(cv_scores)\n",
    "    speak = win32com.client.Dispatch('SAPI.SPVOICE')  \n",
    "    winsound.Beep(20170, 800)  \n",
    "    speak.Speak('程序运行完毕!')\n",
    "    \n",
    "def plot_confusion_matrix(cm, classes,\n",
    "                          normalize=False,\n",
    "                          title='Confusion matrix',\n",
    "                          cmap=plt.cm.Blues):\n",
    "    \"\"\"\n",
    "    This function prints and plots the confusion matrix.\n",
    "    Normalization can be applied by setting `normalize=True`.\n",
    "    \"\"\"\n",
    "    if normalize:\n",
    "        cm = cm.astype('float') / cm.sum(axis=1)[:, np.newaxis]\n",
    "        print(\"Normalized confusion matrix\")\n",
    "    else:\n",
    "        print('Confusion matrix, without normalization')\n",
    "\n",
    "    print(cm)\n",
    "\n",
    "    plt.imshow(cm, interpolation='nearest', cmap=cmap)\n",
    "    plt.title(title)\n",
    "    plt.colorbar()\n",
    "    tick_marks = np.arange(len(classes))\n",
    "    plt.xticks(tick_marks, classes, rotation=45)\n",
    "    plt.yticks(tick_marks, classes)\n",
    "\n",
    "    fmt = '.2f' if normalize else 'd'\n",
    "    thresh = cm.max() / 2.\n",
    "    for i, j in itertools.product(range(cm.shape[0]), range(cm.shape[1])):\n",
    "        plt.text(j, i, format(cm[i, j], fmt),\n",
    "                 horizontalalignment=\"center\",\n",
    "                 color=\"white\" if cm[i, j] > thresh else \"black\")\n",
    "\n",
    "    plt.tight_layout()\n",
    "    plt.ylabel('True label')\n",
    "    plt.xlabel('Predicted label')"
   ]
  },
  {
   "cell_type": "code",
   "execution_count": 16,
   "metadata": {
    "collapsed": true
   },
   "outputs": [],
   "source": [
    "params={'boosting_type':'gbdt',\n",
    "        'num_leaves':50,\n",
    "        'max_depth':20,\n",
    "        'learning_rate':0.2,\n",
    "        'n_estimators':100,\n",
    "        'max_bin':255,\n",
    "        'objective':'binary',\n",
    "        'min_split_gain':0,\n",
    "        'min_child_weight':0,\n",
    "        'min_child_samples':1,\n",
    "        'subsample':1.0,\n",
    "        'subsample_freq':1,\n",
    "        'colsample_bytree':1.0,\n",
    "        'reg_alpha':0,\n",
    "        'reg_lambda':0,\n",
    "        'random_state':9,\n",
    "        'n_jobs':4,\n",
    "        'is_unbalance':True,\n",
    "       }\n",
    "\n",
    "cvparams={'boosting_type':'gbdt',\n",
    "        'num_leaves':20,\n",
    "        'max_depth':6,\n",
    "        'learning_rate':0.2,\n",
    "        'max_bin':255,\n",
    "        'objective':'binary',\n",
    "        'min_gain_to_split':0,\n",
    "        'min_sum_hessian_in_leaf':0,\n",
    "        'min_data_in_leaf':1,\n",
    "        'bagging_fraction':1.0,\n",
    "        'bagging_freq':1,\n",
    "        'feature_fraction':1.0,\n",
    "        'lambda_l1':0,\n",
    "        'lambda_l2':0,\n",
    "        'num_threads':4,\n",
    "        'is_unbalance':True,\n",
    "       }\n",
    "#在sklaearn接口中，参数名称发生了变化，需要进行映射\n",
    "tran_table={ 'min_split_gain':'min_gain_to_split',\n",
    "             'min_child_weight':'min_sum_hessian_in_leaf',\n",
    "             'min_child_samples':'min_data_in_leaf',\n",
    "             'subsample':'bagging_fraction',\n",
    "             'subsample_freq':'bagging_freq',\n",
    "             'colsample_bytree':'feature_fraction',\n",
    "             'reg_alpha':'lambda_l1',\n",
    "             'reg_lambda':'lambda_l2',\n",
    "             'n_jobs':'num_threads',\n",
    "            \n",
    "             'boosting_type':'boosting_type',\n",
    "             'num_leaves':'num_leaves',\n",
    "             'max_depth':'max_depth',\n",
    "             'learning_rate':'learning_rate',\n",
    "             'max_bin':'max_bin',\n",
    "             'objective':'objective',\n",
    "             'is_unbalance':'is_unbalance'}\n",
    "def get_lgb_params(sklearn_params,cvparams,tran_table):\n",
    "    for sklearn_param,lgb_param in tran_table.items():\n",
    "        cvparams[lgb_param]=sklearn_params[sklearn_param]"
   ]
  },
  {
   "cell_type": "code",
   "execution_count": 17,
   "metadata": {
    "collapsed": true
   },
   "outputs": [],
   "source": [
    "lgbc=lgb.LGBMClassifier(**params)"
   ]
  },
  {
   "cell_type": "code",
   "execution_count": 18,
   "metadata": {
    "collapsed": false
   },
   "outputs": [
    {
     "name": "stdout",
     "output_type": "stream",
     "text": [
      "[20]\tcv_agg's auc: 0.633544 + 0.00387579\n",
      "[40]\tcv_agg's auc: 0.627646 + 0.00371555\n",
      "[60]\tcv_agg's auc: 0.622973 + 0.00363894\n",
      "Best Iteration: 18\n",
      "Model report on trian:\n",
      "Train AUC:0.6824\n",
      "Model report on test:\n",
      "Test AUC:0.6356\n",
      "Test classifiction report:\n",
      "             precision    recall  f1-score   support\n",
      "\n",
      "          0       0.97      0.64      0.77    114704\n",
      "          1       0.05      0.55      0.10      4339\n",
      "\n",
      "avg / total       0.94      0.63      0.74    119043\n",
      "\n",
      "Test confusion matrix:\n",
      "Confusion matrix, without normalization\n",
      "[[72936 41768]\n",
      " [ 1951  2388]]\n"
     ]
    },
    {
     "data": {
      "image/png": "[encoded data removed]",
      "text/plain": [
       "<matplotlib.figure.Figure at 0xc933998ac8>"
      ]
     },
     "metadata": {},
     "output_type": "display_data"
    },
    {
     "data": {
      "image/png": "[encoded data removed]",
      "text/plain": [
       "<matplotlib.figure.Figure at 0xc901897198>"
      ]
     },
     "metadata": {},
     "output_type": "display_data"
    }
   ],
   "source": [
    "get_lgb_params(lgbc.get_params(),cvparams,tran_table)\n",
    "\n",
    "feat_imp=modelfit(lgbc,X_train,y_train,X_test,y_test,'auto',cvparams,useTrainCV=True,cv_folds=5,early_stopping_rounds=50)"
   ]
  },
  {
   "cell_type": "code",
   "execution_count": 19,
   "metadata": {
    "collapsed": true
   },
   "outputs": [],
   "source": [
    "params['n_estimators']=18"
   ]
  },
  {
   "cell_type": "markdown",
   "metadata": {},
   "source": [
    "# 2 Tune params"
   ]
  },
  {
   "cell_type": "code",
   "execution_count": 20,
   "metadata": {
    "collapsed": true
   },
   "outputs": [],
   "source": [
    "#不重要的警告信息不予显示\n",
    "import warnings\n",
    "warnings.filterwarnings(\"ignore\")"
   ]
  },
  {
   "cell_type": "markdown",
   "metadata": {},
   "source": [
    "## 2.1 subsample"
   ]
  },
  {
   "cell_type": "code",
   "execution_count": 21,
   "metadata": {
    "collapsed": false
   },
   "outputs": [
    {
     "name": "stdout",
     "output_type": "stream",
     "text": [
      "Best params:\n",
      "subsample : 1.0\n",
      "Best score: 0.634458424815\n",
      "      mean_test_score  mean_train_score  std_test_score  std_train_score\n",
      "0.95         0.632901          0.690092        0.005243         0.000808\n",
      "0.96         0.633659          0.689744        0.004854         0.001511\n",
      "0.97         0.633506          0.689890        0.004247         0.001209\n",
      "0.98         0.632630          0.690364        0.005006         0.001187\n",
      "0.99         0.634280          0.689802        0.004710         0.001412\n",
      "1.00         0.634458          0.690993        0.004603         0.000739\n"
     ]
    }
   ],
   "source": [
    "searchParam={'subsample':[0.95,0.96,0.97,0.98,0.99,1.0]}\n",
    "turnParams(lgbc,X_train,y_train,'auto',searchParam,params,scoring='roc_auc',cv=5);"
   ]
  },
  {
   "cell_type": "markdown",
   "metadata": {},
   "source": [
    "## 2.3 colsample_bytree"
   ]
  },
  {
   "cell_type": "code",
   "execution_count": 22,
   "metadata": {
    "collapsed": false
   },
   "outputs": [
    {
     "name": "stdout",
     "output_type": "stream",
     "text": [
      "Best params:\n",
      "colsample_bytree : 0.7\n",
      "Best score: 0.635274292364\n",
      "     mean_test_score  mean_train_score  std_test_score  std_train_score\n",
      "0.1         0.623212          0.654760        0.004008         0.001035\n",
      "0.3         0.630613          0.678089        0.004301         0.001275\n",
      "0.5         0.633833          0.684757        0.004595         0.001194\n",
      "0.7         0.635274          0.686527        0.004187         0.000932\n",
      "0.9         0.634752          0.689611        0.006136         0.000954\n",
      "1.0         0.634458          0.690993        0.004603         0.000739\n"
     ]
    }
   ],
   "source": [
    "searchParam={'colsample_bytree':[0.1,0.3,0.5,0.7,0.9,1.0]}\n",
    "turnParams(lgbc,X_train,y_train,'auto',searchParam,params,scoring='roc_auc',cv=5);"
   ]
  },
  {
   "cell_type": "code",
   "execution_count": 23,
   "metadata": {
    "collapsed": false
   },
   "outputs": [
    {
     "name": "stdout",
     "output_type": "stream",
     "text": [
      "Best params:\n",
      "colsample_bytree : 0.8\n",
      "Best score: 0.635860533441\n",
      "      mean_test_score  mean_train_score  std_test_score  std_train_score\n",
      "0.55         0.635278          0.684818        0.004731         0.001522\n",
      "0.60         0.634656          0.685800        0.004326         0.000774\n",
      "0.65         0.635012          0.685914        0.005657         0.001493\n",
      "0.70         0.635274          0.686527        0.004187         0.000932\n",
      "0.75         0.634870          0.687312        0.005049         0.000953\n",
      "0.80         0.635861          0.688163        0.005502         0.000667\n",
      "0.85         0.634785          0.688805        0.004671         0.000931\n"
     ]
    }
   ],
   "source": [
    "searchParam={'colsample_bytree':[0.55,0.6,0.65,0.7,0.75,0.8,0.85]}\n",
    "turnParams(lgbc,X_train,y_train,'auto',searchParam,params,scoring='roc_auc',cv=5);"
   ]
  },
  {
   "cell_type": "code",
   "execution_count": 24,
   "metadata": {
    "collapsed": false
   },
   "outputs": [
    {
     "name": "stdout",
     "output_type": "stream",
     "text": [
      "Best params:\n",
      "colsample_bytree : 0.8\n",
      "Best score: 0.635860533441\n",
      "      mean_test_score  mean_train_score  std_test_score  std_train_score\n",
      "0.77         0.634233          0.687142        0.003522         0.001433\n",
      "0.79         0.634659          0.687753        0.005411         0.001258\n",
      "0.80         0.635861          0.688163        0.005502         0.000667\n",
      "0.81         0.634651          0.687925        0.005519         0.001224\n",
      "0.83         0.634613          0.688230        0.005320         0.000757\n"
     ]
    }
   ],
   "source": [
    "searchParam={'colsample_bytree':[0.77,0.79,0.8,0.81,0.83]}\n",
    "turnParams(lgbc,X_train,y_train,'auto',searchParam,params,scoring='roc_auc',cv=5);"
   ]
  },
  {
   "cell_type": "markdown",
   "metadata": {},
   "source": [
    "## 2.4 reg_alpha"
   ]
  },
  {
   "cell_type": "code",
   "execution_count": 25,
   "metadata": {
    "collapsed": false
   },
   "outputs": [
    {
     "name": "stdout",
     "output_type": "stream",
     "text": [
      "Best params:\n",
      "reg_alpha : 41\n",
      "Best score: 0.637083824402\n",
      "    mean_test_score  mean_train_score  std_test_score  std_train_score\n",
      "35         0.636103          0.681553        0.005656         0.001089\n",
      "37         0.635116          0.680363        0.004396         0.001590\n",
      "39         0.636362          0.680068        0.004651         0.001356\n",
      "41         0.637084          0.680244        0.005416         0.001485\n",
      "43         0.636900          0.680006        0.005728         0.001334\n"
     ]
    }
   ],
   "source": [
    "searchParam={'reg_alpha':[35,37,39,41,43]}\n",
    "turnParams(lgbc,X_train,y_train,'auto',searchParam,params,scoring='roc_auc',cv=5);"
   ]
  },
  {
   "cell_type": "code",
   "execution_count": 26,
   "metadata": {
    "collapsed": false
   },
   "outputs": [
    {
     "name": "stdout",
     "output_type": "stream",
     "text": [
      "Best params:\n",
      "reg_alpha : 40.5\n",
      "Best score: 0.637380646954\n",
      "      mean_test_score  mean_train_score  std_test_score  std_train_score\n",
      "40.0         0.636821          0.680062        0.005076         0.001438\n",
      "40.5         0.637381          0.680394        0.004867         0.001130\n",
      "41.0         0.637084          0.680244        0.005416         0.001485\n",
      "41.5         0.636648          0.680052        0.005082         0.001289\n",
      "42.0         0.637094          0.680226        0.005501         0.001370\n"
     ]
    }
   ],
   "source": [
    "searchParam={'reg_alpha':[40,40.5,41,41.5,42]}\n",
    "turnParams(lgbc,X_train,y_train,'auto',searchParam,params,scoring='roc_auc',cv=5);"
   ]
  },
  {
   "cell_type": "code",
   "execution_count": 27,
   "metadata": {
    "collapsed": false
   },
   "outputs": [
    {
     "name": "stdout",
     "output_type": "stream",
     "text": [
      "Best params:\n",
      "reg_alpha : 40.6\n",
      "Best score: 0.6375699274\n",
      "      mean_test_score  mean_train_score  std_test_score  std_train_score\n",
      "40.2         0.637395          0.680378        0.004766         0.001420\n",
      "40.3         0.637465          0.680424        0.004875         0.001315\n",
      "40.4         0.637532          0.680522        0.004910         0.001293\n",
      "40.5         0.637381          0.680394        0.004867         0.001130\n",
      "40.6         0.637570          0.680169        0.005165         0.001465\n"
     ]
    }
   ],
   "source": [
    "searchParam={'reg_alpha':[40.2,40.3,40.4,40.5,40.6]}\n",
    "turnParams(lgbc,X_train,y_train,'auto',searchParam,params,scoring='roc_auc',cv=5);"
   ]
  },
  {
   "cell_type": "code",
   "execution_count": 29,
   "metadata": {
    "collapsed": false
   },
   "outputs": [
    {
     "name": "stdout",
     "output_type": "stream",
     "text": [
      "Best params:\n",
      "reg_alpha : 40.59\n",
      "Best score: 0.637602094742\n",
      "       mean_test_score  mean_train_score  std_test_score  std_train_score\n",
      "40.55         0.637381          0.680390        0.004867         0.001130\n",
      "40.59         0.637602          0.680160        0.005157         0.001459\n",
      "40.60         0.637570          0.680169        0.005165         0.001465\n",
      "40.61         0.637546          0.679990        0.005170         0.001491\n",
      "40.65         0.637548          0.679983        0.005169         0.001488\n"
     ]
    }
   ],
   "source": [
    "searchParam={'reg_alpha':[40.55,40.59,40.6,40.61,40.65]}\n",
    "turnParams(lgbc,X_train,y_train,'auto',searchParam,params,scoring='roc_auc',cv=5);"
   ]
  },
  {
   "cell_type": "code",
   "execution_count": 31,
   "metadata": {
    "collapsed": false
   },
   "outputs": [
    {
     "name": "stdout",
     "output_type": "stream",
     "text": [
      "Best params:\n",
      "reg_alpha : 40.589\n",
      "Best score: 0.637602102905\n",
      "        mean_test_score  mean_train_score  std_test_score  std_train_score\n",
      "40.589         0.637602           0.68016        0.005157         0.001459\n",
      "40.590         0.637602           0.68016        0.005157         0.001459\n",
      "40.591         0.637602           0.68016        0.005157         0.001459\n"
     ]
    }
   ],
   "source": [
    "searchParam={'reg_alpha':[40.589,40.59,40.591]}\n",
    "turnParams(lgbc,X_train,y_train,'auto',searchParam,params,scoring='roc_auc',cv=5);"
   ]
  },
  {
   "cell_type": "markdown",
   "metadata": {},
   "source": [
    "## 2.5 reg_lambda"
   ]
  },
  {
   "cell_type": "code",
   "execution_count": 35,
   "metadata": {
    "collapsed": false
   },
   "outputs": [
    {
     "name": "stdout",
     "output_type": "stream",
     "text": [
      "Best params:\n",
      "reg_lambda : 0.05\n",
      "Best score: 0.637602306982\n",
      "         mean_test_score  mean_train_score  std_test_score  std_train_score\n",
      "0.00000         0.637602          0.680160        0.005157         0.001459\n",
      "0.00001         0.637602          0.680160        0.005157         0.001459\n",
      "0.00100         0.637602          0.680160        0.005157         0.001459\n",
      "0.01000         0.637602          0.680160        0.005157         0.001459\n",
      "0.05000         0.637602          0.680159        0.005157         0.001459\n",
      "0.10000         0.637579          0.679978        0.005162         0.001485\n",
      "0.15000         0.637591          0.679980        0.005147         0.001489\n"
     ]
    }
   ],
   "source": [
    "searchParam={'reg_lambda':[0,1e-5,1e-3,0.01,0.05,0.1,0.15]}\n",
    "turnParams(lgbc,X_train,y_train,'auto',searchParam,params,scoring='roc_auc',cv=5);"
   ]
  },
  {
   "cell_type": "code",
   "execution_count": 36,
   "metadata": {
    "collapsed": false
   },
   "outputs": [
    {
     "name": "stdout",
     "output_type": "stream",
     "text": [
      "Best params:\n",
      "reg_lambda : 0.06\n",
      "Best score: 0.637602367263\n",
      "      mean_test_score  mean_train_score  std_test_score  std_train_score\n",
      "0.03         0.637602          0.680160        0.005157         0.001459\n",
      "0.04         0.637602          0.680159        0.005157         0.001459\n",
      "0.05         0.637602          0.680159        0.005157         0.001459\n",
      "0.06         0.637602          0.680159        0.005157         0.001459\n",
      "0.07         0.637578          0.679979        0.005162         0.001485\n"
     ]
    }
   ],
   "source": [
    "searchParam={'reg_lambda':[0.03,0.04,0.05,0.06,0.07]}\n",
    "turnParams(lgbc,X_train,y_train,'auto',searchParam,params,scoring='roc_auc',cv=5);"
   ]
  },
  {
   "cell_type": "markdown",
   "metadata": {},
   "source": [
    "## 2.6 min_child_samples"
   ]
  },
  {
   "cell_type": "code",
   "execution_count": 37,
   "metadata": {
    "collapsed": false
   },
   "outputs": [
    {
     "name": "stdout",
     "output_type": "stream",
     "text": [
      "Best params:\n",
      "min_child_samples : 3\n",
      "Best score: 0.63785259946\n",
      "   mean_test_score  mean_train_score  std_test_score  std_train_score\n",
      "1         0.637602          0.680159        0.005157         0.001459\n",
      "2         0.637602          0.680159        0.005157         0.001459\n",
      "3         0.637853          0.680159        0.005134         0.001459\n",
      "4         0.637853          0.680159        0.005134         0.001459\n",
      "5         0.637853          0.680159        0.005134         0.001459\n",
      "6         0.637853          0.680159        0.005134         0.001459\n",
      "7         0.637853          0.680159        0.005134         0.001459\n"
     ]
    }
   ],
   "source": [
    "searchParam={'min_child_samples':[1,2,3,4,5,6,7]}\n",
    "turnParams(lgbc,X_train,y_train,'auto',searchParam,params,scoring='roc_auc',cv=5);"
   ]
  },
  {
   "cell_type": "markdown",
   "metadata": {},
   "source": [
    "## 2.7 min_child_weight"
   ]
  },
  {
   "cell_type": "code",
   "execution_count": 39,
   "metadata": {
    "collapsed": false
   },
   "outputs": [
    {
     "name": "stdout",
     "output_type": "stream",
     "text": [
      "Best params:\n",
      "min_child_weight : 0\n",
      "Best score: 0.63785259946\n",
      "         mean_test_score  mean_train_score  std_test_score  std_train_score\n",
      "0.00000         0.637853          0.680159        0.005134         0.001459\n",
      "0.00001         0.637853          0.680159        0.005134         0.001459\n",
      "0.00100         0.637853          0.680159        0.005134         0.001459\n",
      "0.10000         0.637853          0.680159        0.005134         0.001459\n",
      "0.50000         0.637853          0.680159        0.005134         0.001459\n",
      "1.00000         0.637853          0.680159        0.005134         0.001459\n"
     ]
    }
   ],
   "source": [
    "searchParam={'min_child_weight':[0,1e-5,1e-3,0.1,0.5,1.0]}\n",
    "turnParams(lgbc,X_train,y_train,'auto',searchParam,params,scoring='roc_auc',cv=5);"
   ]
  },
  {
   "cell_type": "markdown",
   "metadata": {},
   "source": [
    "## 2.9 min_split_gain"
   ]
  },
  {
   "cell_type": "code",
   "execution_count": 40,
   "metadata": {
    "collapsed": false
   },
   "outputs": [
    {
     "name": "stdout",
     "output_type": "stream",
     "text": [
      "Best params:\n",
      "min_split_gain : 0\n",
      "Best score: 0.63785259946\n",
      "         mean_test_score  mean_train_score  std_test_score  std_train_score\n",
      "0.00000         0.637853          0.680159        0.005134         0.001459\n",
      "0.00001         0.637853          0.680159        0.005134         0.001459\n",
      "0.00010         0.637853          0.680159        0.005134         0.001459\n",
      "0.00100         0.637853          0.680159        0.005134         0.001459\n",
      "0.01000         0.637309          0.680452        0.004789         0.001078\n"
     ]
    }
   ],
   "source": [
    "searchParam={'min_split_gain':[0,1e-5,1e-4,1e-3,1e-2]}\n",
    "turnParams(lgbc,X_train,y_train,'auto',searchParam,params,scoring='roc_auc',cv=5);"
   ]
  },
  {
   "cell_type": "markdown",
   "metadata": {},
   "source": [
    "## 2.10 num_leaves"
   ]
  },
  {
   "cell_type": "code",
   "execution_count": 41,
   "metadata": {
    "collapsed": false
   },
   "outputs": [
    {
     "name": "stdout",
     "output_type": "stream",
     "text": [
      "Best params:\n",
      "num_leaves : 50\n",
      "Best score: 0.63785259946\n",
      "    mean_test_score  mean_train_score  std_test_score  std_train_score\n",
      "46         0.636357          0.677670        0.005211         0.000894\n",
      "48         0.635743          0.679114        0.005754         0.001218\n",
      "49         0.636275          0.679558        0.005049         0.001649\n",
      "50         0.637853          0.680159        0.005134         0.001459\n",
      "51         0.636501          0.680989        0.005069         0.001552\n",
      "52         0.637448          0.682444        0.004968         0.001668\n",
      "53         0.636737          0.682569        0.005075         0.001400\n"
     ]
    }
   ],
   "source": [
    "searchParam={'num_leaves':[46,48,49,50,51,52,53]}\n",
    "turnParams(lgbc,X_train,y_train,'auto',searchParam,params,scoring='roc_auc',cv=5);"
   ]
  },
  {
   "cell_type": "markdown",
   "metadata": {},
   "source": [
    "## 2.10 max_depth"
   ]
  },
  {
   "cell_type": "code",
   "execution_count": 44,
   "metadata": {
    "collapsed": false
   },
   "outputs": [
    {
     "name": "stdout",
     "output_type": "stream",
     "text": [
      "Best params:\n",
      "max_depth : 17\n",
      "Best score: 0.63785259946\n",
      "    mean_test_score  mean_train_score  std_test_score  std_train_score\n",
      "16         0.637736          0.680181        0.005237         0.001497\n",
      "17         0.637853          0.680159        0.005134         0.001459\n",
      "18         0.637853          0.680159        0.005134         0.001459\n"
     ]
    }
   ],
   "source": [
    "searchParam={'max_depth':[16,17,18]}\n",
    "turnParams(lgbc,X_train,y_train,'auto',searchParam,params,scoring='roc_auc',cv=5);"
   ]
  },
  {
   "cell_type": "markdown",
   "metadata": {},
   "source": [
    "## 2.11 lower learning_rate"
   ]
  },
  {
   "cell_type": "code",
   "execution_count": 45,
   "metadata": {
    "collapsed": false
   },
   "outputs": [
    {
     "name": "stdout",
     "output_type": "stream",
     "text": [
      "[20]\tcv_agg's auc: 0.626005 + 0.00415644\n",
      "[40]\tcv_agg's auc: 0.627384 + 0.00415079\n",
      "[60]\tcv_agg's auc: 0.628913 + 0.0042198\n",
      "[80]\tcv_agg's auc: 0.630601 + 0.0044568\n",
      "[100]\tcv_agg's auc: 0.631912 + 0.00454011\n",
      "[120]\tcv_agg's auc: 0.632912 + 0.00446697\n",
      "[140]\tcv_agg's auc: 0.633905 + 0.004645\n",
      "[160]\tcv_agg's auc: 0.634567 + 0.00472358\n",
      "[180]\tcv_agg's auc: 0.635256 + 0.00482158\n",
      "[200]\tcv_agg's auc: 0.636122 + 0.00474767\n",
      "[220]\tcv_agg's auc: 0.636882 + 0.00472837\n",
      "[240]\tcv_agg's auc: 0.637639 + 0.00470437\n",
      "[260]\tcv_agg's auc: 0.638259 + 0.00468218\n",
      "[280]\tcv_agg's auc: 0.638751 + 0.00461352\n",
      "[300]\tcv_agg's auc: 0.639203 + 0.00458848\n",
      "[320]\tcv_agg's auc: 0.639686 + 0.0045999\n",
      "[340]\tcv_agg's auc: 0.640103 + 0.00463148\n",
      "[360]\tcv_agg's auc: 0.640472 + 0.00460994\n",
      "[380]\tcv_agg's auc: 0.640777 + 0.00462788\n",
      "[400]\tcv_agg's auc: 0.641027 + 0.00454357\n",
      "[420]\tcv_agg's auc: 0.641191 + 0.00451673\n",
      "[440]\tcv_agg's auc: 0.6413 + 0.00447769\n",
      "[460]\tcv_agg's auc: 0.641393 + 0.00446038\n",
      "[480]\tcv_agg's auc: 0.641433 + 0.00439355\n",
      "[500]\tcv_agg's auc: 0.641481 + 0.00434972\n",
      "[520]\tcv_agg's auc: 0.64148 + 0.00436248\n",
      "[540]\tcv_agg's auc: 0.641458 + 0.00432968\n",
      "Best Iteration: 494\n",
      "Model report on trian:\n",
      "Train AUC:0.6892\n",
      "Model report on test:\n",
      "Test AUC:0.6423\n",
      "Test classifiction report:\n",
      "             precision    recall  f1-score   support\n",
      "\n",
      "          0       0.97      0.64      0.77    114704\n",
      "          1       0.06      0.55      0.10      4339\n",
      "\n",
      "avg / total       0.94      0.64      0.75    119043\n",
      "\n",
      "Test confusion matrix:\n",
      "Confusion matrix, without normalization\n",
      "[[73570 41134]\n",
      " [ 1941  2398]]\n"
     ]
    },
    {
     "data": {
      "image/png": "[encoded data removed]",
      "text/plain": [
       "<matplotlib.figure.Figure at 0xc90108b9e8>"
      ]
     },
     "metadata": {},
     "output_type": "display_data"
    },
    {
     "data": {
      "image/png": "[encoded data removed]",
      "text/plain": [
       "<matplotlib.figure.Figure at 0xc933708358>"
      ]
     },
     "metadata": {},
     "output_type": "display_data"
    }
   ],
   "source": [
    "params['learning_rate']=0.01\n",
    "lgbc=lgb.LGBMClassifier(**params)\n",
    "get_lgb_params(params,cvparams,tran_table)\n",
    "feat_imp=modelfit(lgbc,X_train,y_train,X_test,y_test,'auto',cvparams,useTrainCV=True,cv_folds=5,early_stopping_rounds=50)"
   ]
  },
  {
   "cell_type": "code",
   "execution_count": 48,
   "metadata": {
    "collapsed": false
   },
   "outputs": [],
   "source": [
    "params['n_estimators']=494"
   ]
  },
  {
   "cell_type": "markdown",
   "metadata": {},
   "source": [
    "# 3 Final model"
   ]
  },
  {
   "cell_type": "code",
   "execution_count": 49,
   "metadata": {
    "collapsed": false
   },
   "outputs": [
    {
     "data": {
      "text/plain": [
       "{'boosting_type': 'gbdt',\n",
       " 'colsample_bytree': 0.8,\n",
       " 'is_unbalance': True,\n",
       " 'learning_rate': 0.01,\n",
       " 'max_bin': 255,\n",
       " 'max_depth': 17,\n",
       " 'min_child_samples': 3,\n",
       " 'min_child_weight': 0,\n",
       " 'min_split_gain': 0,\n",
       " 'n_estimators': 494,\n",
       " 'n_jobs': 4,\n",
       " 'num_leaves': 50,\n",
       " 'objective': 'binary',\n",
       " 'random_state': 9,\n",
       " 'reg_alpha': 40.589,\n",
       " 'reg_lambda': 0.06,\n",
       " 'subsample': 1.0,\n",
       " 'subsample_freq': 1}"
      ]
     },
     "execution_count": 49,
     "metadata": {},
     "output_type": "execute_result"
    }
   ],
   "source": [
    "params"
   ]
  },
  {
   "cell_type": "code",
   "execution_count": 50,
   "metadata": {
    "collapsed": true
   },
   "outputs": [],
   "source": [
    "lgbc_opt=lgb.LGBMClassifier(**params)"
   ]
  },
  {
   "cell_type": "markdown",
   "metadata": {},
   "source": [
    "### cv"
   ]
  },
  {
   "cell_type": "code",
   "execution_count": 51,
   "metadata": {
    "collapsed": false
   },
   "outputs": [
    {
     "name": "stdout",
     "output_type": "stream",
     "text": [
      "Best params:\n",
      "n_estimators : 494\n",
      "Best score: 0.642025348528\n",
      "     mean_test_score  mean_train_score  std_test_score  std_train_score\n",
      "494         0.642025          0.688985        0.003235          0.00083\n"
     ]
    }
   ],
   "source": [
    "searchParam={'n_estimators':[494]}\n",
    "turnParams(lgbc_opt,X,y,'auto',searchParam,params,scoring='roc_auc',cv=5);"
   ]
  },
  {
   "cell_type": "code",
   "execution_count": 52,
   "metadata": {
    "collapsed": false
   },
   "outputs": [
    {
     "data": {
      "text/plain": [
       "LGBMClassifier(boosting_type='gbdt', colsample_bytree=0.8, is_unbalance=True,\n",
       "        learning_rate=0.01, max_bin=255, max_depth=17, min_child_samples=3,\n",
       "        min_child_weight=0, min_split_gain=0, n_estimators=494, n_jobs=4,\n",
       "        num_leaves=50, objective='binary', random_state=9,\n",
       "        reg_alpha=40.589, reg_lambda=0.06, silent=True, subsample=1.0,\n",
       "        subsample_for_bin=50000, subsample_freq=1)"
      ]
     },
     "execution_count": 52,
     "metadata": {},
     "output_type": "execute_result"
    }
   ],
   "source": [
    "lgbc_opt.fit(X,y,feature_name=list(X.columns),categorical_feature='auto')"
   ]
  },
  {
   "cell_type": "code",
   "execution_count": 53,
   "metadata": {
    "collapsed": false
   },
   "outputs": [
    {
     "data": {
      "text/plain": [
       "['D:\\\\study\\\\Competition\\\\kaggle-PSSDP-20171014\\\\20171107_19LightGBM_dummy_del_calc.pkl']"
      ]
     },
     "execution_count": 53,
     "metadata": {},
     "output_type": "execute_result"
    }
   ],
   "source": [
    "joblib.dump(lgbc_opt,r'D:\\study\\Competition\\kaggle-PSSDP-20171014\\20171107_19LightGBM_dummy_del_calc.pkl')"
   ]
  },
  {
   "cell_type": "code",
   "execution_count": 54,
   "metadata": {
    "collapsed": true
   },
   "outputs": [],
   "source": [
    "pred_prob=lgbc_opt.predict_proba(X_predict)[:,1]"
   ]
  },
  {
   "cell_type": "code",
   "execution_count": 55,
   "metadata": {
    "collapsed": true
   },
   "outputs": [],
   "source": [
    "predict_result=pd.DataFrame({'id':test_df['id'].astype(int),'target':pd.Series(pred_prob,index=test_df['id'].index)})"
   ]
  },
  {
   "cell_type": "code",
   "execution_count": 56,
   "metadata": {
    "collapsed": false
   },
   "outputs": [
    {
     "data": {
      "text/html": [
       "<div>\n",
       "<table border=\"1\" class=\"dataframe\">\n",
       "  <thead>\n",
       "    <tr style=\"text-align: right;\">\n",
       "      <th></th>\n",
       "      <th>id</th>\n",
       "      <th>target</th>\n",
       "    </tr>\n",
       "  </thead>\n",
       "  <tbody>\n",
       "    <tr>\n",
       "      <th>0</th>\n",
       "      <td>0</td>\n",
       "      <td>0.430194</td>\n",
       "    </tr>\n",
       "    <tr>\n",
       "      <th>1</th>\n",
       "      <td>1</td>\n",
       "      <td>0.380775</td>\n",
       "    </tr>\n",
       "    <tr>\n",
       "      <th>2</th>\n",
       "      <td>2</td>\n",
       "      <td>0.415831</td>\n",
       "    </tr>\n",
       "    <tr>\n",
       "      <th>3</th>\n",
       "      <td>3</td>\n",
       "      <td>0.264990</td>\n",
       "    </tr>\n",
       "    <tr>\n",
       "      <th>4</th>\n",
       "      <td>4</td>\n",
       "      <td>0.499907</td>\n",
       "    </tr>\n",
       "  </tbody>\n",
       "</table>\n",
       "</div>"
      ],
      "text/plain": [
       "   id    target\n",
       "0   0  0.430194\n",
       "1   1  0.380775\n",
       "2   2  0.415831\n",
       "3   3  0.264990\n",
       "4   4  0.499907"
      ]
     },
     "execution_count": 56,
     "metadata": {},
     "output_type": "execute_result"
    }
   ],
   "source": [
    "predict_result.head()"
   ]
  },
  {
   "cell_type": "code",
   "execution_count": 57,
   "metadata": {
    "collapsed": true
   },
   "outputs": [],
   "source": [
    "predict_result.to_csv(r'D:\\study\\Competition\\kaggle-PSSDP-20171014\\20171107_19LightGBM_dummy_del_calc.csv',index=False)"
   ]
  },
  {
   "cell_type": "code",
   "execution_count": 58,
   "metadata": {
    "collapsed": false
   },
   "outputs": [
    {
     "data": {
      "text/plain": [
       "<matplotlib.axes._subplots.AxesSubplot at 0xc93531c550>"
      ]
     },
     "execution_count": 58,
     "metadata": {},
     "output_type": "execute_result"
    },
    {
     "data": {
      "image/png": "[encoded data removed]",
      "text/plain": [
       "<matplotlib.figure.Figure at 0xc9353110b8>"
      ]
     },
     "metadata": {},
     "output_type": "display_data"
    }
   ],
   "source": [
    "sns.distplot(predict_result['target'])"
   ]
  },
  {
   "cell_type": "code",
   "execution_count": 59,
   "metadata": {
    "collapsed": false
   },
   "outputs": [
    {
     "data": {
      "text/plain": [
       "count    892816.000000\n",
       "mean          0.465142\n",
       "std           0.113737\n",
       "min           0.151309\n",
       "25%           0.382845\n",
       "50%           0.462086\n",
       "75%           0.543253\n",
       "max           0.874331\n",
       "Name: target, dtype: float64"
      ]
     },
     "execution_count": 59,
     "metadata": {},
     "output_type": "execute_result"
    }
   ],
   "source": [
    "predict_result['target'].describe()"
   ]
  },
  {
   "cell_type": "code",
   "execution_count": null,
   "metadata": {
    "collapsed": true
   },
   "outputs": [],
   "source": []
  }
 ],
 "metadata": {
  "kernelspec": {
   "display_name": "Python 3",
   "language": "python",
   "name": "python3"
  },
  "language_info": {
   "codemirror_mode": {
    "name": "ipython",
    "version": 3
   },
   "file_extension": ".py",
   "mimetype": "text/x-python",
   "name": "python",
   "nbconvert_exporter": "python",
   "pygments_lexer": "ipython3",
   "version": "3.6.0"
  }
 },
 "nbformat": 4,
 "nbformat_minor": 2
}
