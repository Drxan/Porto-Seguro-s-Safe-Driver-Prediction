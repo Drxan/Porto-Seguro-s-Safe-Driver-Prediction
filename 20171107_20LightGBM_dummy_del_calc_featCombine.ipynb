{
 "cells": [
  {
   "cell_type": "markdown",
   "metadata": {},
   "source": [
    "### （1）定性变量与定量变量组合特征\n",
    "### （2）将所有分类变量做哑编码；\n",
    "###  （4）剔除方差为零的变量；\n",
    "###  （5）删除所有calc组内变量\n",
    "### （6）将所有特征合并，训练lgb模型"
   ]
  },
  {
   "cell_type": "code",
   "execution_count": 1,
   "metadata": {
    "collapsed": false
   },
   "outputs": [
    {
     "name": "stderr",
     "output_type": "stream",
     "text": [
      "C:\\ProgramData\\Anaconda3\\lib\\site-packages\\sklearn\\cross_validation.py:41: DeprecationWarning: This module was deprecated in version 0.18 in favor of the model_selection module into which all the refactored classes and functions are moved. Also note that the interface of the new CV iterators are different from that of this module. This module will be removed in 0.20.\n",
      "  \"This module will be removed in 0.20.\", DeprecationWarning)\n"
     ]
    }
   ],
   "source": [
    "import itertools\n",
    "import pandas as pd\n",
    "import numpy as np\n",
    "import matplotlib.pyplot as plt\n",
    "import seaborn as sns\n",
    "from sklearn.model_selection import train_test_split,GridSearchCV\n",
    "from xgboost.sklearn import XGBClassifier\n",
    "from sklearn.ensemble import RandomTreesEmbedding\n",
    "import xgboost as xgb\n",
    "from sklearn import metrics\n",
    "import lightgbm as lgb\n",
    "from copy import deepcopy\n",
    "from sklearn.externals import joblib\n",
    "from sklearn.preprocessing import OneHotEncoder\n",
    "import graphviz\n",
    "import win32com.client  \n",
    "import winsound \n",
    "%matplotlib inline\n",
    "plt.rcParams['figure.figsize']=12,4"
   ]
  },
  {
   "cell_type": "code",
   "execution_count": 2,
   "metadata": {
    "collapsed": true
   },
   "outputs": [],
   "source": [
    "#data_path='/home/yw/study/Competition/Safe_Driver_Prediction_20171014'\n",
    "data_path=r'D:\\study\\Competition\\porto-sequro-safe-driver-prediction\\data'\n",
    "train_df=pd.read_csv(data_path+'/train.csv',na_values=-1)\n",
    "test_df=pd.read_csv(data_path+'/test.csv',na_values=-1)"
   ]
  },
  {
   "cell_type": "code",
   "execution_count": 3,
   "metadata": {
    "collapsed": true
   },
   "outputs": [],
   "source": [
    "#所有变量\n",
    "raw_features=[x for x in train_df.columns if x not in ['id','target']]\n",
    "#所有二元变量\n",
    "bin_features=[feat for feat in train_df.columns if 'bin' in feat]\n",
    "#所有的分类变量\n",
    "cat_features=[feat for feat in train_df.columns if 'cat' in feat]\n",
    "#所有calc变量\n",
    "calc_features=[feat for feat in train_df.columns if 'calc' in feat]"
   ]
  },
  {
   "cell_type": "markdown",
   "metadata": {},
   "source": [
    "### 删除所有calc组内变量"
   ]
  },
  {
   "cell_type": "code",
   "execution_count": 4,
   "metadata": {
    "collapsed": true
   },
   "outputs": [],
   "source": [
    "train_df.drop(calc_features,axis=1,inplace=True)\n",
    "test_df.drop(calc_features,axis=1,inplace=True)"
   ]
  },
  {
   "cell_type": "code",
   "execution_count": 5,
   "metadata": {
    "collapsed": false
   },
   "outputs": [],
   "source": [
    "raw_features=[x for x in raw_features if x not in calc_features]"
   ]
  },
  {
   "cell_type": "markdown",
   "metadata": {},
   "source": [
    "### 定性变量与定量变量组合（分组求均值/方差/中位数等等）"
   ]
  },
  {
   "cell_type": "markdown",
   "metadata": {},
   "source": [
    "### 序数变量：[ps_ind_01,ps_ind_03,ps_ind_14,ps_ind_15,ps_car_11]\n",
    "### 连续变量：[ps_reg_03,ps_car_12,ps_car_13,ps_car_14,ps_car_15]\n",
    "### 待定类型变量：[ps_reg_01,ps_ind_02]\n",
    "### （1） 利用正弦函数sin()对ps_ind_03做非线性变换\n",
    "### （2） ps_ind_03和ps_ind_15交叉组合\n",
    "### （3）利用分类变量、序数变量对连续变量分组求均值、方差、中位数、最大值、最小值等\n",
    "### （4）利用分类变量、序数变量相互分组求频数\n",
    "### （5）将连续变量与第（3）步得到的新变量进行线性组合\n",
    "### （6）考虑利用calc组内的一些变量，进行特征组合"
   ]
  },
  {
   "cell_type": "code",
   "execution_count": 6,
   "metadata": {
    "collapsed": true
   },
   "outputs": [],
   "source": [
    "combine_cat=cat_features#+['ps_ind_01','ps_ind_03','ps_ind_15','ps_car_11']\n",
    "combine_real=['ps_reg_03','ps_car_12','ps_car_13','ps_car_14','ps_car_15']"
   ]
  },
  {
   "cell_type": "code",
   "execution_count": 7,
   "metadata": {
    "collapsed": true
   },
   "outputs": [],
   "source": [
    "def combine_cat_real(train,test,cats,reals):\n",
    "    fill_value={feat:-1 for feat in cats}\n",
    "    train=train.fillna(fill_value)\n",
    "    test=test.fillna(fill_value)\n",
    "    for real in reals:\n",
    "        for cat in cats:\n",
    "            print(real,cat)\n",
    "            feat_prefix=cat[3:]+'_'+real[3:]+'_'\n",
    "            group_tmp=train[[real,cat]].groupby(cat,as_index=True)\n",
    "            train[real]=train[real].astype(np.float32)\n",
    "            test[real]=test[real].astype(np.float32)\n",
    "            #mean\n",
    "            group_value=group_tmp.mean()\n",
    "            group_value.columns=[feat_prefix+'mean']\n",
    "            if group_value.iloc[:,0].var()!=0:\n",
    "                train=train.join(group_value,on=cat,how='left')\n",
    "                test=test.join(group_value,on=cat,how='left')\n",
    "                train[feat_prefix+'mean']=train[feat_prefix+'mean'].astype(np.float32)\n",
    "                test[feat_prefix+'mean']=test[feat_prefix+'mean'].astype(np.float32)\n",
    "                train[feat_prefix+'mean_diff']=(train[real]-train[feat_prefix+'mean']).astype(np.float32)\n",
    "                test[feat_prefix+'mean_diff']=(test[real]-test[feat_prefix+'mean']).astype(np.float32)\n",
    "            #std\n",
    "            group_value=group_tmp.std()\n",
    "            group_value.columns=[feat_prefix+'std']\n",
    "            if group_value.iloc[:,0].var()!=0:\n",
    "                train=train.join(group_value,on=cat,how='left')\n",
    "                test=test.join(group_value,on=cat,how='left')\n",
    "                train[feat_prefix+'std']=train[feat_prefix+'std'].astype(np.float32)\n",
    "                test[feat_prefix+'std']=test[feat_prefix+'std'].astype(np.float32)\n",
    "                train[feat_prefix+'std_diff']=(train[real]-train[feat_prefix+'std']).astype(np.float32)\n",
    "                test[feat_prefix+'std_diff']=(test[real]-test[feat_prefix+'std']).astype(np.float32)\n",
    "            #max\n",
    "            #group_value=group_tmp.max()\n",
    "            #group_value.columns=[feat_prefix+'max']\n",
    "            #if group_value.iloc[:,0].var()!=0:\n",
    "            #    train=train.join(group_value,on=cat,how='left')\n",
    "            #    test=test.join(group_value,on=cat,how='left')\n",
    "            #    train[feat_prefix+'max']=train[feat_prefix+'max'].astype(np.float32)\n",
    "            #    test[feat_prefix+'max']=test[feat_prefix+'max'].astype(np.float32)\n",
    "            #    train[feat_prefix+'max_diff']=(train[real]-train[feat_prefix+'max']).astype(np.float32)\n",
    "            #    test[feat_prefix+'max_diff']=(test[real]-test[feat_prefix+'max']).astype(np.float32)\n",
    "            #min\n",
    "            #group_value=group_tmp.min()\n",
    "            #group_value.columns=[feat_prefix+'min']\n",
    "            #if group_value.iloc[:,0].var()!=0:\n",
    "            #    train=train.join(group_value,on=cat,how='left')\n",
    "            #    test=test.join(group_value,on=cat,how='left')\n",
    "            #    train[feat_prefix+'min']=train[feat_prefix+'min'].astype(np.float32)\n",
    "            #    test[feat_prefix+'min']=test[feat_prefix+'min'].astype(np.float32)\n",
    "            #    train[feat_prefix+'min_diff']=(train[real]-train[feat_prefix+'min']).astype(np.float32)\n",
    "            #    test[feat_prefix+'min_diff']=(test[real]-test[feat_prefix+'min']).astype(np.float32)\n",
    "            #median\n",
    "            group_value=group_tmp.median()\n",
    "            group_value.columns=[feat_prefix+'median']\n",
    "            if group_value.iloc[:,0].var()!=0:\n",
    "                train=train.join(group_value,on=cat,how='left')\n",
    "                test=test.join(group_value,on=cat,how='left')\n",
    "                train[feat_prefix+'median']=train[feat_prefix+'median'].astype(np.float32)\n",
    "                test[feat_prefix+'median']=test[feat_prefix+'median'].astype(np.float32)\n",
    "                train[feat_prefix+'median_diff']=(train[real]-train[feat_prefix+'median']).astype(np.float32)\n",
    "                test[feat_prefix+'median_diff']=(test[real]-test[feat_prefix+'median']).astype(np.float32)\n",
    "    return train,test"
   ]
  },
  {
   "cell_type": "code",
   "execution_count": 8,
   "metadata": {
    "collapsed": false
   },
   "outputs": [
    {
     "name": "stdout",
     "output_type": "stream",
     "text": [
      "ps_reg_03 ps_ind_02_cat\n",
      "ps_reg_03 ps_ind_04_cat\n",
      "ps_reg_03 ps_ind_05_cat\n",
      "ps_reg_03 ps_car_01_cat\n",
      "ps_reg_03 ps_car_02_cat\n",
      "ps_reg_03 ps_car_03_cat\n",
      "ps_reg_03 ps_car_04_cat\n",
      "ps_reg_03 ps_car_05_cat\n",
      "ps_reg_03 ps_car_06_cat\n",
      "ps_reg_03 ps_car_07_cat\n",
      "ps_reg_03 ps_car_08_cat\n",
      "ps_reg_03 ps_car_09_cat\n",
      "ps_reg_03 ps_car_10_cat\n",
      "ps_reg_03 ps_car_11_cat\n",
      "ps_car_12 ps_ind_02_cat\n",
      "ps_car_12 ps_ind_04_cat\n",
      "ps_car_12 ps_ind_05_cat\n",
      "ps_car_12 ps_car_01_cat\n",
      "ps_car_12 ps_car_02_cat\n",
      "ps_car_12 ps_car_03_cat\n",
      "ps_car_12 ps_car_04_cat\n",
      "ps_car_12 ps_car_05_cat\n",
      "ps_car_12 ps_car_06_cat\n",
      "ps_car_12 ps_car_07_cat\n",
      "ps_car_12 ps_car_08_cat\n",
      "ps_car_12 ps_car_09_cat\n",
      "ps_car_12 ps_car_10_cat\n",
      "ps_car_12 ps_car_11_cat\n",
      "ps_car_13 ps_ind_02_cat\n",
      "ps_car_13 ps_ind_04_cat\n",
      "ps_car_13 ps_ind_05_cat\n",
      "ps_car_13 ps_car_01_cat\n",
      "ps_car_13 ps_car_02_cat\n",
      "ps_car_13 ps_car_03_cat\n",
      "ps_car_13 ps_car_04_cat\n",
      "ps_car_13 ps_car_05_cat\n",
      "ps_car_13 ps_car_06_cat\n",
      "ps_car_13 ps_car_07_cat\n",
      "ps_car_13 ps_car_08_cat\n",
      "ps_car_13 ps_car_09_cat\n",
      "ps_car_13 ps_car_10_cat\n",
      "ps_car_13 ps_car_11_cat\n",
      "ps_car_14 ps_ind_02_cat\n",
      "ps_car_14 ps_ind_04_cat\n",
      "ps_car_14 ps_ind_05_cat\n",
      "ps_car_14 ps_car_01_cat\n",
      "ps_car_14 ps_car_02_cat\n",
      "ps_car_14 ps_car_03_cat\n",
      "ps_car_14 ps_car_04_cat\n",
      "ps_car_14 ps_car_05_cat\n",
      "ps_car_14 ps_car_06_cat\n",
      "ps_car_14 ps_car_07_cat\n",
      "ps_car_14 ps_car_08_cat\n",
      "ps_car_14 ps_car_09_cat\n",
      "ps_car_14 ps_car_10_cat\n",
      "ps_car_14 ps_car_11_cat\n",
      "ps_car_15 ps_ind_02_cat\n",
      "ps_car_15 ps_ind_04_cat\n",
      "ps_car_15 ps_ind_05_cat\n",
      "ps_car_15 ps_car_01_cat\n",
      "ps_car_15 ps_car_02_cat\n",
      "ps_car_15 ps_car_03_cat\n",
      "ps_car_15 ps_car_04_cat\n",
      "ps_car_15 ps_car_05_cat\n",
      "ps_car_15 ps_car_06_cat\n",
      "ps_car_15 ps_car_07_cat\n",
      "ps_car_15 ps_car_08_cat\n",
      "ps_car_15 ps_car_09_cat\n",
      "ps_car_15 ps_car_10_cat\n",
      "ps_car_15 ps_car_11_cat\n"
     ]
    }
   ],
   "source": [
    "train_df,test_df=combine_cat_real(train_df,test_df,combine_cat,combine_real)"
   ]
  },
  {
   "cell_type": "code",
   "execution_count": 9,
   "metadata": {
    "collapsed": false
   },
   "outputs": [
    {
     "data": {
      "text/html": [
       "<div>\n",
       "<table border=\"1\" class=\"dataframe\">\n",
       "  <thead>\n",
       "    <tr style=\"text-align: right;\">\n",
       "      <th></th>\n",
       "      <th>id</th>\n",
       "      <th>target</th>\n",
       "      <th>ps_ind_01</th>\n",
       "      <th>ps_ind_02_cat</th>\n",
       "      <th>ps_ind_03</th>\n",
       "      <th>ps_ind_04_cat</th>\n",
       "      <th>ps_ind_05_cat</th>\n",
       "      <th>ps_ind_06_bin</th>\n",
       "      <th>ps_ind_07_bin</th>\n",
       "      <th>ps_ind_08_bin</th>\n",
       "      <th>...</th>\n",
       "      <th>car_10_cat_car_15_std</th>\n",
       "      <th>car_10_cat_car_15_std_diff</th>\n",
       "      <th>car_10_cat_car_15_median</th>\n",
       "      <th>car_10_cat_car_15_median_diff</th>\n",
       "      <th>car_11_cat_car_15_mean</th>\n",
       "      <th>car_11_cat_car_15_mean_diff</th>\n",
       "      <th>car_11_cat_car_15_std</th>\n",
       "      <th>car_11_cat_car_15_std_diff</th>\n",
       "      <th>car_11_cat_car_15_median</th>\n",
       "      <th>car_11_cat_car_15_median_diff</th>\n",
       "    </tr>\n",
       "  </thead>\n",
       "  <tbody>\n",
       "    <tr>\n",
       "      <th>0</th>\n",
       "      <td>7</td>\n",
       "      <td>0</td>\n",
       "      <td>2</td>\n",
       "      <td>2.0</td>\n",
       "      <td>5</td>\n",
       "      <td>1.0</td>\n",
       "      <td>0.0</td>\n",
       "      <td>0</td>\n",
       "      <td>1</td>\n",
       "      <td>0</td>\n",
       "      <td>...</td>\n",
       "      <td>0.728827</td>\n",
       "      <td>2.876724</td>\n",
       "      <td>3.316625</td>\n",
       "      <td>0.288926</td>\n",
       "      <td>3.414482</td>\n",
       "      <td>0.191069</td>\n",
       "      <td>0.241673</td>\n",
       "      <td>3.363878</td>\n",
       "      <td>3.464102</td>\n",
       "      <td>0.14145</td>\n",
       "    </tr>\n",
       "    <tr>\n",
       "      <th>1</th>\n",
       "      <td>9</td>\n",
       "      <td>0</td>\n",
       "      <td>1</td>\n",
       "      <td>1.0</td>\n",
       "      <td>7</td>\n",
       "      <td>0.0</td>\n",
       "      <td>0.0</td>\n",
       "      <td>0</td>\n",
       "      <td>0</td>\n",
       "      <td>1</td>\n",
       "      <td>...</td>\n",
       "      <td>0.728827</td>\n",
       "      <td>1.720662</td>\n",
       "      <td>3.316625</td>\n",
       "      <td>-0.867135</td>\n",
       "      <td>1.618905</td>\n",
       "      <td>0.830585</td>\n",
       "      <td>1.148810</td>\n",
       "      <td>1.300680</td>\n",
       "      <td>2.000000</td>\n",
       "      <td>0.44949</td>\n",
       "    </tr>\n",
       "    <tr>\n",
       "      <th>2</th>\n",
       "      <td>13</td>\n",
       "      <td>0</td>\n",
       "      <td>5</td>\n",
       "      <td>4.0</td>\n",
       "      <td>9</td>\n",
       "      <td>1.0</td>\n",
       "      <td>0.0</td>\n",
       "      <td>0</td>\n",
       "      <td>0</td>\n",
       "      <td>1</td>\n",
       "      <td>...</td>\n",
       "      <td>0.728827</td>\n",
       "      <td>2.587797</td>\n",
       "      <td>3.316625</td>\n",
       "      <td>0.000000</td>\n",
       "      <td>3.277474</td>\n",
       "      <td>0.039151</td>\n",
       "      <td>0.231495</td>\n",
       "      <td>3.085130</td>\n",
       "      <td>3.316625</td>\n",
       "      <td>0.00000</td>\n",
       "    </tr>\n",
       "  </tbody>\n",
       "</table>\n",
       "<p>3 rows × 457 columns</p>\n",
       "</div>"
      ],
      "text/plain": [
       "   id  target  ps_ind_01  ps_ind_02_cat  ps_ind_03  ps_ind_04_cat  \\\n",
       "0   7       0          2            2.0          5            1.0   \n",
       "1   9       0          1            1.0          7            0.0   \n",
       "2  13       0          5            4.0          9            1.0   \n",
       "\n",
       "   ps_ind_05_cat  ps_ind_06_bin  ps_ind_07_bin  ps_ind_08_bin  \\\n",
       "0            0.0              0              1              0   \n",
       "1            0.0              0              0              1   \n",
       "2            0.0              0              0              1   \n",
       "\n",
       "               ...                car_10_cat_car_15_std  \\\n",
       "0              ...                             0.728827   \n",
       "1              ...                             0.728827   \n",
       "2              ...                             0.728827   \n",
       "\n",
       "   car_10_cat_car_15_std_diff  car_10_cat_car_15_median  \\\n",
       "0                    2.876724                  3.316625   \n",
       "1                    1.720662                  3.316625   \n",
       "2                    2.587797                  3.316625   \n",
       "\n",
       "   car_10_cat_car_15_median_diff  car_11_cat_car_15_mean  \\\n",
       "0                       0.288926                3.414482   \n",
       "1                      -0.867135                1.618905   \n",
       "2                       0.000000                3.277474   \n",
       "\n",
       "   car_11_cat_car_15_mean_diff  car_11_cat_car_15_std  \\\n",
       "0                     0.191069               0.241673   \n",
       "1                     0.830585               1.148810   \n",
       "2                     0.039151               0.231495   \n",
       "\n",
       "   car_11_cat_car_15_std_diff  car_11_cat_car_15_median  \\\n",
       "0                    3.363878                  3.464102   \n",
       "1                    1.300680                  2.000000   \n",
       "2                    3.085130                  3.316625   \n",
       "\n",
       "   car_11_cat_car_15_median_diff  \n",
       "0                        0.14145  \n",
       "1                        0.44949  \n",
       "2                        0.00000  \n",
       "\n",
       "[3 rows x 457 columns]"
      ]
     },
     "execution_count": 9,
     "metadata": {},
     "output_type": "execute_result"
    }
   ],
   "source": [
    "train_df.head(3)"
   ]
  },
  {
   "cell_type": "markdown",
   "metadata": {},
   "source": [
    "### One_Hot_Encoding"
   ]
  },
  {
   "cell_type": "code",
   "execution_count": 10,
   "metadata": {
    "collapsed": true
   },
   "outputs": [],
   "source": [
    "def get_dummy_feat(train_df,test_df,cat_features):\n",
    "    oht_feat=pd.get_dummies(train_df[cat_features].append(test_df[cat_features]),columns=cat_features,dummy_na=True)\n",
    "    train_df=train_df.join(oht_feat.iloc[0:train_df.shape[0]])\n",
    "    test_df=test_df.join(oht_feat.iloc[train_df.shape[0]:])\n",
    "    return train_df,test_df"
   ]
  },
  {
   "cell_type": "code",
   "execution_count": 11,
   "metadata": {
    "collapsed": true
   },
   "outputs": [],
   "source": [
    "train_df,test_df=get_dummy_feat(train_df,test_df,cat_features)"
   ]
  },
  {
   "cell_type": "markdown",
   "metadata": {},
   "source": [
    "### Combined Feature(totally random trees)"
   ]
  },
  {
   "cell_type": "code",
   "execution_count": 12,
   "metadata": {
    "collapsed": true
   },
   "outputs": [],
   "source": [
    "def combine_feats(train_df,test_df,combine_raw_feats,combiner,na_fill_values=-1):\n",
    "    combiner.fit(train_df[raw_features].fillna(na_fill_values))\n",
    "    train_combine=combiner.transform(train_df[combine_raw_feats].fillna(na_fill_values))\n",
    "    test_combine=combiner.transform(test_df[combine_raw_feats].fillna(na_fill_values))\n",
    "    feat_names=['comb_'+str(i) for i in range(1,train_combine.shape[1]+1)]\n",
    "    train_combine=pd.DataFrame(train_combine,columns=feat_names,index=train_df.index)\n",
    "    test_combine=pd.DataFrame(test_combine,columns=feat_names,index=test_df.index)\n",
    "    train_df=train_df.join(train_combine)\n",
    "    test_df=test_df.join(test_combine)\n",
    "    return train_df,test_df"
   ]
  },
  {
   "cell_type": "markdown",
   "metadata": {
    "collapsed": true
   },
   "source": [
    "rte=RandomTreesEmbedding(n_estimators=30,max_depth=4,max_leaf_nodes=10,sparse_output=False,n_jobs=-1,random_state=9)"
   ]
  },
  {
   "cell_type": "markdown",
   "metadata": {
    "collapsed": true
   },
   "source": [
    "train_df,test_df=combine_feats(train_df,test_df,raw_features,rte,na_fill_values=-1)"
   ]
  },
  {
   "cell_type": "markdown",
   "metadata": {},
   "source": [
    "### 方差为0（或取值唯一）的变量"
   ]
  },
  {
   "cell_type": "code",
   "execution_count": 13,
   "metadata": {
    "collapsed": true
   },
   "outputs": [],
   "source": [
    "useless_feats=list(train_df.columns[train_df.var()==0])"
   ]
  },
  {
   "cell_type": "code",
   "execution_count": 14,
   "metadata": {
    "collapsed": true
   },
   "outputs": [],
   "source": [
    "use_features=[x for x in train_df.columns if x not in ['id','target']+cat_features+useless_feats]"
   ]
  },
  {
   "cell_type": "code",
   "execution_count": 15,
   "metadata": {
    "collapsed": true
   },
   "outputs": [],
   "source": [
    "X=train_df[use_features]\n",
    "y=train_df['target']\n",
    "\n",
    "X_predict=test_df[use_features]"
   ]
  },
  {
   "cell_type": "code",
   "execution_count": 16,
   "metadata": {
    "collapsed": true
   },
   "outputs": [],
   "source": [
    "X_train,X_test,y_train,y_test=train_test_split(X,y,test_size=0.20,stratify=y,random_state=9)"
   ]
  },
  {
   "cell_type": "markdown",
   "metadata": {},
   "source": [
    "# 1 Base line"
   ]
  },
  {
   "cell_type": "code",
   "execution_count": 18,
   "metadata": {
    "collapsed": true
   },
   "outputs": [],
   "source": [
    "def gini(actual, pred, cmpcol = 0, sortcol = 1):\n",
    "    assert( len(actual) == len(pred) )\n",
    "    all = np.asarray(np.c_[ actual, pred, np.arange(len(actual)) ], dtype=np.float)\n",
    "    all = all[ np.lexsort((all[:,2], -1*all[:,1])) ]\n",
    "    totalLosses = all[:,0].sum()\n",
    "    giniSum = all[:,0].cumsum().sum() / totalLosses\n",
    " \n",
    "    giniSum -= (len(actual) + 1) / 2.\n",
    "    return giniSum / len(actual)\n",
    "\n",
    "def softmax(x):\n",
    "    \"\"\"Compute softmax values for each sets of scores in x.\"\"\"\n",
    "    e_x = np.exp(x - np.max(x))\n",
    "    return e_x / e_x.sum() \n",
    "\n",
    "def gini_normalized(preds,dtrain):\n",
    "    y=dtrain.get_label()\n",
    "    preds=softmax(preds)\n",
    "    return 'NormGini',gini(y, preds) / gini(y, y),True\n",
    "\n",
    "def gini_normalized_ordinary(y,preds):\n",
    "    return gini(y, preds) / gini(y, y)\n",
    "\n",
    "def modelfit(alg,X,y,X_test,y_test,cat_features,cvparams,folds=None,useTrainCV=True,cv_folds=5,early_stopping_rounds=30):\n",
    "    feature_names=list(X.columns)\n",
    "    if useTrainCV==True:\n",
    "        dtrain=lgb.Dataset(X, label=y, max_bin=255, reference=None, \n",
    "                           weight=None, group=None, silent=False, feature_name=feature_names,\n",
    "                            categorical_feature=cat_features,params=None, free_raw_data=True)\n",
    "        cvresult=lgb.cv(cvparams,dtrain,num_boost_round=50000,folds=folds,nfold=cv_folds,stratified=True,\n",
    "                        metrics='auc',feature_name=feature_names,categorical_feature=cat_features,early_stopping_rounds=early_stopping_rounds,\n",
    "                        verbose_eval=20,show_stdv =True,seed=9)\n",
    "        #,feval=gini_normalized\n",
    "        alg.set_params(n_estimators=len(cvresult['auc-mean']))\n",
    "        print('Best Iteration:',len(cvresult['auc-mean']))\n",
    "        \n",
    "    alg.fit(X,y,eval_metric='auc',feature_name=feature_names,categorical_feature=cat_features)\n",
    "    \n",
    "    #Predict training set:\n",
    "    dtrain_predictions=alg.predict(X)\n",
    "    dtrain_predprob=alg.predict_proba(X)[:,1]\n",
    "    \n",
    "    #pPredict test set:\n",
    "    dtest_predictions=alg.predict(X_test)\n",
    "    dtest_predprob=alg.predict_proba(X_test)[:,1]\n",
    "    \n",
    "    #Print Mode report:\n",
    "    print('Model report on trian:')\n",
    "    #print('Train Accuracy:{0:.4f}'.format(metrics.accuracy_score(y,dtrain_predictions)))\n",
    "    print('Train AUC:{0:.4f}'.format(metrics.roc_auc_score(y,dtrain_predprob)))\n",
    "    #print('Train Normalized GINI：{0:.6f}'.format(gini_normalized_ordinary(y,dtrain_predprob)))\n",
    "    print('Model report on test:')\n",
    "    #print('Test Accuracy:{0:.4f}'.format(metrics.accuracy_score(y_test,dtest_predictions)))\n",
    "    print('Test AUC:{0:.4f}'.format(metrics.roc_auc_score(y_test,dtest_predprob)))\n",
    "    #print('Test Normalized GINI：{0：.6f}'.format(gini_normalized_ordinary(y,dtest_predprob)))\n",
    "    print('Test classifiction report:')\n",
    "    print(metrics.classification_report(y_test,dtest_predictions))\n",
    "    print('Test confusion matrix:')\n",
    "    plt.figure()\n",
    "    with sns.axes_style(style='dark'):\n",
    "        plot_confusion_matrix(metrics.confusion_matrix(y_test,dtest_predictions),classes=['0','1'],\n",
    "                             title='Confusion Matrix')\n",
    "    \n",
    "    feat_imp=pd.Series(alg.feature_importances_,index=X.columns).sort_values(ascending=True)\n",
    "    #plt.figure()\n",
    "    #feat_imp.plot(kind='barh',title='Feature Importances',color='green')\n",
    "    #plt.ylabel('Feature Importance Score')\n",
    "    lgb.plot_importance(alg,importance_type='split')\n",
    "    return feat_imp\n",
    "\n",
    "def turnParams(model,X,y,cat_features,searchParam,modelparams,scoring='roc_auc',cv=5):\n",
    "    gsc=GridSearchCV(estimator=model.__class__(**modelparams),param_grid=searchParam,scoring=scoring,\n",
    "                    iid=False,cv=cv)\n",
    "    gsc.fit(X,y,eval_metric='auc',categorical_feature=cat_features)\n",
    "    param_name=list(searchParam.keys())[0]\n",
    "    columns=[p[param_name] for p in gsc.cv_results_['params']]\n",
    "    cv_scores=pd.DataFrame([gsc.cv_results_['mean_test_score'],\n",
    "                            gsc.cv_results_['mean_train_score'],\n",
    "                            gsc.cv_results_['std_test_score'],\n",
    "                            gsc.cv_results_['std_train_score']],\n",
    "                            index=['mean_test_score','mean_train_score','std_test_score','std_train_score'],\n",
    "                            columns=columns).T\n",
    "    #cv_scores.index.name=param_name\n",
    "    for param in gsc.best_params_.keys():\n",
    "        modelparams[param]=gsc.best_params_[param]\n",
    "    print('Best params:')\n",
    "    for param in gsc.best_params_.keys():\n",
    "        print(param,':',gsc.best_params_[param])\n",
    "    print('Best score:',gsc.best_score_)\n",
    "    print(cv_scores)\n",
    "    speak = win32com.client.Dispatch('SAPI.SPVOICE')  \n",
    "    winsound.Beep(20170, 800)  \n",
    "    speak.Speak('程序运行完毕!')\n",
    "    \n",
    "def plot_confusion_matrix(cm, classes,\n",
    "                          normalize=False,\n",
    "                          title='Confusion matrix',\n",
    "                          cmap=plt.cm.Blues):\n",
    "    \"\"\"\n",
    "    This function prints and plots the confusion matrix.\n",
    "    Normalization can be applied by setting `normalize=True`.\n",
    "    \"\"\"\n",
    "    if normalize:\n",
    "        cm = cm.astype('float') / cm.sum(axis=1)[:, np.newaxis]\n",
    "        print(\"Normalized confusion matrix\")\n",
    "    else:\n",
    "        print('Confusion matrix, without normalization')\n",
    "\n",
    "    print(cm)\n",
    "\n",
    "    plt.imshow(cm, interpolation='nearest', cmap=cmap)\n",
    "    plt.title(title)\n",
    "    plt.colorbar()\n",
    "    tick_marks = np.arange(len(classes))\n",
    "    plt.xticks(tick_marks, classes, rotation=45)\n",
    "    plt.yticks(tick_marks, classes)\n",
    "\n",
    "    fmt = '.2f' if normalize else 'd'\n",
    "    thresh = cm.max() / 2.\n",
    "    for i, j in itertools.product(range(cm.shape[0]), range(cm.shape[1])):\n",
    "        plt.text(j, i, format(cm[i, j], fmt),\n",
    "                 horizontalalignment=\"center\",\n",
    "                 color=\"white\" if cm[i, j] > thresh else \"black\")\n",
    "\n",
    "    plt.tight_layout()\n",
    "    plt.ylabel('True label')\n",
    "    plt.xlabel('Predicted label')"
   ]
  },
  {
   "cell_type": "code",
   "execution_count": 19,
   "metadata": {
    "collapsed": true
   },
   "outputs": [],
   "source": [
    "params={'boosting_type':'gbdt',\n",
    "        'num_leaves':60,\n",
    "        'max_depth':30,\n",
    "        'learning_rate':0.2,\n",
    "        'n_estimators':100,\n",
    "        'max_bin':255,\n",
    "        'objective':'binary',\n",
    "        'min_split_gain':0,\n",
    "        'min_child_weight':0,\n",
    "        'min_child_samples':1,\n",
    "        'subsample':1.0,\n",
    "        'subsample_freq':1,\n",
    "        'colsample_bytree':1.0,\n",
    "        'reg_alpha':0,\n",
    "        'reg_lambda':0,\n",
    "        'random_state':9,\n",
    "        'n_jobs':4,\n",
    "        'is_unbalance':True,\n",
    "       }\n",
    "\n",
    "cvparams={'boosting_type':'gbdt',\n",
    "        'num_leaves':20,\n",
    "        'max_depth':6,\n",
    "        'learning_rate':0.2,\n",
    "        'max_bin':255,\n",
    "        'objective':'binary',\n",
    "        'min_gain_to_split':0,\n",
    "        'min_sum_hessian_in_leaf':0,\n",
    "        'min_data_in_leaf':1,\n",
    "        'bagging_fraction':1.0,\n",
    "        'bagging_freq':1,\n",
    "        'feature_fraction':1.0,\n",
    "        'lambda_l1':0,\n",
    "        'lambda_l2':0,\n",
    "        'num_threads':4,\n",
    "        'is_unbalance':True,\n",
    "       }\n",
    "#在sklaearn接口中，参数名称发生了变化，需要进行映射\n",
    "tran_table={ 'min_split_gain':'min_gain_to_split',\n",
    "             'min_child_weight':'min_sum_hessian_in_leaf',\n",
    "             'min_child_samples':'min_data_in_leaf',\n",
    "             'subsample':'bagging_fraction',\n",
    "             'subsample_freq':'bagging_freq',\n",
    "             'colsample_bytree':'feature_fraction',\n",
    "             'reg_alpha':'lambda_l1',\n",
    "             'reg_lambda':'lambda_l2',\n",
    "             'n_jobs':'num_threads',\n",
    "            \n",
    "             'boosting_type':'boosting_type',\n",
    "             'num_leaves':'num_leaves',\n",
    "             'max_depth':'max_depth',\n",
    "             'learning_rate':'learning_rate',\n",
    "             'max_bin':'max_bin',\n",
    "             'objective':'objective',\n",
    "             'is_unbalance':'is_unbalance'}\n",
    "def get_lgb_params(sklearn_params,cvparams,tran_table):\n",
    "    for sklearn_param,lgb_param in tran_table.items():\n",
    "        cvparams[lgb_param]=sklearn_params[sklearn_param]"
   ]
  },
  {
   "cell_type": "code",
   "execution_count": 20,
   "metadata": {
    "collapsed": true
   },
   "outputs": [],
   "source": [
    "lgbc=lgb.LGBMClassifier(**params)"
   ]
  },
  {
   "cell_type": "code",
   "execution_count": 21,
   "metadata": {
    "collapsed": false
   },
   "outputs": [
    {
     "name": "stdout",
     "output_type": "stream",
     "text": [
      "[20]\tcv_agg's auc: 0.628891 + 0.0052101\n",
      "[40]\tcv_agg's auc: 0.620186 + 0.00446478\n",
      "[60]\tcv_agg's auc: 0.612587 + 0.00325491\n",
      "Best Iteration: 15\n",
      "Model report on trian:\n",
      "Train AUC:0.6976\n",
      "Model report on test:\n",
      "Test AUC:0.6301\n",
      "Test classifiction report:\n",
      "             precision    recall  f1-score   support\n",
      "\n",
      "          0       0.97      0.64      0.77    114704\n",
      "          1       0.05      0.54      0.10      4339\n",
      "\n",
      "avg / total       0.94      0.64      0.75    119043\n",
      "\n",
      "Test confusion matrix:\n",
      "Confusion matrix, without normalization\n",
      "[[73621 41083]\n",
      " [ 1979  2360]]\n"
     ]
    },
    {
     "data": {
      "image/png": "[encoded data removed]",
      "text/plain": [
       "<matplotlib.figure.Figure at 0x7100f9a550>"
      ]
     },
     "metadata": {},
     "output_type": "display_data"
    },
    {
     "data": {
      "image/png": "[encoded data removed]",
      "text/plain": [
       "<matplotlib.figure.Figure at 0x7100fb8b00>"
      ]
     },
     "metadata": {},
     "output_type": "display_data"
    }
   ],
   "source": [
    "get_lgb_params(lgbc.get_params(),cvparams,tran_table)\n",
    "\n",
    "feat_imp=modelfit(lgbc,X_train,y_train,X_test,y_test,'auto',cvparams,useTrainCV=True,cv_folds=5,early_stopping_rounds=50)"
   ]
  },
  {
   "cell_type": "code",
   "execution_count": 23,
   "metadata": {
    "collapsed": true
   },
   "outputs": [],
   "source": [
    "params['n_estimators']=15"
   ]
  },
  {
   "cell_type": "markdown",
   "metadata": {},
   "source": [
    "# 2 Tune params"
   ]
  },
  {
   "cell_type": "code",
   "execution_count": 24,
   "metadata": {
    "collapsed": true
   },
   "outputs": [],
   "source": [
    "#不重要的警告信息不予显示\n",
    "import warnings\n",
    "warnings.filterwarnings(\"ignore\")"
   ]
  },
  {
   "cell_type": "markdown",
   "metadata": {},
   "source": [
    "## 2.1 subsample"
   ]
  },
  {
   "cell_type": "code",
   "execution_count": 26,
   "metadata": {
    "collapsed": false
   },
   "outputs": [
    {
     "name": "stdout",
     "output_type": "stream",
     "text": [
      "Best params:\n",
      "subsample : 1.0\n",
      "Best score: 0.62939844723\n",
      "      mean_test_score  mean_train_score  std_test_score  std_train_score\n",
      "0.95         0.626392          0.709098        0.004890         0.000742\n",
      "0.96         0.628116          0.709190        0.004393         0.001049\n",
      "0.97         0.628508          0.709126        0.003853         0.000533\n",
      "0.98         0.629027          0.709662        0.007158         0.000810\n",
      "0.99         0.628030          0.709740        0.005146         0.001352\n",
      "1.00         0.629398          0.709849        0.004940         0.001163\n"
     ]
    }
   ],
   "source": [
    "searchParam={'subsample':[0.95,0.96,0.97,0.98,0.99,1.0]}\n",
    "turnParams(lgbc,X_train,y_train,'auto',searchParam,params,scoring='roc_auc',cv=5);"
   ]
  },
  {
   "cell_type": "markdown",
   "metadata": {},
   "source": [
    "## 2.3 colsample_bytree"
   ]
  },
  {
   "cell_type": "code",
   "execution_count": 27,
   "metadata": {
    "collapsed": false
   },
   "outputs": [
    {
     "name": "stdout",
     "output_type": "stream",
     "text": [
      "Best params:\n",
      "colsample_bytree : 1.0\n",
      "Best score: 0.62939844723\n",
      "     mean_test_score  mean_train_score  std_test_score  std_train_score\n",
      "0.1         0.617548          0.689106        0.004777         0.001129\n",
      "0.3         0.625501          0.702459        0.005905         0.001062\n",
      "0.5         0.628838          0.707310        0.005327         0.000880\n",
      "0.7         0.627736          0.708303        0.004381         0.000925\n",
      "0.9         0.627784          0.709258        0.005114         0.001281\n",
      "1.0         0.629398          0.709849        0.004940         0.001163\n"
     ]
    }
   ],
   "source": [
    "searchParam={'colsample_bytree':[0.1,0.3,0.5,0.7,0.9,1.0]}\n",
    "turnParams(lgbc,X_train,y_train,'auto',searchParam,params,scoring='roc_auc',cv=5);"
   ]
  },
  {
   "cell_type": "code",
   "execution_count": 28,
   "metadata": {
    "collapsed": false
   },
   "outputs": [
    {
     "name": "stdout",
     "output_type": "stream",
     "text": [
      "Best params:\n",
      "colsample_bytree : 0.97\n",
      "Best score: 0.629413949832\n",
      "      mean_test_score  mean_train_score  std_test_score  std_train_score\n",
      "0.93         0.627209          0.709690        0.005074         0.000841\n",
      "0.95         0.627686          0.709389        0.004726         0.000615\n",
      "0.97         0.629414          0.709644        0.004609         0.001020\n",
      "0.99         0.628507          0.709748        0.006494         0.000698\n",
      "1.00         0.629398          0.709849        0.004940         0.001163\n"
     ]
    }
   ],
   "source": [
    "searchParam={'colsample_bytree':[0.93,0.95,0.97,0.99,1.0]}\n",
    "turnParams(lgbc,X_train,y_train,'auto',searchParam,params,scoring='roc_auc',cv=5);"
   ]
  },
  {
   "cell_type": "markdown",
   "metadata": {},
   "source": [
    "## 2.4 reg_alpha"
   ]
  },
  {
   "cell_type": "code",
   "execution_count": 29,
   "metadata": {
    "collapsed": false
   },
   "outputs": [
    {
     "name": "stdout",
     "output_type": "stream",
     "text": [
      "Best params:\n",
      "reg_alpha : 40\n",
      "Best score: 0.633136925851\n",
      "    mean_test_score  mean_train_score  std_test_score  std_train_score\n",
      "35         0.632250          0.703459        0.004897         0.001305\n",
      "40         0.633137          0.702400        0.004473         0.001432\n",
      "45         0.632246          0.701702        0.004651         0.001445\n",
      "50         0.632579          0.700753        0.006402         0.000926\n",
      "55         0.632410          0.700257        0.005471         0.001247\n"
     ]
    }
   ],
   "source": [
    "searchParam={'reg_alpha':[35,40,45,50,55]}\n",
    "turnParams(lgbc,X_train,y_train,'auto',searchParam,params,scoring='roc_auc',cv=5);"
   ]
  },
  {
   "cell_type": "code",
   "execution_count": 30,
   "metadata": {
    "collapsed": false
   },
   "outputs": [
    {
     "name": "stdout",
     "output_type": "stream",
     "text": [
      "Best params:\n",
      "reg_alpha : 40\n",
      "Best score: 0.633136925851\n",
      "    mean_test_score  mean_train_score  std_test_score  std_train_score\n",
      "38         0.632750          0.702917        0.004485         0.001252\n",
      "39         0.631521          0.702801        0.006761         0.001269\n",
      "40         0.633137          0.702400        0.004473         0.001432\n",
      "41         0.633013          0.702631        0.005275         0.001129\n",
      "42         0.632204          0.702636        0.005423         0.000833\n"
     ]
    }
   ],
   "source": [
    "searchParam={'reg_alpha':[38,39,40,41,42]}\n",
    "turnParams(lgbc,X_train,y_train,'auto',searchParam,params,scoring='roc_auc',cv=5);"
   ]
  },
  {
   "cell_type": "code",
   "execution_count": 31,
   "metadata": {
    "collapsed": false
   },
   "outputs": [
    {
     "name": "stdout",
     "output_type": "stream",
     "text": [
      "Best params:\n",
      "reg_alpha : 39.9\n",
      "Best score: 0.633226960228\n",
      "      mean_test_score  mean_train_score  std_test_score  std_train_score\n",
      "39.7         0.632073          0.702458        0.005370         0.001377\n",
      "39.8         0.632462          0.702454        0.004538         0.001424\n",
      "39.9         0.633227          0.702661        0.004534         0.001412\n",
      "40.0         0.633137          0.702400        0.004473         0.001432\n",
      "40.1         0.632990          0.702747        0.003751         0.000986\n",
      "40.2         0.632134          0.702384        0.003865         0.001205\n",
      "40.3         0.632592          0.702139        0.004572         0.001209\n"
     ]
    }
   ],
   "source": [
    "searchParam={'reg_alpha':[39.7,39.8,39.9,40,40.1,40.2,40.3]}\n",
    "turnParams(lgbc,X_train,y_train,'auto',searchParam,params,scoring='roc_auc',cv=5);"
   ]
  },
  {
   "cell_type": "markdown",
   "metadata": {},
   "source": [
    "## 2.5 reg_lambda"
   ]
  },
  {
   "cell_type": "code",
   "execution_count": 32,
   "metadata": {
    "collapsed": false
   },
   "outputs": [
    {
     "name": "stdout",
     "output_type": "stream",
     "text": [
      "Best params:\n",
      "reg_lambda : 2.7\n",
      "Best score: 0.632659276835\n",
      "     mean_test_score  mean_train_score  std_test_score  std_train_score\n",
      "2.3         0.632111          0.702380        0.005406         0.001010\n",
      "2.4         0.631733          0.702601        0.005353         0.000798\n",
      "2.5         0.632472          0.702819        0.005446         0.000641\n",
      "2.6         0.632627          0.703189        0.005278         0.001279\n",
      "2.7         0.632659          0.702888        0.005329         0.001647\n"
     ]
    }
   ],
   "source": [
    "searchParam={'reg_lambda':[2.3,2.4,2.5,2.6,2.7]}\n",
    "turnParams(lgbc,X_train,y_train,'auto',searchParam,params,scoring='roc_auc',cv=5);"
   ]
  },
  {
   "cell_type": "code",
   "execution_count": 34,
   "metadata": {
    "collapsed": false
   },
   "outputs": [
    {
     "name": "stdout",
     "output_type": "stream",
     "text": [
      "Best params:\n",
      "reg_lambda : 2.72\n",
      "Best score: 0.632659532402\n",
      "      mean_test_score  mean_train_score  std_test_score  std_train_score\n",
      "2.68         0.632659          0.702890        0.005329         0.001647\n",
      "2.69         0.632659          0.702889        0.005329         0.001647\n",
      "2.70         0.632659          0.702888        0.005329         0.001647\n",
      "2.71         0.632659          0.702888        0.005329         0.001647\n",
      "2.72         0.632660          0.702887        0.005329         0.001647\n"
     ]
    }
   ],
   "source": [
    "searchParam={'reg_lambda':[2.68,2.69,2.7,2.71,2.72]}\n",
    "turnParams(lgbc,X_train,y_train,'auto',searchParam,params,scoring='roc_auc',cv=5);"
   ]
  },
  {
   "cell_type": "markdown",
   "metadata": {},
   "source": [
    "## 2.6 min_child_samples"
   ]
  },
  {
   "cell_type": "code",
   "execution_count": null,
   "metadata": {
    "collapsed": false
   },
   "outputs": [],
   "source": [
    "searchParam={'min_child_samples':[1,2,3,4,5,6,7]}\n",
    "turnParams(lgbc,X_train,y_train,'auto',searchParam,params,scoring='roc_auc',cv=5);"
   ]
  },
  {
   "cell_type": "markdown",
   "metadata": {},
   "source": [
    "## 2.7 min_child_weight"
   ]
  },
  {
   "cell_type": "code",
   "execution_count": 39,
   "metadata": {
    "collapsed": false
   },
   "outputs": [
    {
     "name": "stdout",
     "output_type": "stream",
     "text": [
      "Best params:\n",
      "min_child_weight : 3.0\n",
      "Best score: 0.637629007182\n",
      "         mean_test_score  mean_train_score  std_test_score  std_train_score\n",
      "0.00000         0.637568          0.681603        0.005045         0.001111\n",
      "0.00001         0.637568          0.681603        0.005045         0.001111\n",
      "0.00100         0.637568          0.681603        0.005045         0.001111\n",
      "0.10000         0.637568          0.681603        0.005045         0.001111\n",
      "0.50000         0.637568          0.681603        0.005045         0.001111\n",
      "1.00000         0.637568          0.681603        0.005045         0.001111\n",
      "3.00000         0.637629          0.681587        0.004988         0.001109\n",
      "5.00000         0.637629          0.681587        0.004988         0.001109\n"
     ]
    }
   ],
   "source": [
    "searchParam={'min_child_weight':[0,1e-5,1e-3,0.1,0.5,1.0,3.0,5.0]}\n",
    "turnParams(lgbc,X_train,y_train,'auto',searchParam,params,scoring='roc_auc',cv=5);"
   ]
  },
  {
   "cell_type": "code",
   "execution_count": 40,
   "metadata": {
    "collapsed": false
   },
   "outputs": [
    {
     "name": "stdout",
     "output_type": "stream",
     "text": [
      "Best params:\n",
      "min_child_weight : 2.9\n",
      "Best score: 0.637629007182\n",
      "     mean_test_score  mean_train_score  std_test_score  std_train_score\n",
      "2.0         0.637568          0.681603        0.005045         0.001111\n",
      "2.9         0.637629          0.681587        0.004988         0.001109\n",
      "3.0         0.637629          0.681587        0.004988         0.001109\n",
      "3.1         0.637629          0.681587        0.004988         0.001109\n",
      "3.5         0.637629          0.681587        0.004988         0.001109\n",
      "4.0         0.637629          0.681587        0.004988         0.001109\n"
     ]
    }
   ],
   "source": [
    "searchParam={'min_child_weight':[2.0,2.9,3.0,3.1,3.5,4.0]}\n",
    "turnParams(lgbc,X_train,y_train,'auto',searchParam,params,scoring='roc_auc',cv=5);"
   ]
  },
  {
   "cell_type": "markdown",
   "metadata": {},
   "source": [
    "## 2.9 min_split_gain"
   ]
  },
  {
   "cell_type": "code",
   "execution_count": 42,
   "metadata": {
    "collapsed": false
   },
   "outputs": [
    {
     "name": "stdout",
     "output_type": "stream",
     "text": [
      "Best params:\n",
      "min_split_gain : 0\n",
      "Best score: 0.637629007182\n",
      "         mean_test_score  mean_train_score  std_test_score  std_train_score\n",
      "0.00000         0.637629          0.681587        0.004988         0.001109\n",
      "0.00001         0.637629          0.681587        0.004988         0.001109\n",
      "0.00010         0.637571          0.681529        0.005054         0.001033\n",
      "0.00100         0.637571          0.681529        0.005054         0.001033\n",
      "0.01000         0.637569          0.681522        0.005052         0.001029\n"
     ]
    }
   ],
   "source": [
    "searchParam={'min_split_gain':[0,1e-5,1e-4,1e-3,1e-2]}\n",
    "turnParams(lgbc,X_train,y_train,'auto',searchParam,params,scoring='roc_auc',cv=5);"
   ]
  },
  {
   "cell_type": "markdown",
   "metadata": {},
   "source": [
    "## 2.10 num_leaves"
   ]
  },
  {
   "cell_type": "code",
   "execution_count": 44,
   "metadata": {
    "collapsed": false
   },
   "outputs": [
    {
     "name": "stdout",
     "output_type": "stream",
     "text": [
      "Best params:\n",
      "num_leaves : 50\n",
      "Best score: 0.637629007182\n",
      "    mean_test_score  mean_train_score  std_test_score  std_train_score\n",
      "45         0.636355          0.677975        0.005132         0.001488\n",
      "50         0.637629          0.681587        0.004988         0.001109\n",
      "55         0.636528          0.685611        0.005112         0.001504\n",
      "60         0.637053          0.689567        0.005218         0.001398\n",
      "70         0.635619          0.695831        0.005509         0.001285\n"
     ]
    }
   ],
   "source": [
    "searchParam={'num_leaves':[45,50,55,60,70]}\n",
    "turnParams(lgbc,X_train,y_train,'auto',searchParam,params,scoring='roc_auc',cv=5);"
   ]
  },
  {
   "cell_type": "code",
   "execution_count": 45,
   "metadata": {
    "collapsed": false
   },
   "outputs": [
    {
     "name": "stdout",
     "output_type": "stream",
     "text": [
      "Best params:\n",
      "num_leaves : 50\n",
      "Best score: 0.637629007182\n",
      "    mean_test_score  mean_train_score  std_test_score  std_train_score\n",
      "46         0.636712          0.678913        0.006490         0.001410\n",
      "48         0.636926          0.680268        0.005579         0.000436\n",
      "49         0.636711          0.680972        0.004927         0.000992\n",
      "50         0.637629          0.681587        0.004988         0.001109\n",
      "51         0.636010          0.682667        0.005416         0.001174\n",
      "52         0.636921          0.683520        0.004810         0.001343\n",
      "53         0.636979          0.684133        0.004954         0.001112\n"
     ]
    }
   ],
   "source": [
    "searchParam={'num_leaves':[46,48,49,50,51,52,53]}\n",
    "turnParams(lgbc,X_train,y_train,'auto',searchParam,params,scoring='roc_auc',cv=5);"
   ]
  },
  {
   "cell_type": "markdown",
   "metadata": {},
   "source": [
    "## 2.10 max_depth"
   ]
  },
  {
   "cell_type": "code",
   "execution_count": 46,
   "metadata": {
    "collapsed": false
   },
   "outputs": [
    {
     "name": "stdout",
     "output_type": "stream",
     "text": [
      "Best params:\n",
      "max_depth : 10\n",
      "Best score: 0.637475138852\n",
      "    mean_test_score  mean_train_score  std_test_score  std_train_score\n",
      "8          0.636463          0.679495        0.005743         0.001031\n",
      "9          0.637003          0.680608        0.005344         0.001308\n",
      "10         0.637475          0.680886        0.004867         0.001312\n",
      "11         0.637104          0.681369        0.005650         0.001168\n",
      "12         0.637035          0.681300        0.005077         0.001206\n"
     ]
    }
   ],
   "source": [
    "searchParam={'max_depth':[8,9,10,11,12]}\n",
    "turnParams(lgbc,X_train,y_train,'auto',searchParam,params,scoring='roc_auc',cv=5);"
   ]
  },
  {
   "cell_type": "code",
   "execution_count": 47,
   "metadata": {
    "collapsed": false
   },
   "outputs": [
    {
     "name": "stdout",
     "output_type": "stream",
     "text": [
      "Best params:\n",
      "max_depth : 17\n",
      "Best score: 0.637629007182\n",
      "    mean_test_score  mean_train_score  std_test_score  std_train_score\n",
      "10         0.637475          0.680886        0.004867         0.001312\n",
      "13         0.636974          0.681303        0.005861         0.001149\n",
      "15         0.637492          0.681616        0.005146         0.001148\n",
      "17         0.637629          0.681587        0.004988         0.001109\n",
      "19         0.637629          0.681587        0.004988         0.001109\n",
      "20         0.637629          0.681587        0.004988         0.001109\n",
      "21         0.637629          0.681587        0.004988         0.001109\n",
      "23         0.637629          0.681587        0.004988         0.001109\n"
     ]
    }
   ],
   "source": [
    "searchParam={'max_depth':[10,13,15,17,19,20,21,23]}\n",
    "turnParams(lgbc,X_train,y_train,'auto',searchParam,params,scoring='roc_auc',cv=5);"
   ]
  },
  {
   "cell_type": "code",
   "execution_count": 48,
   "metadata": {
    "collapsed": false
   },
   "outputs": [
    {
     "name": "stdout",
     "output_type": "stream",
     "text": [
      "Best params:\n",
      "max_depth : 16\n",
      "Best score: 0.637632330161\n",
      "    mean_test_score  mean_train_score  std_test_score  std_train_score\n",
      "16         0.637632          0.681570        0.004984         0.001086\n",
      "17         0.637629          0.681587        0.004988         0.001109\n",
      "18         0.637629          0.681587        0.004988         0.001109\n"
     ]
    }
   ],
   "source": [
    "searchParam={'max_depth':[16,17,18]}\n",
    "turnParams(lgbc,X_train,y_train,'auto',searchParam,params,scoring='roc_auc',cv=5);"
   ]
  },
  {
   "cell_type": "markdown",
   "metadata": {},
   "source": [
    "## 2.11 lower learning_rate"
   ]
  },
  {
   "cell_type": "code",
   "execution_count": 50,
   "metadata": {
    "collapsed": false
   },
   "outputs": [
    {
     "name": "stdout",
     "output_type": "stream",
     "text": [
      "[20]\tcv_agg's auc: 0.629291 + 0.00424879\n",
      "[40]\tcv_agg's auc: 0.630515 + 0.00441368\n",
      "[60]\tcv_agg's auc: 0.631328 + 0.00458891\n",
      "[80]\tcv_agg's auc: 0.632508 + 0.00454832\n",
      "[100]\tcv_agg's auc: 0.63325 + 0.00445416\n",
      "[120]\tcv_agg's auc: 0.633986 + 0.0045039\n",
      "[140]\tcv_agg's auc: 0.634747 + 0.00458053\n",
      "[160]\tcv_agg's auc: 0.635636 + 0.00463624\n",
      "[180]\tcv_agg's auc: 0.636295 + 0.00460744\n",
      "[200]\tcv_agg's auc: 0.636961 + 0.00461526\n",
      "[220]\tcv_agg's auc: 0.637542 + 0.00460483\n",
      "[240]\tcv_agg's auc: 0.6381 + 0.00463393\n",
      "[260]\tcv_agg's auc: 0.638547 + 0.00457937\n",
      "[280]\tcv_agg's auc: 0.639084 + 0.0045167\n",
      "[300]\tcv_agg's auc: 0.63947 + 0.0045587\n",
      "[320]\tcv_agg's auc: 0.639821 + 0.00447171\n",
      "[340]\tcv_agg's auc: 0.640177 + 0.0043807\n",
      "[360]\tcv_agg's auc: 0.640481 + 0.00428607\n",
      "[380]\tcv_agg's auc: 0.640775 + 0.00423063\n",
      "[400]\tcv_agg's auc: 0.640961 + 0.00414792\n",
      "[420]\tcv_agg's auc: 0.641165 + 0.00414187\n",
      "[440]\tcv_agg's auc: 0.641369 + 0.00412458\n",
      "[460]\tcv_agg's auc: 0.641525 + 0.00407071\n",
      "[480]\tcv_agg's auc: 0.64169 + 0.00404843\n",
      "[500]\tcv_agg's auc: 0.641717 + 0.00404985\n",
      "[520]\tcv_agg's auc: 0.641769 + 0.00399384\n",
      "[540]\tcv_agg's auc: 0.641845 + 0.00395057\n",
      "[560]\tcv_agg's auc: 0.641887 + 0.00392089\n",
      "[580]\tcv_agg's auc: 0.641921 + 0.00395276\n",
      "[600]\tcv_agg's auc: 0.641962 + 0.00393055\n",
      "[620]\tcv_agg's auc: 0.641954 + 0.00393965\n",
      "[640]\tcv_agg's auc: 0.641945 + 0.00393472\n",
      "[660]\tcv_agg's auc: 0.641955 + 0.00391172\n",
      "Best Iteration: 610\n",
      "Model report on trian:\n",
      "Train AUC:0.6968\n",
      "Model report on test:\n",
      "Test AUC:0.6429\n",
      "Test classifiction report:\n",
      "             precision    recall  f1-score   support\n",
      "\n",
      "          0       0.97      0.65      0.78    114704\n",
      "          1       0.06      0.55      0.10      4339\n",
      "\n",
      "avg / total       0.94      0.64      0.75    119043\n",
      "\n",
      "Test confusion matrix:\n",
      "Confusion matrix, without normalization\n",
      "[[74338 40366]\n",
      " [ 1945  2394]]\n"
     ]
    },
    {
     "data": {
      "image/png": "[encoded data removed]",
      "text/plain": [
       "<matplotlib.figure.Figure at 0xdf814a97b8>"
      ]
     },
     "metadata": {},
     "output_type": "display_data"
    },
    {
     "data": {
      "image/png": "[encoded data removed]",
      "text/plain": [
       "<matplotlib.figure.Figure at 0xdfa6e58a58>"
      ]
     },
     "metadata": {},
     "output_type": "display_data"
    }
   ],
   "source": [
    "params['learning_rate']=0.01\n",
    "lgbc=lgb.LGBMClassifier(**params)\n",
    "get_lgb_params(params,cvparams,tran_table)\n",
    "feat_imp=modelfit(lgbc,X_train,y_train,X_test,y_test,'auto',cvparams,useTrainCV=True,cv_folds=5,early_stopping_rounds=50)"
   ]
  },
  {
   "cell_type": "code",
   "execution_count": 52,
   "metadata": {
    "collapsed": true
   },
   "outputs": [],
   "source": [
    "params['n_estimators']=610"
   ]
  },
  {
   "cell_type": "markdown",
   "metadata": {},
   "source": [
    "# 3 Final model"
   ]
  },
  {
   "cell_type": "code",
   "execution_count": 53,
   "metadata": {
    "collapsed": false
   },
   "outputs": [
    {
     "data": {
      "text/plain": [
       "{'boosting_type': 'gbdt',\n",
       " 'colsample_bytree': 0.65,\n",
       " 'is_unbalance': True,\n",
       " 'learning_rate': 0.01,\n",
       " 'max_bin': 255,\n",
       " 'max_depth': 16,\n",
       " 'min_child_samples': 4,\n",
       " 'min_child_weight': 2.9,\n",
       " 'min_split_gain': 0,\n",
       " 'n_estimators': 610,\n",
       " 'n_jobs': 4,\n",
       " 'num_leaves': 50,\n",
       " 'objective': 'binary',\n",
       " 'random_state': 9,\n",
       " 'reg_alpha': 39.15,\n",
       " 'reg_lambda': 2.5,\n",
       " 'subsample': 0.98,\n",
       " 'subsample_freq': 1}"
      ]
     },
     "execution_count": 53,
     "metadata": {},
     "output_type": "execute_result"
    }
   ],
   "source": [
    "params"
   ]
  },
  {
   "cell_type": "code",
   "execution_count": 54,
   "metadata": {
    "collapsed": true
   },
   "outputs": [],
   "source": [
    "lgbc_opt=lgb.LGBMClassifier(**params)"
   ]
  },
  {
   "cell_type": "markdown",
   "metadata": {},
   "source": [
    "### cv"
   ]
  },
  {
   "cell_type": "code",
   "execution_count": 55,
   "metadata": {
    "collapsed": false
   },
   "outputs": [
    {
     "name": "stdout",
     "output_type": "stream",
     "text": [
      "Best params:\n",
      "n_estimators : 610\n",
      "Best score: 0.642507487303\n",
      "     mean_test_score  mean_train_score  std_test_score  std_train_score\n",
      "610         0.642507          0.696729        0.002792         0.000703\n"
     ]
    }
   ],
   "source": [
    "searchParam={'n_estimators':[610]}\n",
    "turnParams(lgbc_opt,X,y,'auto',searchParam,params,scoring='roc_auc',cv=5);"
   ]
  },
  {
   "cell_type": "code",
   "execution_count": 56,
   "metadata": {
    "collapsed": false
   },
   "outputs": [
    {
     "data": {
      "text/plain": [
       "LGBMClassifier(boosting_type='gbdt', colsample_bytree=0.65, is_unbalance=True,\n",
       "        learning_rate=0.01, max_bin=255, max_depth=16, min_child_samples=4,\n",
       "        min_child_weight=2.9, min_split_gain=0, n_estimators=610, n_jobs=4,\n",
       "        num_leaves=50, objective='binary', random_state=9, reg_alpha=39.15,\n",
       "        reg_lambda=2.5, silent=True, subsample=0.98,\n",
       "        subsample_for_bin=50000, subsample_freq=1)"
      ]
     },
     "execution_count": 56,
     "metadata": {},
     "output_type": "execute_result"
    }
   ],
   "source": [
    "lgbc_opt.fit(X,y,feature_name=list(X.columns),categorical_feature='auto')"
   ]
  },
  {
   "cell_type": "code",
   "execution_count": 57,
   "metadata": {
    "collapsed": false
   },
   "outputs": [
    {
     "data": {
      "text/plain": [
       "['D:\\\\study\\\\Competition\\\\kaggle-PSSDP-20171014\\\\20171107_18LightGBM_dummy_RTE_del_calc.pkl']"
      ]
     },
     "execution_count": 57,
     "metadata": {},
     "output_type": "execute_result"
    }
   ],
   "source": [
    "joblib.dump(lgbc_opt,r'D:\\study\\Competition\\kaggle-PSSDP-20171014\\20171107_18LightGBM_dummy_RTE_del_calc.pkl')"
   ]
  },
  {
   "cell_type": "code",
   "execution_count": 58,
   "metadata": {
    "collapsed": true
   },
   "outputs": [],
   "source": [
    "pred_prob=lgbc_opt.predict_proba(X_predict)[:,1]"
   ]
  },
  {
   "cell_type": "code",
   "execution_count": 59,
   "metadata": {
    "collapsed": true
   },
   "outputs": [],
   "source": [
    "predict_result=pd.DataFrame({'id':test_df['id'].astype(int),'target':pd.Series(pred_prob,index=test_df['id'].index)})"
   ]
  },
  {
   "cell_type": "code",
   "execution_count": 60,
   "metadata": {
    "collapsed": false
   },
   "outputs": [
    {
     "data": {
      "text/html": [
       "<div>\n",
       "<table border=\"1\" class=\"dataframe\">\n",
       "  <thead>\n",
       "    <tr style=\"text-align: right;\">\n",
       "      <th></th>\n",
       "      <th>id</th>\n",
       "      <th>target</th>\n",
       "    </tr>\n",
       "  </thead>\n",
       "  <tbody>\n",
       "    <tr>\n",
       "      <th>0</th>\n",
       "      <td>0</td>\n",
       "      <td>0.428301</td>\n",
       "    </tr>\n",
       "    <tr>\n",
       "      <th>1</th>\n",
       "      <td>1</td>\n",
       "      <td>0.386169</td>\n",
       "    </tr>\n",
       "    <tr>\n",
       "      <th>2</th>\n",
       "      <td>2</td>\n",
       "      <td>0.394907</td>\n",
       "    </tr>\n",
       "    <tr>\n",
       "      <th>3</th>\n",
       "      <td>3</td>\n",
       "      <td>0.269691</td>\n",
       "    </tr>\n",
       "    <tr>\n",
       "      <th>4</th>\n",
       "      <td>4</td>\n",
       "      <td>0.505694</td>\n",
       "    </tr>\n",
       "  </tbody>\n",
       "</table>\n",
       "</div>"
      ],
      "text/plain": [
       "   id    target\n",
       "0   0  0.428301\n",
       "1   1  0.386169\n",
       "2   2  0.394907\n",
       "3   3  0.269691\n",
       "4   4  0.505694"
      ]
     },
     "execution_count": 60,
     "metadata": {},
     "output_type": "execute_result"
    }
   ],
   "source": [
    "predict_result.head()"
   ]
  },
  {
   "cell_type": "code",
   "execution_count": 61,
   "metadata": {
    "collapsed": true
   },
   "outputs": [],
   "source": [
    "predict_result.to_csv(r'D:\\study\\Competition\\kaggle-PSSDP-20171014\\20171107_18LightGBM_dummy_RTE_del_calc.csv',index=False)"
   ]
  },
  {
   "cell_type": "code",
   "execution_count": 62,
   "metadata": {
    "collapsed": false
   },
   "outputs": [
    {
     "data": {
      "text/plain": [
       "<matplotlib.axes._subplots.AxesSubplot at 0xdf814a39b0>"
      ]
     },
     "execution_count": 62,
     "metadata": {},
     "output_type": "execute_result"
    },
    {
     "data": {
      "image/png": "[encoded data removed]",
      "text/plain": [
       "<matplotlib.figure.Figure at 0xdf814579b0>"
      ]
     },
     "metadata": {},
     "output_type": "display_data"
    }
   ],
   "source": [
    "sns.distplot(predict_result['target'])"
   ]
  },
  {
   "cell_type": "code",
   "execution_count": 63,
   "metadata": {
    "collapsed": false
   },
   "outputs": [
    {
     "data": {
      "text/plain": [
       "count    892816.000000\n",
       "mean          0.463060\n",
       "std           0.115733\n",
       "min           0.154190\n",
       "25%           0.379312\n",
       "50%           0.459259\n",
       "75%           0.541893\n",
       "max           0.888450\n",
       "Name: target, dtype: float64"
      ]
     },
     "execution_count": 63,
     "metadata": {},
     "output_type": "execute_result"
    }
   ],
   "source": [
    "predict_result['target'].describe()"
   ]
  },
  {
   "cell_type": "code",
   "execution_count": null,
   "metadata": {
    "collapsed": true
   },
   "outputs": [],
   "source": []
  }
 ],
 "metadata": {
  "kernelspec": {
   "display_name": "Python 3",
   "language": "python",
   "name": "python3"
  },
  "language_info": {
   "codemirror_mode": {
    "name": "ipython",
    "version": 3
   },
   "file_extension": ".py",
   "mimetype": "text/x-python",
   "name": "python",
   "nbconvert_exporter": "python",
   "pygments_lexer": "ipython3",
   "version": "3.6.0"
  }
 },
 "nbformat": 4,
 "nbformat_minor": 2
}
