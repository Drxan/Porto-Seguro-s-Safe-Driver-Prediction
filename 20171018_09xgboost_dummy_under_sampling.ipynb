{
 "cells": [
  {
   "cell_type": "markdown",
   "metadata": {},
   "source": [
    "###  先对分类变量做哑编码，再利用20171017_05xgboost_under_sampling的方法调参得到一组最优参数"
   ]
  },
  {
   "cell_type": "code",
   "execution_count": 11,
   "metadata": {},
   "outputs": [],
   "source": [
    "import itertools\n",
    "import pandas as pd\n",
    "import numpy as np\n",
    "import matplotlib.pyplot as plt\n",
    "import seaborn as sns\n",
    "from sklearn.model_selection import train_test_split,GridSearchCV\n",
    "from xgboost.sklearn import XGBClassifier\n",
    "import xgboost as xgb\n",
    "from sklearn import metrics\n",
    "from sklearn.decomposition import PCA\n",
    "from sklearn.utils import shuffle\n",
    "%matplotlib inline\n",
    "plt.rcParams['figure.figsize']=12,4"
   ]
  },
  {
   "cell_type": "code",
   "execution_count": 12,
   "metadata": {
    "collapsed": true
   },
   "outputs": [],
   "source": [
    "train_df=pd.read_csv('/home/yw/study/Competition/Safe_Driver_Prediction_20171014/train.csv',na_values=-1)\n",
    "test_df=pd.read_csv('/home/yw/study/Competition/Safe_Driver_Prediction_20171014/test.csv',na_values=-1)\n",
    "sample_df=pd.read_csv('/home/yw/study/Competition/Safe_Driver_Prediction_20171014/sample_submission.csv')"
   ]
  },
  {
   "cell_type": "code",
   "execution_count": 13,
   "metadata": {
    "collapsed": true
   },
   "outputs": [],
   "source": [
    "train_df.fillna(np.nan,inplace=True)\n",
    "test_df.fillna(np.nan,inplace=True)"
   ]
  },
  {
   "cell_type": "code",
   "execution_count": 14,
   "metadata": {},
   "outputs": [
    {
     "data": {
      "text/html": [
       "<div>\n",
       "<style>\n",
       "    .dataframe thead tr:only-child th {\n",
       "        text-align: right;\n",
       "    }\n",
       "\n",
       "    .dataframe thead th {\n",
       "        text-align: left;\n",
       "    }\n",
       "\n",
       "    .dataframe tbody tr th {\n",
       "        vertical-align: top;\n",
       "    }\n",
       "</style>\n",
       "<table border=\"1\" class=\"dataframe\">\n",
       "  <thead>\n",
       "    <tr style=\"text-align: right;\">\n",
       "      <th></th>\n",
       "      <th>id</th>\n",
       "      <th>target</th>\n",
       "      <th>ps_ind_01</th>\n",
       "      <th>ps_ind_02_cat</th>\n",
       "      <th>ps_ind_03</th>\n",
       "      <th>ps_ind_04_cat</th>\n",
       "      <th>ps_ind_05_cat</th>\n",
       "      <th>ps_ind_06_bin</th>\n",
       "      <th>ps_ind_07_bin</th>\n",
       "      <th>ps_ind_08_bin</th>\n",
       "      <th>...</th>\n",
       "      <th>ps_calc_11</th>\n",
       "      <th>ps_calc_12</th>\n",
       "      <th>ps_calc_13</th>\n",
       "      <th>ps_calc_14</th>\n",
       "      <th>ps_calc_15_bin</th>\n",
       "      <th>ps_calc_16_bin</th>\n",
       "      <th>ps_calc_17_bin</th>\n",
       "      <th>ps_calc_18_bin</th>\n",
       "      <th>ps_calc_19_bin</th>\n",
       "      <th>ps_calc_20_bin</th>\n",
       "    </tr>\n",
       "  </thead>\n",
       "  <tbody>\n",
       "    <tr>\n",
       "      <th>0</th>\n",
       "      <td>7</td>\n",
       "      <td>0</td>\n",
       "      <td>2</td>\n",
       "      <td>2.0</td>\n",
       "      <td>5</td>\n",
       "      <td>1.0</td>\n",
       "      <td>0.0</td>\n",
       "      <td>0</td>\n",
       "      <td>1</td>\n",
       "      <td>0</td>\n",
       "      <td>...</td>\n",
       "      <td>9</td>\n",
       "      <td>1</td>\n",
       "      <td>5</td>\n",
       "      <td>8</td>\n",
       "      <td>0</td>\n",
       "      <td>1</td>\n",
       "      <td>1</td>\n",
       "      <td>0</td>\n",
       "      <td>0</td>\n",
       "      <td>1</td>\n",
       "    </tr>\n",
       "    <tr>\n",
       "      <th>1</th>\n",
       "      <td>9</td>\n",
       "      <td>0</td>\n",
       "      <td>1</td>\n",
       "      <td>1.0</td>\n",
       "      <td>7</td>\n",
       "      <td>0.0</td>\n",
       "      <td>0.0</td>\n",
       "      <td>0</td>\n",
       "      <td>0</td>\n",
       "      <td>1</td>\n",
       "      <td>...</td>\n",
       "      <td>3</td>\n",
       "      <td>1</td>\n",
       "      <td>1</td>\n",
       "      <td>9</td>\n",
       "      <td>0</td>\n",
       "      <td>1</td>\n",
       "      <td>1</td>\n",
       "      <td>0</td>\n",
       "      <td>1</td>\n",
       "      <td>0</td>\n",
       "    </tr>\n",
       "    <tr>\n",
       "      <th>2</th>\n",
       "      <td>13</td>\n",
       "      <td>0</td>\n",
       "      <td>5</td>\n",
       "      <td>4.0</td>\n",
       "      <td>9</td>\n",
       "      <td>1.0</td>\n",
       "      <td>0.0</td>\n",
       "      <td>0</td>\n",
       "      <td>0</td>\n",
       "      <td>1</td>\n",
       "      <td>...</td>\n",
       "      <td>4</td>\n",
       "      <td>2</td>\n",
       "      <td>7</td>\n",
       "      <td>7</td>\n",
       "      <td>0</td>\n",
       "      <td>1</td>\n",
       "      <td>1</td>\n",
       "      <td>0</td>\n",
       "      <td>1</td>\n",
       "      <td>0</td>\n",
       "    </tr>\n",
       "  </tbody>\n",
       "</table>\n",
       "<p>3 rows × 59 columns</p>\n",
       "</div>"
      ],
      "text/plain": [
       "   id  target  ps_ind_01  ps_ind_02_cat  ps_ind_03  ps_ind_04_cat  \\\n",
       "0   7       0          2            2.0          5            1.0   \n",
       "1   9       0          1            1.0          7            0.0   \n",
       "2  13       0          5            4.0          9            1.0   \n",
       "\n",
       "   ps_ind_05_cat  ps_ind_06_bin  ps_ind_07_bin  ps_ind_08_bin       ...        \\\n",
       "0            0.0              0              1              0       ...         \n",
       "1            0.0              0              0              1       ...         \n",
       "2            0.0              0              0              1       ...         \n",
       "\n",
       "   ps_calc_11  ps_calc_12  ps_calc_13  ps_calc_14  ps_calc_15_bin  \\\n",
       "0           9           1           5           8               0   \n",
       "1           3           1           1           9               0   \n",
       "2           4           2           7           7               0   \n",
       "\n",
       "   ps_calc_16_bin  ps_calc_17_bin  ps_calc_18_bin  ps_calc_19_bin  \\\n",
       "0               1               1               0               0   \n",
       "1               1               1               0               1   \n",
       "2               1               1               0               1   \n",
       "\n",
       "   ps_calc_20_bin  \n",
       "0               1  \n",
       "1               0  \n",
       "2               0  \n",
       "\n",
       "[3 rows x 59 columns]"
      ]
     },
     "execution_count": 14,
     "metadata": {},
     "output_type": "execute_result"
    }
   ],
   "source": [
    "train_df.head(3)"
   ]
  },
  {
   "cell_type": "code",
   "execution_count": 15,
   "metadata": {
    "collapsed": true
   },
   "outputs": [],
   "source": [
    "#所有二元变量\n",
    "bin_features=[feat for feat in train_df.columns if 'bin' in feat]\n",
    "#所有的分类变量\n",
    "cat_features=[feat for feat in train_df.columns if 'cat' in feat]"
   ]
  },
  {
   "cell_type": "markdown",
   "metadata": {},
   "source": [
    "# 1 Data Analysis"
   ]
  },
  {
   "cell_type": "markdown",
   "metadata": {},
   "source": [
    "## 1.1 dummy"
   ]
  },
  {
   "cell_type": "code",
   "execution_count": 16,
   "metadata": {
    "collapsed": true
   },
   "outputs": [],
   "source": [
    "feat_dummies=pd.get_dummies(train_df[cat_features].append(test_df[cat_features]),columns=cat_features,dummy_na=True)"
   ]
  },
  {
   "cell_type": "code",
   "execution_count": 17,
   "metadata": {
    "collapsed": true
   },
   "outputs": [],
   "source": [
    "train_df=train_df.T.append((feat_dummies.iloc[:train_df.shape[0]]).T).T\n",
    "test_df=test_df.T.append((feat_dummies.iloc[train_df.shape[0]:]).T).T"
   ]
  },
  {
   "cell_type": "code",
   "execution_count": 18,
   "metadata": {
    "collapsed": true
   },
   "outputs": [],
   "source": [
    "use_features=[x for x in train_df.columns if x not in ['id','target']+cat_features]"
   ]
  },
  {
   "cell_type": "markdown",
   "metadata": {
    "collapsed": true
   },
   "source": [
    "use_features=[x for x in train_df.columns if x not in ['id','target']]"
   ]
  },
  {
   "cell_type": "code",
   "execution_count": 19,
   "metadata": {
    "collapsed": true
   },
   "outputs": [],
   "source": [
    "X=train_df[use_features]\n",
    "y=train_df['target']\n",
    "\n",
    "X_predict=test_df[use_features]"
   ]
  },
  {
   "cell_type": "code",
   "execution_count": 20,
   "metadata": {
    "collapsed": true
   },
   "outputs": [],
   "source": [
    "X_train,X_test,y_train,y_test=train_test_split(X,y,test_size=0.25,stratify=y,random_state=9)"
   ]
  },
  {
   "cell_type": "markdown",
   "metadata": {},
   "source": [
    "### 下采样，直接从负类中无放回随机抽样与正类等量的样本"
   ]
  },
  {
   "cell_type": "code",
   "execution_count": 24,
   "metadata": {
    "collapsed": true
   },
   "outputs": [],
   "source": [
    "X_train_P=X_train.loc[y_train==1]\n",
    "X_train_N=X_train.loc[y_train==0]\n",
    "\n",
    "y_train_P=y_train[y_train==1]\n",
    "y_train_N=y_train[y_train==0]"
   ]
  },
  {
   "cell_type": "code",
   "execution_count": 25,
   "metadata": {
    "collapsed": true
   },
   "outputs": [],
   "source": [
    "X_train_N_sample,y_train_N_sample=shuffle(X_train_N,y_train_N,random_state=9,n_samples=X_train_P.shape[0])"
   ]
  },
  {
   "cell_type": "code",
   "execution_count": 26,
   "metadata": {
    "collapsed": true
   },
   "outputs": [],
   "source": [
    "X_train_sample,y_train_sample=shuffle(X_train_N_sample.append(X_train_P),y_train_N_sample.append(y_train_P),random_state=9)"
   ]
  },
  {
   "cell_type": "code",
   "execution_count": 27,
   "metadata": {},
   "outputs": [
    {
     "data": {
      "text/plain": [
       "((32542, 232), (32542,))"
      ]
     },
     "execution_count": 27,
     "metadata": {},
     "output_type": "execute_result"
    }
   ],
   "source": [
    "X_train_sample.shape,y_train_sample.shape"
   ]
  },
  {
   "cell_type": "markdown",
   "metadata": {},
   "source": [
    "# 2 Modelling"
   ]
  },
  {
   "cell_type": "markdown",
   "metadata": {},
   "source": [
    "## 2.1 Base line"
   ]
  },
  {
   "cell_type": "code",
   "execution_count": 28,
   "metadata": {
    "collapsed": true
   },
   "outputs": [],
   "source": [
    "def gini(actual, pred, cmpcol = 0, sortcol = 1):\n",
    "    assert( len(actual) == len(pred) )\n",
    "    all = np.asarray(np.c_[ actual, pred, np.arange(len(actual)) ], dtype=np.float)\n",
    "    all = all[ np.lexsort((all[:,2], -1*all[:,1])) ]\n",
    "    totalLosses = all[:,0].sum()\n",
    "    giniSum = all[:,0].cumsum().sum() / totalLosses\n",
    " \n",
    "    giniSum -= (len(actual) + 1) / 2.\n",
    "    return giniSum / len(actual)\n",
    "\n",
    "def softmax(x):\n",
    "    \"\"\"Compute softmax values for each sets of scores in x.\"\"\"\n",
    "    e_x = np.exp(x - np.max(x))\n",
    "    return e_x / e_x.sum() \n",
    "\n",
    "def gini_normalized(preds,dtrain):\n",
    "    y=dtrain.get_label()\n",
    "    preds=softmax(preds)\n",
    "    return 'NormGini',-gini(y, preds) / gini(y, y)\n",
    "\n",
    "def gini_normalized_ordinary(y,preds):\n",
    "    return gini(y, preds) / gini(y, y)\n",
    "\n",
    "def gini_normalized_ordinary_model(model,X,y):\n",
    "    preds=model.predict_proba(X)[:,1]\n",
    "    return gini(y, preds) / gini(y, y)\n",
    "\n",
    "\n",
    "def modelfit(alg,X,y,X_test,y_test,useTrainCV=True,cv_folds=5,early_stopping_rounds=30):\n",
    "    if useTrainCV==True:\n",
    "        xgb_param=alg.get_xgb_params()\n",
    "        xgtrain=xgb.DMatrix(X,label=y,missing=None)\n",
    "        cvresult=xgb.cv(xgb_param,xgtrain,num_boost_round=50000,nfold=cv_folds,feval=gini_normalized,\n",
    "                        early_stopping_rounds=early_stopping_rounds,verbose_eval=20)\n",
    "        alg.set_params(n_estimators=cvresult.shape[0])\n",
    "        print('Best Iteration:',cvresult.shape[0])\n",
    "        \n",
    "    alg.fit(X,y,eval_metric=gini_normalized)\n",
    "    \n",
    "    #Predict training set:\n",
    "    dtrain_predictions=alg.predict(X)\n",
    "    dtrain_predprob=alg.predict_proba(X)[:,1]\n",
    "    \n",
    "    #pPredict test set:\n",
    "    dtest_predictions=alg.predict(X_test)\n",
    "    dtest_predprob=alg.predict_proba(X_test)[:,1]\n",
    "    \n",
    "    #Print Mode report:\n",
    "    print('Model report on trian:')\n",
    "    print('Train Accuracy:{0:.4f}'.format(metrics.accuracy_score(y,dtrain_predictions)))\n",
    "    print('Train AUC:{0:.4f}'.format(metrics.roc_auc_score(y,dtrain_predprob)))\n",
    "    print('Train Normalized GINI：{0:.6f}'.format(gini_normalized_ordinary(y,dtrain_predprob)))\n",
    "    print('Model report on test:')\n",
    "    print('Test Accuracy:{0:.4f}'.format(metrics.accuracy_score(y_test,dtest_predictions)))\n",
    "    print('Test AUC:{0:.4f}'.format(metrics.roc_auc_score(y_test,dtest_predprob)))\n",
    "    print('Test Normalized GINI：{0:.6f}'.format(gini_normalized_ordinary(y_test,dtest_predprob)))\n",
    "    print('Test classifiction report:')\n",
    "    print(metrics.classification_report(y_test,dtest_predictions))\n",
    "    print('Test confusion matrix:')\n",
    "    plt.figure()\n",
    "    with sns.axes_style(style='dark'):\n",
    "        plot_confusion_matrix(metrics.confusion_matrix(y_test,dtest_predictions),classes=['0','1'],\n",
    "                             title='Confusion Matrix')\n",
    "    plt.figure()\n",
    "    feat_imp=pd.Series(alg.booster().get_fscore()).sort_values(ascending=True)\n",
    "    feat_imp.plot(kind='barh',title='Feature Importances',color='green')\n",
    "    plt.ylabel('Feature Importance Score')\n",
    "    return feat_imp\n",
    "\n",
    "def turnParams(model,X,y,searchParam,modelparams,scoring='roc_auc',cv=5):\n",
    "    gsc=GridSearchCV(estimator=model.__class__(**modelparams),param_grid=searchParam,scoring=scoring,\n",
    "                    iid=False,cv=cv)\n",
    "    gsc.fit(X,y)\n",
    "    cv_scores=pd.DataFrame([gsc.cv_results_['mean_test_score'],\n",
    "                            gsc.cv_results_['mean_train_score'],\n",
    "                            gsc.cv_results_['std_test_score'],\n",
    "                            gsc.cv_results_['std_train_score']],\n",
    "                            index=['mean_test_score','mean_train_score','std_test_score','std_train_score']).T\n",
    "    for param in gsc.best_params_.keys():\n",
    "        modelparams[param]=gsc.best_params_[param]\n",
    "    print('Best params:')\n",
    "    for param in gsc.best_params_.keys():\n",
    "        print(param,':',gsc.best_params_[param])\n",
    "    print('Best score:',gsc.best_score_)\n",
    "    print(cv_scores)\n",
    "\n",
    "def plot_confusion_matrix(cm, classes,\n",
    "                          normalize=False,\n",
    "                          title='Confusion matrix',\n",
    "                          cmap=plt.cm.Blues):\n",
    "    \"\"\"\n",
    "    This function prints and plots the confusion matrix.\n",
    "    Normalization can be applied by setting `normalize=True`.\n",
    "    \"\"\"\n",
    "    if normalize:\n",
    "        cm = cm.astype('float') / cm.sum(axis=1)[:, np.newaxis]\n",
    "        print(\"Normalized confusion matrix\")\n",
    "    else:\n",
    "        print('Confusion matrix, without normalization')\n",
    "\n",
    "    print(cm)\n",
    "\n",
    "    plt.imshow(cm, interpolation='nearest', cmap=cmap)\n",
    "    plt.title(title)\n",
    "    plt.colorbar()\n",
    "    tick_marks = np.arange(len(classes))\n",
    "    plt.xticks(tick_marks, classes, rotation=45)\n",
    "    plt.yticks(tick_marks, classes)\n",
    "\n",
    "    fmt = '.2f' if normalize else 'd'\n",
    "    thresh = cm.max() / 2.\n",
    "    for i, j in itertools.product(range(cm.shape[0]), range(cm.shape[1])):\n",
    "        plt.text(j, i, format(cm[i, j], fmt),\n",
    "                 horizontalalignment=\"center\",\n",
    "                 color=\"white\" if cm[i, j] > thresh else \"black\")\n",
    "\n",
    "    plt.tight_layout()\n",
    "    plt.ylabel('True label')\n",
    "    plt.xlabel('Predicted label')"
   ]
  },
  {
   "cell_type": "code",
   "execution_count": 36,
   "metadata": {
    "collapsed": true
   },
   "outputs": [],
   "source": [
    "params={'base_score': 0.5,\n",
    " 'colsample_bylevel': 1,\n",
    " 'colsample_bytree': 1.0,\n",
    " 'gamma': 0.067,\n",
    " 'learning_rate': 0.1,\n",
    " 'max_delta_step': 0,\n",
    " 'max_depth': 3,\n",
    " 'min_child_weight': 0.90000000000000002,\n",
    " 'missing': None,\n",
    " 'n_estimators': 237,\n",
    " 'nthread': -1,\n",
    " 'objective': 'binary:logistic',\n",
    " 'reg_alpha': 14,\n",
    " 'reg_lambda': 0.841,\n",
    " 'scale_pos_weight': 1.0,\n",
    " 'seed': 9,\n",
    " 'silent': True,\n",
    " 'subsample': 1.0}"
   ]
  },
  {
   "cell_type": "code",
   "execution_count": 37,
   "metadata": {
    "collapsed": true
   },
   "outputs": [],
   "source": [
    "xgbc=XGBClassifier(**params)"
   ]
  },
  {
   "cell_type": "code",
   "execution_count": 38,
   "metadata": {},
   "outputs": [
    {
     "name": "stdout",
     "output_type": "stream",
     "text": [
      "[0]\ttrain-NormGini:-0.185378+0.00165854\ttest-NormGini:-0.175507+0.00376106\n",
      "[20]\ttrain-NormGini:-0.268693+0.00201075\ttest-NormGini:-0.242766+0.00736276\n",
      "[40]\ttrain-NormGini:-0.288362+0.00186627\ttest-NormGini:-0.255726+0.00566368\n",
      "[60]\ttrain-NormGini:-0.299381+0.00184805\ttest-NormGini:-0.261231+0.00551304\n",
      "[80]\ttrain-NormGini:-0.30817+0.00158956\ttest-NormGini:-0.26284+0.00550546\n",
      "[100]\ttrain-NormGini:-0.316471+0.00164834\ttest-NormGini:-0.265029+0.00558087\n",
      "[120]\ttrain-NormGini:-0.323857+0.00144375\ttest-NormGini:-0.264921+0.00510403\n",
      "[140]\ttrain-NormGini:-0.330542+0.00125873\ttest-NormGini:-0.264974+0.00532021\n",
      "Best Iteration: 114\n",
      "Model report on trian:\n",
      "Train Accuracy:0.6121\n",
      "Train AUC:0.6568\n",
      "Train Normalized GINI：0.313639\n",
      "Model report on test:\n",
      "Test Accuracy:0.6196\n",
      "Test AUC:0.6324\n",
      "Test Normalized GINI：0.264781\n",
      "Test classifiction report:\n",
      "             precision    recall  f1-score   support\n",
      "\n",
      "        0.0       0.97      0.62      0.76    143380\n",
      "        1.0       0.05      0.57      0.10      5423\n",
      "\n",
      "avg / total       0.94      0.62      0.73    148803\n",
      "\n",
      "Test confusion matrix:\n",
      "Confusion matrix, without normalization\n",
      "[[89122 54258]\n",
      " [ 2352  3071]]\n"
     ]
    },
    {
     "data": {
      "text/plain": [
       "ps_car_01_cat_0.0       1\n",
       "ps_ind_02_cat_4.0       1\n",
       "ps_car_06_cat_15.0      1\n",
       "ps_ind_14               1\n",
       "ps_car_11_cat_64.0      1\n",
       "ps_car_11_cat_6.0       1\n",
       "ps_calc_09              1\n",
       "ps_car_03_cat_0.0       1\n",
       "ps_car_06_cat_9.0       2\n",
       "ps_car_06_cat_7.0       2\n",
       "ps_calc_12              2\n",
       "ps_car_05_cat_0.0       2\n",
       "ps_car_05_cat_1.0       2\n",
       "ps_car_11_cat_65.0      2\n",
       "ps_ind_18_bin           2\n",
       "ps_ind_02_cat_3.0       2\n",
       "ps_car_04_cat_1.0       3\n",
       "ps_ind_05_cat_4.0       3\n",
       "ps_car_01_cat_9.0       3\n",
       "ps_car_02_cat_0.0       3\n",
       "ps_car_09_cat_0.0       4\n",
       "ps_car_11               4\n",
       "ps_car_11_cat_104.0     4\n",
       "ps_car_06_cat_6.0       4\n",
       "ps_car_04_cat_0.0       4\n",
       "ps_car_06_cat_3.0       4\n",
       "ps_car_01_cat_8.0       4\n",
       "ps_car_01_cat_6.0       4\n",
       "ps_calc_19_bin          4\n",
       "ps_calc_18_bin          4\n",
       "                       ..\n",
       "ps_ind_06_bin           8\n",
       "ps_calc_14              8\n",
       "ps_ind_02_cat_2.0       8\n",
       "ps_calc_03              9\n",
       "ps_car_07_cat_1.0       9\n",
       "ps_ind_02_cat_1.0       9\n",
       "ps_car_09_cat_1.0       9\n",
       "ps_calc_10              9\n",
       "ps_calc_08              9\n",
       "ps_calc_04             10\n",
       "ps_ind_04_cat_0.0      10\n",
       "ps_calc_05             11\n",
       "ps_car_12              11\n",
       "ps_ind_07_bin          11\n",
       "ps_ind_09_bin          12\n",
       "ps_car_03_cat_nan      13\n",
       "ps_reg_02              14\n",
       "ps_car_01_cat_7.0      15\n",
       "ps_car_15              16\n",
       "ps_ind_01              17\n",
       "ps_ind_17_bin          19\n",
       "ps_calc_11             20\n",
       "ps_ind_05_cat_0.0      22\n",
       "ps_reg_01              30\n",
       "ps_calc_01             34\n",
       "ps_car_14              35\n",
       "ps_ind_15              46\n",
       "ps_reg_03              56\n",
       "ps_car_13              60\n",
       "ps_ind_03              67\n",
       "Length: 75, dtype: int64"
      ]
     },
     "execution_count": 38,
     "metadata": {},
     "output_type": "execute_result"
    },
    {
     "data": {
      "image/png": "[encoded data removed]",
      "text/plain": [
       "<matplotlib.figure.Figure at 0x7f934c1dbef0>"
      ]
     },
     "metadata": {},
     "output_type": "display_data"
    },
    {
     "data": {
      "image/png": "[encoded data removed]",
      "text/plain": [
       "<matplotlib.figure.Figure at 0x7f934c33ed68>"
      ]
     },
     "metadata": {},
     "output_type": "display_data"
    }
   ],
   "source": [
    "modelfit(xgbc,X_train_sample,y_train_sample,X_test,y_test,useTrainCV=True,cv_folds=5,early_stopping_rounds=30)"
   ]
  },
  {
   "cell_type": "code",
   "execution_count": 39,
   "metadata": {
    "collapsed": true
   },
   "outputs": [],
   "source": [
    "params['n_estimators']=114"
   ]
  },
  {
   "cell_type": "markdown",
   "metadata": {},
   "source": [
    "## 2.2 Trune Params\n",
    "### 2.2.1 first round"
   ]
  },
  {
   "cell_type": "markdown",
   "metadata": {},
   "source": [
    "### （1） max_depth"
   ]
  },
  {
   "cell_type": "code",
   "execution_count": 40,
   "metadata": {},
   "outputs": [
    {
     "name": "stdout",
     "output_type": "stream",
     "text": [
      "Best params:\n",
      "max_depth : 4\n",
      "Best score: 0.264471320307\n",
      "   mean_test_score  mean_train_score  std_test_score  std_train_score\n",
      "0         0.248129          0.259483        0.010148         0.002828\n",
      "1         0.259544          0.289743        0.011632         0.003270\n",
      "2         0.263158          0.321201        0.012762         0.003885\n",
      "3         0.264471          0.364454        0.013655         0.004299\n",
      "4         0.262255          0.421117        0.014640         0.002608\n",
      "5         0.259654          0.492926        0.013900         0.004490\n"
     ]
    }
   ],
   "source": [
    "searchParam={'max_depth':[1,2,3,4,5,6]}\n",
    "turnParams(xgbc,X_train_sample,y_train_sample,searchParam,params,scoring=gini_normalized_ordinary_model,cv=5)"
   ]
  },
  {
   "cell_type": "markdown",
   "metadata": {},
   "source": [
    "### （2）min_child_weight"
   ]
  },
  {
   "cell_type": "code",
   "execution_count": 41,
   "metadata": {},
   "outputs": [
    {
     "name": "stdout",
     "output_type": "stream",
     "text": [
      "Best params:\n",
      "min_child_weight : 0.9\n",
      "Best score: 0.264471320307\n",
      "   mean_test_score  mean_train_score  std_test_score  std_train_score\n",
      "0         0.264471          0.364454        0.013655         0.004299\n",
      "1         0.264471          0.364454        0.013655         0.004299\n",
      "2         0.264471          0.364454        0.013655         0.004299\n",
      "3         0.264471          0.364454        0.013655         0.004299\n",
      "4         0.264471          0.364454        0.013655         0.004299\n",
      "5         0.264471          0.364454        0.013655         0.004299\n",
      "6         0.264471          0.364454        0.013655         0.004299\n",
      "7         0.264471          0.364454        0.013655         0.004299\n",
      "8         0.264471          0.364454        0.013655         0.004299\n",
      "9         0.264471          0.364454        0.013655         0.004299\n"
     ]
    }
   ],
   "source": [
    "searchParam={'min_child_weight':np.arange(0.9,0.95,0.005)}\n",
    "turnParams(xgbc,X_train_sample,y_train_sample,searchParam,params,scoring=gini_normalized_ordinary_model,cv=5)"
   ]
  },
  {
   "cell_type": "code",
   "execution_count": 42,
   "metadata": {},
   "outputs": [
    {
     "name": "stdout",
     "output_type": "stream",
     "text": [
      "Best params:\n",
      "min_child_weight : 0.1\n",
      "Best score: 0.264471320307\n",
      "   mean_test_score  mean_train_score  std_test_score  std_train_score\n",
      "0         0.264471          0.364454        0.013655         0.004298\n",
      "1         0.264471          0.364454        0.013655         0.004298\n",
      "2         0.264471          0.364454        0.013655         0.004299\n",
      "3         0.264471          0.364454        0.013655         0.004299\n",
      "4         0.264471          0.364454        0.013655         0.004299\n"
     ]
    }
   ],
   "source": [
    "searchParam={'min_child_weight':[0.1,0.3,0.5,0.7,0.9]}\n",
    "turnParams(xgbc,X_train_sample,y_train_sample,searchParam,params,scoring=gini_normalized_ordinary_model,cv=5)"
   ]
  },
  {
   "cell_type": "code",
   "execution_count": 43,
   "metadata": {},
   "outputs": [
    {
     "name": "stdout",
     "output_type": "stream",
     "text": [
      "Best params:\n",
      "min_child_weight : 0\n",
      "Best score: 0.264471320307\n",
      "   mean_test_score  mean_train_score  std_test_score  std_train_score\n",
      "0         0.264471          0.364454        0.013655         0.004298\n",
      "1         0.264471          0.364454        0.013655         0.004298\n",
      "2         0.264471          0.364454        0.013655         0.004298\n",
      "3         0.264471          0.364454        0.013655         0.004298\n",
      "4         0.264471          0.364454        0.013655         0.004298\n"
     ]
    }
   ],
   "source": [
    "searchParam={'min_child_weight':[0,1e-3,0.05,0.1,0.15]}\n",
    "turnParams(xgbc,X_train_sample,y_train_sample,searchParam,params,scoring=gini_normalized_ordinary_model,cv=5)"
   ]
  },
  {
   "cell_type": "markdown",
   "metadata": {},
   "source": [
    "### （3）gamma"
   ]
  },
  {
   "cell_type": "code",
   "execution_count": 53,
   "metadata": {},
   "outputs": [
    {
     "name": "stdout",
     "output_type": "stream",
     "text": [
      "Best params:\n",
      "gamma : 0.1\n",
      "Best score: 0.263569203521\n",
      "   mean_test_score  mean_train_score  std_test_score  std_train_score\n",
      "0         0.263491          0.350699        0.014058         0.004463\n",
      "1         0.263491          0.350699        0.014058         0.004463\n",
      "2         0.263569          0.350087        0.014382         0.003872\n",
      "3         0.262887          0.350602        0.014327         0.003424\n",
      "4         0.257451          0.292535        0.012873         0.004715\n"
     ]
    }
   ],
   "source": [
    "searchParam={'gamma':[0,1e-3,0.1,1,10]}\n",
    "turnParams(xgbc,X_train_sample,y_train_sample,searchParam,params,scoring=gini_normalized_ordinary_model,cv=5)"
   ]
  },
  {
   "cell_type": "code",
   "execution_count": 54,
   "metadata": {},
   "outputs": [
    {
     "name": "stdout",
     "output_type": "stream",
     "text": [
      "Best params:\n",
      "gamma : 0.07\n",
      "Best score: 0.26365072483\n",
      "   mean_test_score  mean_train_score  std_test_score  std_train_score\n",
      "0         0.263552          0.350651        0.014313         0.004520\n",
      "1         0.263651          0.350541        0.014258         0.004443\n",
      "2         0.263569          0.350087        0.014382         0.003872\n",
      "3         0.263569          0.350087        0.014382         0.003872\n",
      "4         0.263569          0.350087        0.014382         0.003872\n",
      "5         0.263569          0.350087        0.014382         0.003872\n"
     ]
    }
   ],
   "source": [
    "searchParam={'gamma':[0.05,0.07,0.09,0.1,0.11,0.13]}\n",
    "turnParams(xgbc,X_train_sample,y_train_sample,searchParam,params,scoring=gini_normalized_ordinary_model,cv=5)"
   ]
  },
  {
   "cell_type": "code",
   "execution_count": 55,
   "metadata": {},
   "outputs": [
    {
     "name": "stdout",
     "output_type": "stream",
     "text": [
      "Best params:\n",
      "gamma : 0.06\n",
      "Best score: 0.26365072483\n",
      "   mean_test_score  mean_train_score  std_test_score  std_train_score\n",
      "0         0.263651          0.350541        0.014258         0.004443\n",
      "1         0.263651          0.350541        0.014258         0.004443\n",
      "2         0.263651          0.350541        0.014258         0.004443\n",
      "3         0.263569          0.350087        0.014382         0.003872\n"
     ]
    }
   ],
   "source": [
    "searchParam={'gamma':[0.06,0.065,0.07,0.075]}\n",
    "turnParams(xgbc,X_train_sample,y_train_sample,searchParam,params,scoring=gini_normalized_ordinary_model,cv=5)"
   ]
  },
  {
   "cell_type": "markdown",
   "metadata": {},
   "source": [
    "### （4）subsample"
   ]
  },
  {
   "cell_type": "code",
   "execution_count": 57,
   "metadata": {},
   "outputs": [
    {
     "name": "stdout",
     "output_type": "stream",
     "text": [
      "Best params:\n",
      "subsample : 1.0\n",
      "Best score: 0.26365072483\n",
      "   mean_test_score  mean_train_score  std_test_score  std_train_score\n",
      "0         0.252529          0.346079        0.013438         0.002797\n",
      "1         0.260474          0.354051        0.016551         0.002100\n",
      "2         0.263205          0.355357        0.014425         0.005180\n",
      "3         0.262978          0.355101        0.013159         0.003462\n",
      "4         0.262838          0.354528        0.016228         0.004037\n",
      "5         0.263651          0.350541        0.014258         0.004443\n"
     ]
    }
   ],
   "source": [
    "searchParam={'subsample':[0.3,0.5,0.7,0.8,0.9,1.0]}\n",
    "turnParams(xgbc,X_train_sample,y_train_sample,searchParam,params,scoring=gini_normalized_ordinary_model,cv=5)"
   ]
  },
  {
   "cell_type": "markdown",
   "metadata": {},
   "source": [
    "### (5)colsample_bytree"
   ]
  },
  {
   "cell_type": "code",
   "execution_count": 59,
   "metadata": {},
   "outputs": [
    {
     "name": "stdout",
     "output_type": "stream",
     "text": [
      "Best params:\n",
      "colsample_bytree : 1.0\n",
      "Best score: 0.26365072483\n",
      "   mean_test_score  mean_train_score  std_test_score  std_train_score\n",
      "0         0.262701          0.329365        0.013891         0.003610\n",
      "1         0.260600          0.339848        0.012370         0.003893\n",
      "2         0.262343          0.343656        0.013759         0.003290\n",
      "3         0.259757          0.347414        0.013780         0.004502\n",
      "4         0.263651          0.350541        0.014258         0.004443\n"
     ]
    }
   ],
   "source": [
    "searchParam={'colsample_bytree':[0.2,0.4,0.6,0.8,1.0]}\n",
    "turnParams(xgbc,X_train_sample,y_train_sample,searchParam,params,scoring=gini_normalized_ordinary_model,cv=5)"
   ]
  },
  {
   "cell_type": "markdown",
   "metadata": {},
   "source": [
    "### （6）reg_alpha"
   ]
  },
  {
   "cell_type": "code",
   "execution_count": 60,
   "metadata": {},
   "outputs": [
    {
     "name": "stdout",
     "output_type": "stream",
     "text": [
      "Best params:\n",
      "reg_alpha : 10\n",
      "Best score: 0.263746787725\n",
      "   mean_test_score  mean_train_score  std_test_score  std_train_score\n",
      "0         0.263651          0.350541        0.014258         0.004443\n",
      "1         0.263283          0.350552        0.013885         0.004423\n",
      "2         0.261257          0.350528        0.012694         0.004775\n",
      "3         0.262341          0.351129        0.013918         0.003749\n",
      "4         0.262579          0.351803        0.014312         0.004275\n",
      "5         0.263427          0.343178        0.013570         0.004341\n",
      "6         0.263747          0.335924        0.013644         0.004131\n"
     ]
    }
   ],
   "source": [
    "searchParam={'reg_alpha':[0,1e-3,0.1,0.5,1.0,5,10]}\n",
    "turnParams(xgbc,X_train_sample,y_train_sample,searchParam,params,scoring=gini_normalized_ordinary_model,cv=5)"
   ]
  },
  {
   "cell_type": "code",
   "execution_count": 62,
   "metadata": {},
   "outputs": [
    {
     "name": "stdout",
     "output_type": "stream",
     "text": [
      "Best params:\n",
      "reg_alpha : 14\n",
      "Best score: 0.26403439138\n",
      "   mean_test_score  mean_train_score  std_test_score  std_train_score\n",
      "0         0.262097          0.341403        0.014398         0.004308\n",
      "1         0.263741          0.338120        0.014782         0.004537\n",
      "2         0.263747          0.335924        0.013644         0.004131\n",
      "3         0.263640          0.332909        0.014414         0.003603\n",
      "4         0.264034          0.330346        0.014094         0.003798\n"
     ]
    }
   ],
   "source": [
    "searchParam={'reg_alpha':[6,8,10,12,14]}\n",
    "turnParams(xgbc,X_train_sample,y_train_sample,searchParam,params,scoring=gini_normalized_ordinary_model,cv=5)"
   ]
  },
  {
   "cell_type": "code",
   "execution_count": 63,
   "metadata": {},
   "outputs": [
    {
     "name": "stdout",
     "output_type": "stream",
     "text": [
      "Best params:\n",
      "reg_alpha : 14\n",
      "Best score: 0.26403439138\n",
      "   mean_test_score  mean_train_score  std_test_score  std_train_score\n",
      "0         0.263547          0.330810        0.014502         0.003796\n",
      "1         0.264034          0.330346        0.014094         0.003798\n",
      "2         0.263626          0.328837        0.013389         0.004070\n",
      "3         0.263542          0.327763        0.014271         0.003720\n",
      "4         0.262686          0.326464        0.013081         0.004384\n"
     ]
    }
   ],
   "source": [
    "searchParam={'reg_alpha':[13,14,15,16,17]}\n",
    "turnParams(xgbc,X_train_sample,y_train_sample,searchParam,params,scoring=gini_normalized_ordinary_model,cv=5)"
   ]
  },
  {
   "cell_type": "markdown",
   "metadata": {},
   "source": [
    "### （7）reg_lambda"
   ]
  },
  {
   "cell_type": "code",
   "execution_count": 64,
   "metadata": {},
   "outputs": [
    {
     "name": "stdout",
     "output_type": "stream",
     "text": [
      "Best params:\n",
      "reg_lambda : 1.0\n",
      "Best score: 0.26403439138\n",
      "   mean_test_score  mean_train_score  std_test_score  std_train_score\n",
      "0         0.263414          0.330049        0.014140         0.003925\n",
      "1         0.263414          0.330049        0.014140         0.003925\n",
      "2         0.263679          0.330247        0.013833         0.003979\n",
      "3         0.264034          0.330346        0.014094         0.003798\n",
      "4         0.263348          0.329441        0.013707         0.004047\n",
      "5         0.262493          0.328383        0.013624         0.003982\n"
     ]
    }
   ],
   "source": [
    "searchParam={'reg_lambda':[0,1e-3,0.1,1.0,5,10]}\n",
    "turnParams(xgbc,X_train_sample,y_train_sample,searchParam,params,scoring=gini_normalized_ordinary_model,cv=5)"
   ]
  },
  {
   "cell_type": "code",
   "execution_count": 65,
   "metadata": {},
   "outputs": [
    {
     "name": "stdout",
     "output_type": "stream",
     "text": [
      "Best params:\n",
      "reg_lambda : 0.8\n",
      "Best score: 0.26421027802\n",
      "   mean_test_score  mean_train_score  std_test_score  std_train_score\n",
      "0         0.263980          0.330332        0.013879         0.004538\n",
      "1         0.264210          0.330318        0.014387         0.003820\n",
      "2         0.264077          0.330291        0.013958         0.003982\n",
      "3         0.264034          0.330346        0.014094         0.003798\n",
      "4         0.263712          0.330397        0.013817         0.003758\n",
      "5         0.263438          0.330315        0.013689         0.003769\n",
      "6         0.263780          0.329919        0.013727         0.004187\n"
     ]
    }
   ],
   "source": [
    "searchParam={'reg_lambda':[0.6,0.8,0.9,1.0,1.1,1.2,1.4]}\n",
    "turnParams(xgbc,X_train_sample,y_train_sample,searchParam,params,scoring=gini_normalized_ordinary_model,cv=5)"
   ]
  },
  {
   "cell_type": "code",
   "execution_count": 66,
   "metadata": {},
   "outputs": [
    {
     "name": "stdout",
     "output_type": "stream",
     "text": [
      "Best params:\n",
      "reg_lambda : 0.81\n",
      "Best score: 0.264403279523\n",
      "   mean_test_score  mean_train_score  std_test_score  std_train_score\n",
      "0         0.264231          0.330614        0.014074         0.004207\n",
      "1         0.264338          0.330311        0.013880         0.003805\n",
      "2         0.264157          0.330248        0.014367         0.003893\n",
      "3         0.264210          0.330318        0.014387         0.003820\n",
      "4         0.264403          0.330289        0.014098         0.003780\n",
      "5         0.264361          0.330588        0.014540         0.003891\n"
     ]
    }
   ],
   "source": [
    "searchParam={'reg_lambda':[0.7,0.75,0.79,0.8,0.81,0.85]}\n",
    "turnParams(xgbc,X_train_sample,y_train_sample,searchParam,params,scoring=gini_normalized_ordinary_model,cv=5)"
   ]
  },
  {
   "cell_type": "code",
   "execution_count": 67,
   "metadata": {},
   "outputs": [
    {
     "name": "stdout",
     "output_type": "stream",
     "text": [
      "Best params:\n",
      "reg_lambda : 0.84\n",
      "Best score: 0.264597490116\n",
      "   mean_test_score  mean_train_score  std_test_score  std_train_score\n",
      "0         0.264403          0.330289        0.014098         0.003780\n",
      "1         0.264403          0.330289        0.014098         0.003780\n",
      "2         0.264510          0.330172        0.014149         0.003919\n",
      "3         0.264510          0.330172        0.014150         0.003919\n",
      "4         0.264597          0.330452        0.014181         0.003693\n",
      "5         0.264597          0.330451        0.014181         0.003693\n"
     ]
    }
   ],
   "source": [
    "searchParam={'reg_lambda':[0.805,0.81,0.815,0.82,0.83,0.84]}\n",
    "turnParams(xgbc,X_train_sample,y_train_sample,searchParam,params,scoring=gini_normalized_ordinary_model,cv=5)"
   ]
  },
  {
   "cell_type": "code",
   "execution_count": 68,
   "metadata": {},
   "outputs": [
    {
     "name": "stdout",
     "output_type": "stream",
     "text": [
      "Best params:\n",
      "reg_lambda : 0.841\n",
      "Best score: 0.264597716753\n",
      "   mean_test_score  mean_train_score  std_test_score  std_train_score\n",
      "0         0.264598          0.330452        0.014181         0.003693\n",
      "1         0.264598          0.330451        0.014181         0.003693\n",
      "2         0.264597          0.330451        0.014181         0.003693\n",
      "3         0.264598          0.330451        0.014181         0.003693\n",
      "4         0.264361          0.330589        0.014539         0.003891\n"
     ]
    }
   ],
   "source": [
    "searchParam={'reg_lambda':[0.835,0.839,0.84,0.841,0.845]}\n",
    "turnParams(xgbc,X_train_sample,y_train_sample,searchParam,params,scoring=gini_normalized_ordinary_model,cv=5)"
   ]
  },
  {
   "cell_type": "markdown",
   "metadata": {},
   "source": [
    "### 2.2.2 second round"
   ]
  },
  {
   "cell_type": "markdown",
   "metadata": {},
   "source": [
    "### （1）max_depth"
   ]
  },
  {
   "cell_type": "code",
   "execution_count": 69,
   "metadata": {},
   "outputs": [
    {
     "name": "stdout",
     "output_type": "stream",
     "text": [
      "Best params:\n",
      "max_depth : 3\n",
      "Best score: 0.264597716753\n",
      "   mean_test_score  mean_train_score  std_test_score  std_train_score\n",
      "0         0.249055          0.260399        0.010093         0.002908\n",
      "1         0.261822          0.293897        0.011114         0.003812\n",
      "2         0.264598          0.330451        0.014181         0.003693\n",
      "3         0.264255          0.382553        0.014487         0.002388\n",
      "4         0.260238          0.455662        0.014099         0.004243\n",
      "5         0.253506          0.545521        0.013881         0.002039\n"
     ]
    }
   ],
   "source": [
    "searchParam={'max_depth':[1,2,3,4,5,6]}\n",
    "turnParams(xgbc,X_train_sample,y_train_sample,searchParam,params,scoring=gini_normalized_ordinary_model,cv=5)"
   ]
  },
  {
   "cell_type": "markdown",
   "metadata": {},
   "source": [
    "### （2）min_child_weight"
   ]
  },
  {
   "cell_type": "code",
   "execution_count": 70,
   "metadata": {},
   "outputs": [
    {
     "name": "stdout",
     "output_type": "stream",
     "text": [
      "Best params:\n",
      "min_child_weight : 0.9\n",
      "Best score: 0.264597716753\n",
      "   mean_test_score  mean_train_score  std_test_score  std_train_score\n",
      "0         0.264598          0.330451        0.014181         0.003693\n",
      "1         0.264598          0.330451        0.014181         0.003693\n",
      "2         0.264598          0.330451        0.014181         0.003693\n",
      "3         0.264598          0.330451        0.014181         0.003693\n",
      "4         0.264598          0.330451        0.014181         0.003693\n",
      "5         0.264598          0.330451        0.014181         0.003693\n",
      "6         0.264598          0.330451        0.014181         0.003693\n",
      "7         0.264598          0.330451        0.014181         0.003693\n",
      "8         0.264598          0.330451        0.014181         0.003693\n",
      "9         0.264598          0.330451        0.014181         0.003693\n"
     ]
    }
   ],
   "source": [
    "searchParam={'min_child_weight':np.arange(0.9,0.95,0.005)}\n",
    "turnParams(xgbc,X_train_sample,y_train_sample,searchParam,params,scoring=gini_normalized_ordinary_model,cv=5)"
   ]
  },
  {
   "cell_type": "markdown",
   "metadata": {},
   "source": [
    "### （3）gamma"
   ]
  },
  {
   "cell_type": "code",
   "execution_count": 71,
   "metadata": {},
   "outputs": [
    {
     "name": "stdout",
     "output_type": "stream",
     "text": [
      "Best params:\n",
      "gamma : 0.065\n",
      "Best score: 0.264599566956\n",
      "   mean_test_score  mean_train_score  std_test_score  std_train_score\n",
      "0         0.264598          0.330451        0.014181         0.003693\n",
      "1         0.264600          0.330447        0.014180         0.003693\n",
      "2         0.264466          0.330553        0.014351         0.003917\n",
      "3         0.264469          0.330550        0.014352         0.003919\n"
     ]
    }
   ],
   "source": [
    "searchParam={'gamma':[0.06,0.065,0.07,0.075]}\n",
    "turnParams(xgbc,X_train_sample,y_train_sample,searchParam,params,scoring=gini_normalized_ordinary_model,cv=5)"
   ]
  },
  {
   "cell_type": "code",
   "execution_count": 72,
   "metadata": {},
   "outputs": [
    {
     "name": "stdout",
     "output_type": "stream",
     "text": [
      "Best params:\n",
      "gamma : 0.067\n",
      "Best score: 0.264599982501\n",
      "   mean_test_score  mean_train_score  std_test_score  std_train_score\n",
      "0         0.264598          0.330449        0.014181         0.003695\n",
      "1         0.264598          0.330449        0.014181         0.003695\n",
      "2         0.264600          0.330447        0.014180         0.003693\n",
      "3         0.264600          0.330447        0.014180         0.003693\n",
      "4         0.264600          0.330445        0.014180         0.003695\n"
     ]
    }
   ],
   "source": [
    "searchParam={'gamma':[0.063,0.064,0.065,0.066,0.067]}\n",
    "turnParams(xgbc,X_train_sample,y_train_sample,searchParam,params,scoring=gini_normalized_ordinary_model,cv=5)"
   ]
  },
  {
   "cell_type": "code",
   "execution_count": 73,
   "metadata": {},
   "outputs": [
    {
     "name": "stdout",
     "output_type": "stream",
     "text": [
      "Best params:\n",
      "gamma : 0.067\n",
      "Best score: 0.264599982501\n",
      "   mean_test_score  mean_train_score  std_test_score  std_train_score\n",
      "0           0.2646          0.330447         0.01418         0.003693\n",
      "1           0.2646          0.330445         0.01418         0.003695\n",
      "2           0.2646          0.330445         0.01418         0.003695\n",
      "3           0.2646          0.330445         0.01418         0.003695\n",
      "4           0.2646          0.330445         0.01418         0.003695\n",
      "5           0.2646          0.330445         0.01418         0.003695\n"
     ]
    }
   ],
   "source": [
    "searchParam={'gamma':[0.0665,0.067,0.0675,0.068,0.0685,0.069]}\n",
    "turnParams(xgbc,X_train_sample,y_train_sample,searchParam,params,scoring=gini_normalized_ordinary_model,cv=5)"
   ]
  },
  {
   "cell_type": "markdown",
   "metadata": {},
   "source": [
    "### （4）reg_alpha"
   ]
  },
  {
   "cell_type": "code",
   "execution_count": 74,
   "metadata": {},
   "outputs": [
    {
     "name": "stdout",
     "output_type": "stream",
     "text": [
      "Best params:\n",
      "reg_alpha : 14\n",
      "Best score: 0.264599982501\n",
      "   mean_test_score  mean_train_score  std_test_score  std_train_score\n",
      "0         0.263337          0.331621        0.014637         0.003545\n",
      "1         0.264600          0.330445        0.014180         0.003695\n",
      "2         0.263463          0.329101        0.013271         0.004078\n",
      "3         0.263849          0.327560        0.013723         0.003652\n",
      "4         0.263005          0.326016        0.012057         0.004607\n"
     ]
    }
   ],
   "source": [
    "searchParam={'reg_alpha':[13,14,15,16,17]}\n",
    "turnParams(xgbc,X_train_sample,y_train_sample,searchParam,params,scoring=gini_normalized_ordinary_model,cv=5)"
   ]
  },
  {
   "cell_type": "code",
   "execution_count": 76,
   "metadata": {},
   "outputs": [
    {
     "name": "stdout",
     "output_type": "stream",
     "text": [
      "Best params:\n",
      "reg_alpha : 14\n",
      "Best score: 0.264599982501\n",
      "   mean_test_score  mean_train_score  std_test_score  std_train_score\n",
      "0         0.263378          0.330893        0.013666         0.004171\n",
      "1         0.263708          0.330834        0.013810         0.004345\n",
      "2         0.264066          0.330675        0.014082         0.004225\n",
      "3         0.264600          0.330445        0.014180         0.003695\n",
      "4         0.263102          0.330167        0.014045         0.003895\n",
      "5         0.263587          0.329996        0.013705         0.003861\n",
      "6         0.264460          0.330175        0.014387         0.003754\n"
     ]
    }
   ],
   "source": [
    "searchParam={'reg_alpha':[13.5,13.7,13.9,14,14.1,14.3,14.5]}\n",
    "turnParams(xgbc,X_train_sample,y_train_sample,searchParam,params,scoring=gini_normalized_ordinary_model,cv=5)"
   ]
  },
  {
   "cell_type": "markdown",
   "metadata": {},
   "source": [
    "### （5）reg_lambda"
   ]
  },
  {
   "cell_type": "code",
   "execution_count": 77,
   "metadata": {},
   "outputs": [
    {
     "name": "stdout",
     "output_type": "stream",
     "text": [
      "Best params:\n",
      "reg_lambda : 0.841\n",
      "Best score: 0.264599982501\n",
      "   mean_test_score  mean_train_score  std_test_score  std_train_score\n",
      "0         0.264600          0.330446        0.014180         0.003695\n",
      "1         0.264600          0.330445        0.014180         0.003695\n",
      "2         0.264600          0.330445        0.014180         0.003695\n",
      "3         0.264600          0.330445        0.014180         0.003695\n",
      "4         0.264342          0.330508        0.014571         0.003784\n"
     ]
    }
   ],
   "source": [
    "searchParam={'reg_lambda':[0.835,0.839,0.84,0.841,0.845]}\n",
    "turnParams(xgbc,X_train_sample,y_train_sample,searchParam,params,scoring=gini_normalized_ordinary_model,cv=5)"
   ]
  },
  {
   "cell_type": "markdown",
   "metadata": {},
   "source": [
    "### 2.2.3 lower learning_rate"
   ]
  },
  {
   "cell_type": "markdown",
   "metadata": {},
   "source": [
    "### （1）learning_rate=0.08"
   ]
  },
  {
   "cell_type": "code",
   "execution_count": 79,
   "metadata": {
    "collapsed": true
   },
   "outputs": [],
   "source": [
    "params['learning_rate']=0.08"
   ]
  },
  {
   "cell_type": "code",
   "execution_count": 80,
   "metadata": {
    "collapsed": true
   },
   "outputs": [],
   "source": [
    "xgbc_tp=XGBClassifier(**params)"
   ]
  },
  {
   "cell_type": "code",
   "execution_count": 81,
   "metadata": {},
   "outputs": [
    {
     "name": "stdout",
     "output_type": "stream",
     "text": [
      "[0]\ttrain-NormGini:-0.185925+0.00190164\ttest-NormGini:-0.174591+0.00319816\n",
      "[20]\ttrain-NormGini:-0.264333+0.00170603\ttest-NormGini:-0.23865+0.00735136\n",
      "[40]\ttrain-NormGini:-0.281281+0.00149655\ttest-NormGini:-0.250565+0.00720504\n",
      "[60]\ttrain-NormGini:-0.291736+0.00169932\ttest-NormGini:-0.257555+0.00596935\n",
      "[80]\ttrain-NormGini:-0.300253+0.00134172\ttest-NormGini:-0.260901+0.00628352\n",
      "[100]\ttrain-NormGini:-0.307898+0.00105506\ttest-NormGini:-0.262439+0.00660831\n",
      "[120]\ttrain-NormGini:-0.314848+0.00123144\ttest-NormGini:-0.264187+0.00609721\n",
      "[140]\ttrain-NormGini:-0.321185+0.00160824\ttest-NormGini:-0.264474+0.00623127\n",
      "[160]\ttrain-NormGini:-0.327277+0.00128928\ttest-NormGini:-0.265257+0.00643407\n",
      "[180]\ttrain-NormGini:-0.332857+0.00150471\ttest-NormGini:-0.265494+0.00666244\n",
      "Best Iteration: 165\n",
      "Model report on trian:\n",
      "Train Accuracy:0.6147\n",
      "Train AUC:0.6604\n",
      "Train Normalized GINI：0.320728\n",
      "Model report on test:\n",
      "Test Accuracy:0.6202\n",
      "Test AUC:0.6325\n",
      "Test Normalized GINI：0.264902\n",
      "Test classifiction report:\n",
      "             precision    recall  f1-score   support\n",
      "\n",
      "          0       0.97      0.62      0.76    143380\n",
      "          1       0.05      0.57      0.10      5423\n",
      "\n",
      "avg / total       0.94      0.62      0.74    148803\n",
      "\n",
      "Test confusion matrix:\n",
      "Confusion matrix, without normalization\n",
      "[[89221 54159]\n",
      " [ 2351  3072]]\n"
     ]
    },
    {
     "data": {
      "text/plain": [
       "ps_ind_14          1\n",
       "ps_calc_20_bin     1\n",
       "ps_ind_18_bin      2\n",
       "ps_car_02_cat      4\n",
       "ps_calc_06         4\n",
       "ps_calc_12         6\n",
       "ps_ind_08_bin      6\n",
       "ps_calc_19_bin     6\n",
       "ps_calc_18_bin     7\n",
       "ps_calc_09         8\n",
       "ps_calc_17_bin     9\n",
       "ps_car_08_cat     10\n",
       "ps_ind_07_bin     10\n",
       "ps_ind_06_bin     11\n",
       "ps_ind_16_bin     11\n",
       "ps_calc_02        11\n",
       "ps_calc_14        11\n",
       "ps_car_04_cat     12\n",
       "ps_calc_13        13\n",
       "ps_car_12         13\n",
       "ps_car_09_cat     13\n",
       "ps_calc_07        15\n",
       "ps_ind_04_cat     15\n",
       "ps_calc_10        15\n",
       "ps_car_05_cat     16\n",
       "ps_car_11_cat     17\n",
       "ps_car_11         17\n",
       "ps_calc_08        17\n",
       "ps_reg_02         18\n",
       "ps_ind_09_bin     20\n",
       "ps_ind_17_bin     21\n",
       "ps_calc_11        21\n",
       "ps_calc_03        22\n",
       "ps_car_07_cat     23\n",
       "ps_car_03_cat     24\n",
       "ps_calc_05        25\n",
       "ps_ind_01         25\n",
       "ps_calc_04        26\n",
       "ps_ind_02_cat     27\n",
       "ps_car_15         27\n",
       "ps_car_06_cat     31\n",
       "ps_calc_01        35\n",
       "ps_car_01_cat     40\n",
       "ps_ind_05_cat     43\n",
       "ps_car_14         47\n",
       "ps_reg_01         51\n",
       "ps_ind_15         69\n",
       "ps_reg_03         81\n",
       "ps_car_13         87\n",
       "ps_ind_03         96\n",
       "dtype: int64"
      ]
     },
     "execution_count": 81,
     "metadata": {},
     "output_type": "execute_result"
    },
    {
     "data": {
      "image/png": "[encoded data removed]",
      "text/plain": [
       "<matplotlib.figure.Figure at 0x7fac05a139e8>"
      ]
     },
     "metadata": {},
     "output_type": "display_data"
    },
    {
     "data": {
      "image/png": "[encoded data removed]",
      "text/plain": [
       "<matplotlib.figure.Figure at 0x7fac05a24f60>"
      ]
     },
     "metadata": {},
     "output_type": "display_data"
    }
   ],
   "source": [
    "modelfit(xgbc_tp,X_train_sample,y_train_sample,X_test,y_test,useTrainCV=True,cv_folds=5,early_stopping_rounds=30)"
   ]
  },
  {
   "cell_type": "markdown",
   "metadata": {},
   "source": [
    "### （2）larning_rate=0.07"
   ]
  },
  {
   "cell_type": "code",
   "execution_count": 85,
   "metadata": {
    "collapsed": true
   },
   "outputs": [],
   "source": [
    "params['learning_rate']=0.07"
   ]
  },
  {
   "cell_type": "code",
   "execution_count": 86,
   "metadata": {},
   "outputs": [
    {
     "name": "stdout",
     "output_type": "stream",
     "text": [
      "[0]\ttrain-NormGini:-0.185925+0.00190164\ttest-NormGini:-0.174591+0.00319816\n",
      "[20]\ttrain-NormGini:-0.261206+0.00219232\ttest-NormGini:-0.235872+0.00800003\n",
      "[40]\ttrain-NormGini:-0.277224+0.00134539\ttest-NormGini:-0.247278+0.00806554\n",
      "[60]\ttrain-NormGini:-0.28867+0.00153161\ttest-NormGini:-0.25489+0.00814579\n",
      "[80]\ttrain-NormGini:-0.296289+0.00152154\ttest-NormGini:-0.258827+0.00774218\n",
      "[100]\ttrain-NormGini:-0.303425+0.00132173\ttest-NormGini:-0.261168+0.00761672\n",
      "[120]\ttrain-NormGini:-0.309694+0.00162827\ttest-NormGini:-0.262649+0.00719647\n",
      "[140]\ttrain-NormGini:-0.31568+0.00175951\ttest-NormGini:-0.263694+0.00709449\n",
      "[160]\ttrain-NormGini:-0.321146+0.00184516\ttest-NormGini:-0.264279+0.00724857\n",
      "[180]\ttrain-NormGini:-0.32619+0.00200063\ttest-NormGini:-0.264422+0.00716618\n",
      "[200]\ttrain-NormGini:-0.331478+0.00194244\ttest-NormGini:-0.265362+0.00710674\n",
      "[220]\ttrain-NormGini:-0.336356+0.00175555\ttest-NormGini:-0.265522+0.00728505\n",
      "[240]\ttrain-NormGini:-0.340754+0.00159364\ttest-NormGini:-0.265676+0.00763888\n",
      "[260]\ttrain-NormGini:-0.345267+0.00161142\ttest-NormGini:-0.265489+0.00781312\n",
      "Best Iteration: 235\n",
      "Model report on trian:\n",
      "Train Accuracy:0.6174\n",
      "Train AUC:0.6648\n",
      "Train Normalized GINI：0.329544\n",
      "Model report on test:\n",
      "Test Accuracy:0.6189\n",
      "Test AUC:0.6327\n",
      "Test Normalized GINI：0.265302\n",
      "Test classifiction report:\n",
      "             precision    recall  f1-score   support\n",
      "\n",
      "          0       0.97      0.62      0.76    143380\n",
      "          1       0.05      0.57      0.10      5423\n",
      "\n",
      "avg / total       0.94      0.62      0.73    148803\n",
      "\n",
      "Test confusion matrix:\n",
      "Confusion matrix, without normalization\n",
      "[[89022 54358]\n",
      " [ 2354  3069]]\n"
     ]
    },
    {
     "data": {
      "text/plain": [
       "ps_ind_18_bin       2\n",
       "ps_ind_08_bin       6\n",
       "ps_calc_06          8\n",
       "ps_car_02_cat       9\n",
       "ps_calc_18_bin     10\n",
       "ps_ind_16_bin      11\n",
       "ps_ind_07_bin      12\n",
       "ps_calc_09         12\n",
       "ps_calc_19_bin     12\n",
       "ps_ind_06_bin      14\n",
       "ps_calc_12         14\n",
       "ps_car_08_cat      15\n",
       "ps_calc_17_bin     15\n",
       "ps_car_04_cat      17\n",
       "ps_car_05_cat      19\n",
       "ps_calc_14         19\n",
       "ps_calc_13         19\n",
       "ps_calc_10         21\n",
       "ps_calc_07         21\n",
       "ps_ind_04_cat      21\n",
       "ps_calc_02         21\n",
       "ps_car_11          21\n",
       "ps_car_12          23\n",
       "ps_calc_08         26\n",
       "ps_ind_17_bin      26\n",
       "ps_ind_09_bin      27\n",
       "ps_car_11_cat      27\n",
       "ps_car_07_cat      28\n",
       "ps_ind_02_cat      29\n",
       "ps_reg_02          30\n",
       "ps_calc_05         30\n",
       "ps_calc_03         30\n",
       "ps_car_09_cat      30\n",
       "ps_car_03_cat      31\n",
       "ps_calc_11         35\n",
       "ps_ind_01          36\n",
       "ps_calc_04         42\n",
       "ps_car_06_cat      45\n",
       "ps_car_15          46\n",
       "ps_ind_05_cat      54\n",
       "ps_calc_01         57\n",
       "ps_car_01_cat      57\n",
       "ps_reg_01          75\n",
       "ps_car_14          89\n",
       "ps_ind_15          90\n",
       "ps_reg_03         103\n",
       "ps_car_13         114\n",
       "ps_ind_03         130\n",
       "dtype: int64"
      ]
     },
     "execution_count": 86,
     "metadata": {},
     "output_type": "execute_result"
    },
    {
     "data": {
      "image/png": "[encoded data removed]",
      "text/plain": [
       "<matplotlib.figure.Figure at 0x7fabb505fa58>"
      ]
     },
     "metadata": {},
     "output_type": "display_data"
    },
    {
     "data": {
      "image/png": "[encoded data removed]",
      "text/plain": [
       "<matplotlib.figure.Figure at 0x7fac05a80898>"
      ]
     },
     "metadata": {},
     "output_type": "display_data"
    }
   ],
   "source": [
    "xgbc_tp=XGBClassifier(**params)\n",
    "modelfit(xgbc_tp,X_train_sample,y_train_sample,X_test,y_test,useTrainCV=True,cv_folds=5,early_stopping_rounds=30)"
   ]
  },
  {
   "cell_type": "markdown",
   "metadata": {},
   "source": [
    "### （3）learning_rate=0.071"
   ]
  },
  {
   "cell_type": "code",
   "execution_count": 89,
   "metadata": {},
   "outputs": [
    {
     "name": "stdout",
     "output_type": "stream",
     "text": [
      "[0]\ttrain-NormGini:-0.185925+0.00190164\ttest-NormGini:-0.174591+0.00319816\n",
      "[20]\ttrain-NormGini:-0.261616+0.00207104\ttest-NormGini:-0.236552+0.0079211\n",
      "[40]\ttrain-NormGini:-0.277388+0.00130566\ttest-NormGini:-0.24749+0.00835797\n",
      "[60]\ttrain-NormGini:-0.288642+0.00135136\ttest-NormGini:-0.255045+0.00814626\n",
      "[80]\ttrain-NormGini:-0.297388+0.00151079\ttest-NormGini:-0.259961+0.00741197\n",
      "[100]\ttrain-NormGini:-0.303929+0.00146385\ttest-NormGini:-0.261984+0.00728855\n",
      "[120]\ttrain-NormGini:-0.310415+0.00184472\ttest-NormGini:-0.263239+0.0074781\n",
      "[140]\ttrain-NormGini:-0.316529+0.00189547\ttest-NormGini:-0.263779+0.00741553\n",
      "[160]\ttrain-NormGini:-0.321883+0.00205115\ttest-NormGini:-0.264689+0.00685027\n",
      "[180]\ttrain-NormGini:-0.327305+0.00223098\ttest-NormGini:-0.264517+0.00674312\n",
      "[200]\ttrain-NormGini:-0.33259+0.00205314\ttest-NormGini:-0.264943+0.00729402\n",
      "[220]\ttrain-NormGini:-0.337325+0.00172584\ttest-NormGini:-0.265111+0.00745352\n",
      "[240]\ttrain-NormGini:-0.342176+0.00167117\ttest-NormGini:-0.265392+0.00770306\n",
      "[260]\ttrain-NormGini:-0.34653+0.00151936\ttest-NormGini:-0.26511+0.00792686\n",
      "Best Iteration: 237\n",
      "Model report on trian:\n",
      "Train Accuracy:0.6181\n",
      "Train AUC:0.6661\n",
      "Train Normalized GINI：0.332133\n",
      "Model report on test:\n",
      "Test Accuracy:0.6201\n",
      "Test AUC:0.6331\n",
      "Test Normalized GINI：0.266269\n",
      "Test classifiction report:\n",
      "             precision    recall  f1-score   support\n",
      "\n",
      "          0       0.97      0.62      0.76    143380\n",
      "          1       0.05      0.57      0.10      5423\n",
      "\n",
      "avg / total       0.94      0.62      0.74    148803\n",
      "\n",
      "Test confusion matrix:\n",
      "Confusion matrix, without normalization\n",
      "[[89197 54183]\n",
      " [ 2347  3076]]\n"
     ]
    },
    {
     "data": {
      "text/plain": [
       "ps_ind_14           1\n",
       "ps_ind_18_bin       4\n",
       "ps_calc_06          7\n",
       "ps_car_02_cat       7\n",
       "ps_ind_08_bin      11\n",
       "ps_calc_19_bin     11\n",
       "ps_calc_18_bin     11\n",
       "ps_calc_12         12\n",
       "ps_ind_07_bin      13\n",
       "ps_ind_06_bin      13\n",
       "ps_ind_16_bin      13\n",
       "ps_car_04_cat      13\n",
       "ps_calc_09         13\n",
       "ps_calc_17_bin     16\n",
       "ps_car_08_cat      17\n",
       "ps_calc_14         18\n",
       "ps_calc_02         18\n",
       "ps_car_05_cat      19\n",
       "ps_calc_13         19\n",
       "ps_ind_04_cat      20\n",
       "ps_calc_07         20\n",
       "ps_car_11          21\n",
       "ps_ind_09_bin      24\n",
       "ps_calc_10         24\n",
       "ps_calc_08         25\n",
       "ps_ind_17_bin      25\n",
       "ps_car_12          26\n",
       "ps_car_07_cat      27\n",
       "ps_car_09_cat      27\n",
       "ps_car_03_cat      29\n",
       "ps_car_11_cat      30\n",
       "ps_reg_02          30\n",
       "ps_calc_11         34\n",
       "ps_ind_02_cat      34\n",
       "ps_calc_03         34\n",
       "ps_calc_05         38\n",
       "ps_car_15          42\n",
       "ps_calc_04         43\n",
       "ps_ind_01          48\n",
       "ps_car_06_cat      48\n",
       "ps_car_01_cat      51\n",
       "ps_ind_05_cat      53\n",
       "ps_calc_01         55\n",
       "ps_reg_01          76\n",
       "ps_car_14          77\n",
       "ps_ind_15          82\n",
       "ps_car_13         108\n",
       "ps_reg_03         121\n",
       "ps_ind_03         136\n",
       "dtype: int64"
      ]
     },
     "execution_count": 89,
     "metadata": {},
     "output_type": "execute_result"
    },
    {
     "data": {
      "image/png": "[encoded data removed]",
      "text/plain": [
       "<matplotlib.figure.Figure at 0x7fac23948a20>"
      ]
     },
     "metadata": {},
     "output_type": "display_data"
    },
    {
     "data": {
      "image/png": "[encoded data removed]",
      "text/plain": [
       "<matplotlib.figure.Figure at 0x7fabb4f2a9e8>"
      ]
     },
     "metadata": {},
     "output_type": "display_data"
    }
   ],
   "source": [
    "params['learning_rate']=0.071\n",
    "xgbc_tp=XGBClassifier(**params)\n",
    "modelfit(xgbc_tp,X_train_sample,y_train_sample,X_test,y_test,useTrainCV=True,cv_folds=5,early_stopping_rounds=30)"
   ]
  },
  {
   "cell_type": "code",
   "execution_count": 92,
   "metadata": {},
   "outputs": [
    {
     "data": {
      "text/plain": [
       "{'base_score': 0.5,\n",
       " 'colsample_bylevel': 1,\n",
       " 'colsample_bytree': 1.0,\n",
       " 'gamma': 0.067,\n",
       " 'learning_rate': 0.071,\n",
       " 'max_delta_step': 0,\n",
       " 'max_depth': 3,\n",
       " 'min_child_weight': 0.90000000000000002,\n",
       " 'missing': None,\n",
       " 'n_estimators': 237,\n",
       " 'nthread': -1,\n",
       " 'objective': 'binary:logistic',\n",
       " 'reg_alpha': 14,\n",
       " 'reg_lambda': 0.841,\n",
       " 'scale_pos_weight': 1.0,\n",
       " 'seed': 9,\n",
       " 'silent': True,\n",
       " 'subsample': 1.0}"
      ]
     },
     "execution_count": 92,
     "metadata": {},
     "output_type": "execute_result"
    }
   ],
   "source": [
    "params['n_estimators']=237\n",
    "params"
   ]
  },
  {
   "cell_type": "markdown",
   "metadata": {},
   "source": [
    "## 3 Predict"
   ]
  },
  {
   "cell_type": "code",
   "execution_count": 93,
   "metadata": {
    "collapsed": true
   },
   "outputs": [],
   "source": [
    "xgb_opt=XGBClassifier(**params)"
   ]
  },
  {
   "cell_type": "code",
   "execution_count": 94,
   "metadata": {},
   "outputs": [
    {
     "data": {
      "text/plain": [
       "XGBClassifier(base_score=0.5, colsample_bylevel=1, colsample_bytree=1.0,\n",
       "       gamma=0.067, learning_rate=0.071, max_delta_step=0, max_depth=3,\n",
       "       min_child_weight=0.90000000000000002, missing=None,\n",
       "       n_estimators=237, nthread=-1, objective='binary:logistic',\n",
       "       reg_alpha=14, reg_lambda=0.841, scale_pos_weight=1.0, seed=9,\n",
       "       silent=True, subsample=1.0)"
      ]
     },
     "execution_count": 94,
     "metadata": {},
     "output_type": "execute_result"
    }
   ],
   "source": [
    "xgb_opt.fit(X_train_sample,y_train_sample)"
   ]
  },
  {
   "cell_type": "code",
   "execution_count": 95,
   "metadata": {
    "collapsed": true
   },
   "outputs": [],
   "source": [
    "pred_prob=xgb_opt.predict_proba(X_predict)[:,1]"
   ]
  },
  {
   "cell_type": "code",
   "execution_count": 96,
   "metadata": {
    "collapsed": true
   },
   "outputs": [],
   "source": [
    "predict_result=pd.DataFrame({'id':test_df['id'].astype(int),'target':pd.Series(pred_prob,index=test_df['id'].index)})"
   ]
  },
  {
   "cell_type": "code",
   "execution_count": 97,
   "metadata": {},
   "outputs": [
    {
     "data": {
      "text/html": [
       "<div>\n",
       "<style>\n",
       "    .dataframe thead tr:only-child th {\n",
       "        text-align: right;\n",
       "    }\n",
       "\n",
       "    .dataframe thead th {\n",
       "        text-align: left;\n",
       "    }\n",
       "\n",
       "    .dataframe tbody tr th {\n",
       "        vertical-align: top;\n",
       "    }\n",
       "</style>\n",
       "<table border=\"1\" class=\"dataframe\">\n",
       "  <thead>\n",
       "    <tr style=\"text-align: right;\">\n",
       "      <th></th>\n",
       "      <th>id</th>\n",
       "      <th>target</th>\n",
       "    </tr>\n",
       "  </thead>\n",
       "  <tbody>\n",
       "    <tr>\n",
       "      <th>0</th>\n",
       "      <td>0</td>\n",
       "      <td>0.383137</td>\n",
       "    </tr>\n",
       "    <tr>\n",
       "      <th>1</th>\n",
       "      <td>1</td>\n",
       "      <td>0.410064</td>\n",
       "    </tr>\n",
       "    <tr>\n",
       "      <th>2</th>\n",
       "      <td>2</td>\n",
       "      <td>0.436474</td>\n",
       "    </tr>\n",
       "    <tr>\n",
       "      <th>3</th>\n",
       "      <td>3</td>\n",
       "      <td>0.313332</td>\n",
       "    </tr>\n",
       "    <tr>\n",
       "      <th>4</th>\n",
       "      <td>4</td>\n",
       "      <td>0.499062</td>\n",
       "    </tr>\n",
       "  </tbody>\n",
       "</table>\n",
       "</div>"
      ],
      "text/plain": [
       "   id    target\n",
       "0   0  0.383137\n",
       "1   1  0.410064\n",
       "2   2  0.436474\n",
       "3   3  0.313332\n",
       "4   4  0.499062"
      ]
     },
     "execution_count": 97,
     "metadata": {},
     "output_type": "execute_result"
    }
   ],
   "source": [
    "predict_result.head()"
   ]
  },
  {
   "cell_type": "code",
   "execution_count": 98,
   "metadata": {
    "collapsed": true
   },
   "outputs": [],
   "source": [
    "predict_result.to_csv('/home/yw/study/Competition/Safe_Driver_Prediction_20171014/20171017_05xgb_under_sample.csv',index=False)"
   ]
  },
  {
   "cell_type": "code",
   "execution_count": null,
   "metadata": {
    "collapsed": true
   },
   "outputs": [],
   "source": []
  }
 ],
 "metadata": {
  "kernelspec": {
   "display_name": "Python 3",
   "language": "python",
   "name": "python3"
  },
  "language_info": {
   "codemirror_mode": {
    "name": "ipython",
    "version": 3
   },
   "file_extension": ".py",
   "mimetype": "text/x-python",
   "name": "python",
   "nbconvert_exporter": "python",
   "pygments_lexer": "ipython3",
   "version": "3.6.2"
  }
 },
 "nbformat": 4,
 "nbformat_minor": 2
}
