{
 "cells": [
  {
   "cell_type": "code",
   "execution_count": 17,
   "metadata": {
    "collapsed": false
   },
   "outputs": [],
   "source": [
    "import itertools\n",
    "import pandas as pd\n",
    "import numpy as np\n",
    "import matplotlib.pyplot as plt\n",
    "import seaborn as sns\n",
    "from sklearn.model_selection import train_test_split,GridSearchCV\n",
    "from xgboost.sklearn import XGBClassifier\n",
    "import xgboost as xgb\n",
    "from sklearn import metrics\n",
    "import lightgbm as lgb\n",
    "from copy import deepcopy\n",
    "from sklearn.externals import joblib\n",
    "from sklearn.preprocessing import OneHotEncoder\n",
    "import graphviz\n",
    "%matplotlib inline\n",
    "plt.rcParams['figure.figsize']=12,4"
   ]
  },
  {
   "cell_type": "code",
   "execution_count": 71,
   "metadata": {
    "collapsed": true
   },
   "outputs": [],
   "source": [
    "data_path=r'D:\\study\\Competition\\porto-sequro-safe-driver-prediction\\data'\n",
    "train_df=pd.read_csv(data_path+'\\\\train.csv',na_values=-1)\n",
    "test_df=pd.read_csv(data_path+'\\\\test.csv',na_values=-1)"
   ]
  },
  {
   "cell_type": "code",
   "execution_count": 72,
   "metadata": {
    "collapsed": true
   },
   "outputs": [],
   "source": [
    "#所有二元变量\n",
    "bin_features=[feat for feat in train_df.columns if 'bin' in feat]\n",
    "#所有的分类变量\n",
    "cat_features=[feat for feat in train_df.columns if 'cat' in feat]\n",
    "#所有calc变量\n",
    "calc_features=[feat for feat in train_df.columns if 'calc' in feat]"
   ]
  },
  {
   "cell_type": "code",
   "execution_count": 73,
   "metadata": {
    "collapsed": false
   },
   "outputs": [
    {
     "data": {
      "text/html": [
       "<div>\n",
       "<table border=\"1\" class=\"dataframe\">\n",
       "  <thead>\n",
       "    <tr style=\"text-align: right;\">\n",
       "      <th></th>\n",
       "      <th>id</th>\n",
       "      <th>target</th>\n",
       "      <th>ps_ind_01</th>\n",
       "      <th>ps_ind_02_cat</th>\n",
       "      <th>ps_ind_03</th>\n",
       "      <th>ps_ind_04_cat</th>\n",
       "      <th>ps_ind_05_cat</th>\n",
       "      <th>ps_ind_06_bin</th>\n",
       "      <th>ps_ind_07_bin</th>\n",
       "      <th>ps_ind_08_bin</th>\n",
       "      <th>...</th>\n",
       "      <th>ps_calc_11</th>\n",
       "      <th>ps_calc_12</th>\n",
       "      <th>ps_calc_13</th>\n",
       "      <th>ps_calc_14</th>\n",
       "      <th>ps_calc_15_bin</th>\n",
       "      <th>ps_calc_16_bin</th>\n",
       "      <th>ps_calc_17_bin</th>\n",
       "      <th>ps_calc_18_bin</th>\n",
       "      <th>ps_calc_19_bin</th>\n",
       "      <th>ps_calc_20_bin</th>\n",
       "    </tr>\n",
       "  </thead>\n",
       "  <tbody>\n",
       "    <tr>\n",
       "      <th>0</th>\n",
       "      <td>7</td>\n",
       "      <td>0</td>\n",
       "      <td>2</td>\n",
       "      <td>2.0</td>\n",
       "      <td>5</td>\n",
       "      <td>1.0</td>\n",
       "      <td>0.0</td>\n",
       "      <td>0</td>\n",
       "      <td>1</td>\n",
       "      <td>0</td>\n",
       "      <td>...</td>\n",
       "      <td>9</td>\n",
       "      <td>1</td>\n",
       "      <td>5</td>\n",
       "      <td>8</td>\n",
       "      <td>0</td>\n",
       "      <td>1</td>\n",
       "      <td>1</td>\n",
       "      <td>0</td>\n",
       "      <td>0</td>\n",
       "      <td>1</td>\n",
       "    </tr>\n",
       "    <tr>\n",
       "      <th>1</th>\n",
       "      <td>9</td>\n",
       "      <td>0</td>\n",
       "      <td>1</td>\n",
       "      <td>1.0</td>\n",
       "      <td>7</td>\n",
       "      <td>0.0</td>\n",
       "      <td>0.0</td>\n",
       "      <td>0</td>\n",
       "      <td>0</td>\n",
       "      <td>1</td>\n",
       "      <td>...</td>\n",
       "      <td>3</td>\n",
       "      <td>1</td>\n",
       "      <td>1</td>\n",
       "      <td>9</td>\n",
       "      <td>0</td>\n",
       "      <td>1</td>\n",
       "      <td>1</td>\n",
       "      <td>0</td>\n",
       "      <td>1</td>\n",
       "      <td>0</td>\n",
       "    </tr>\n",
       "    <tr>\n",
       "      <th>2</th>\n",
       "      <td>13</td>\n",
       "      <td>0</td>\n",
       "      <td>5</td>\n",
       "      <td>4.0</td>\n",
       "      <td>9</td>\n",
       "      <td>1.0</td>\n",
       "      <td>0.0</td>\n",
       "      <td>0</td>\n",
       "      <td>0</td>\n",
       "      <td>1</td>\n",
       "      <td>...</td>\n",
       "      <td>4</td>\n",
       "      <td>2</td>\n",
       "      <td>7</td>\n",
       "      <td>7</td>\n",
       "      <td>0</td>\n",
       "      <td>1</td>\n",
       "      <td>1</td>\n",
       "      <td>0</td>\n",
       "      <td>1</td>\n",
       "      <td>0</td>\n",
       "    </tr>\n",
       "  </tbody>\n",
       "</table>\n",
       "<p>3 rows × 59 columns</p>\n",
       "</div>"
      ],
      "text/plain": [
       "   id  target  ps_ind_01  ps_ind_02_cat  ps_ind_03  ps_ind_04_cat  \\\n",
       "0   7       0          2            2.0          5            1.0   \n",
       "1   9       0          1            1.0          7            0.0   \n",
       "2  13       0          5            4.0          9            1.0   \n",
       "\n",
       "   ps_ind_05_cat  ps_ind_06_bin  ps_ind_07_bin  ps_ind_08_bin       ...        \\\n",
       "0            0.0              0              1              0       ...         \n",
       "1            0.0              0              0              1       ...         \n",
       "2            0.0              0              0              1       ...         \n",
       "\n",
       "   ps_calc_11  ps_calc_12  ps_calc_13  ps_calc_14  ps_calc_15_bin  \\\n",
       "0           9           1           5           8               0   \n",
       "1           3           1           1           9               0   \n",
       "2           4           2           7           7               0   \n",
       "\n",
       "   ps_calc_16_bin  ps_calc_17_bin  ps_calc_18_bin  ps_calc_19_bin  \\\n",
       "0               1               1               0               0   \n",
       "1               1               1               0               1   \n",
       "2               1               1               0               1   \n",
       "\n",
       "   ps_calc_20_bin  \n",
       "0               1  \n",
       "1               0  \n",
       "2               0  \n",
       "\n",
       "[3 rows x 59 columns]"
      ]
     },
     "execution_count": 73,
     "metadata": {},
     "output_type": "execute_result"
    }
   ],
   "source": [
    "train_df.head(3)"
   ]
  },
  {
   "cell_type": "markdown",
   "metadata": {},
   "source": [
    "### One_Hot_Encoding"
   ]
  },
  {
   "cell_type": "markdown",
   "metadata": {},
   "source": [
    "### 每一个分类变量的缺失值我们用'最大值+1'来填充"
   ]
  },
  {
   "cell_type": "code",
   "execution_count": 75,
   "metadata": {
    "collapsed": false
   },
   "outputs": [],
   "source": [
    "oht_feat=pd.get_dummies(train_df[cat_features].append(test_df[cat_features]),columns=cat_features,dummy_na=True)"
   ]
  },
  {
   "cell_type": "code",
   "execution_count": 90,
   "metadata": {
    "collapsed": false
   },
   "outputs": [],
   "source": [
    "train_df=train_df.join(oht_feat.iloc[0:train_df.shape[0]])\n",
    "test_df=test_df.join(oht_feat.iloc[train_df.shape[0]:])"
   ]
  },
  {
   "cell_type": "markdown",
   "metadata": {},
   "source": [
    "### 方差为0（或取值唯一）的变量"
   ]
  },
  {
   "cell_type": "code",
   "execution_count": 99,
   "metadata": {
    "collapsed": false
   },
   "outputs": [],
   "source": [
    "useless_feats=list(train_df.columns[train_df.var()==0])"
   ]
  },
  {
   "cell_type": "code",
   "execution_count": 100,
   "metadata": {
    "collapsed": true
   },
   "outputs": [],
   "source": [
    "use_features=[x for x in train_df.columns if x not in ['id','target']+cat_features+useless_feats]"
   ]
  },
  {
   "cell_type": "code",
   "execution_count": 103,
   "metadata": {
    "collapsed": true
   },
   "outputs": [],
   "source": [
    "X=train_df[use_features]\n",
    "y=train_df['target']\n",
    "\n",
    "X_predict=test_df[use_features]"
   ]
  },
  {
   "cell_type": "code",
   "execution_count": 104,
   "metadata": {
    "collapsed": true
   },
   "outputs": [],
   "source": [
    "X_train,X_test,y_train,y_test=train_test_split(X,y,test_size=0.20,stratify=y,random_state=9)"
   ]
  },
  {
   "cell_type": "markdown",
   "metadata": {},
   "source": [
    "# 1 Base line"
   ]
  },
  {
   "cell_type": "code",
   "execution_count": 116,
   "metadata": {
    "collapsed": true
   },
   "outputs": [],
   "source": [
    "def gini(actual, pred, cmpcol = 0, sortcol = 1):\n",
    "    assert( len(actual) == len(pred) )\n",
    "    all = np.asarray(np.c_[ actual, pred, np.arange(len(actual)) ], dtype=np.float)\n",
    "    all = all[ np.lexsort((all[:,2], -1*all[:,1])) ]\n",
    "    totalLosses = all[:,0].sum()\n",
    "    giniSum = all[:,0].cumsum().sum() / totalLosses\n",
    " \n",
    "    giniSum -= (len(actual) + 1) / 2.\n",
    "    return giniSum / len(actual)\n",
    "\n",
    "def softmax(x):\n",
    "    \"\"\"Compute softmax values for each sets of scores in x.\"\"\"\n",
    "    e_x = np.exp(x - np.max(x))\n",
    "    return e_x / e_x.sum() \n",
    "\n",
    "def gini_normalized(preds,dtrain):\n",
    "    y=dtrain.get_label()\n",
    "    preds=softmax(preds)\n",
    "    return 'NormGini',gini(y, preds) / gini(y, y),True\n",
    "\n",
    "def gini_normalized_ordinary(y,preds):\n",
    "    return gini(y, preds) / gini(y, y)\n",
    "\n",
    "def modelfit(alg,X,y,X_test,y_test,cat_features,cvparams,folds=None,useTrainCV=True,cv_folds=5,early_stopping_rounds=30):\n",
    "    feature_names=list(X.columns)\n",
    "    if useTrainCV==True:\n",
    "        dtrain=lgb.Dataset(X, label=y, max_bin=255, reference=None, \n",
    "                           weight=None, group=None, silent=False, feature_name=feature_names,\n",
    "                            categorical_feature=cat_features,params=None, free_raw_data=True)\n",
    "        cvresult=lgb.cv(cvparams,dtrain,num_boost_round=50000,folds=folds,nfold=cv_folds,stratified=True,\n",
    "                        metrics='auc',feature_name=feature_names,categorical_feature=cat_features,early_stopping_rounds=early_stopping_rounds,\n",
    "                        verbose_eval=20,show_stdv =True,seed=9)\n",
    "        #,feval=gini_normalized\n",
    "        alg.set_params(n_estimators=len(cvresult['auc-mean']))\n",
    "        print('Best Iteration:',len(cvresult['auc-mean']))\n",
    "        \n",
    "    alg.fit(X,y,eval_metric='auc',feature_name=feature_names,categorical_feature=cat_features)\n",
    "    \n",
    "    #Predict training set:\n",
    "    dtrain_predictions=alg.predict(X)\n",
    "    dtrain_predprob=alg.predict_proba(X)[:,1]\n",
    "    \n",
    "    #pPredict test set:\n",
    "    dtest_predictions=alg.predict(X_test)\n",
    "    dtest_predprob=alg.predict_proba(X_test)[:,1]\n",
    "    \n",
    "    #Print Mode report:\n",
    "    print('Model report on trian:')\n",
    "    #print('Train Accuracy:{0:.4f}'.format(metrics.accuracy_score(y,dtrain_predictions)))\n",
    "    print('Train AUC:{0:.4f}'.format(metrics.roc_auc_score(y,dtrain_predprob)))\n",
    "    #print('Train Normalized GINI：{0:.6f}'.format(gini_normalized_ordinary(y,dtrain_predprob)))\n",
    "    print('Model report on test:')\n",
    "    #print('Test Accuracy:{0:.4f}'.format(metrics.accuracy_score(y_test,dtest_predictions)))\n",
    "    print('Test AUC:{0:.4f}'.format(metrics.roc_auc_score(y_test,dtest_predprob)))\n",
    "    #print('Test Normalized GINI：{0：.6f}'.format(gini_normalized_ordinary(y,dtest_predprob)))\n",
    "    print('Test classifiction report:')\n",
    "    print(metrics.classification_report(y_test,dtest_predictions))\n",
    "    print('Test confusion matrix:')\n",
    "    plt.figure()\n",
    "    with sns.axes_style(style='dark'):\n",
    "        plot_confusion_matrix(metrics.confusion_matrix(y_test,dtest_predictions),classes=['0','1'],\n",
    "                             title='Confusion Matrix')\n",
    "    \n",
    "    feat_imp=pd.Series(alg.feature_importances_,index=X.columns).sort_values(ascending=True)\n",
    "    #plt.figure()\n",
    "    #feat_imp.plot(kind='barh',title='Feature Importances',color='green')\n",
    "    #plt.ylabel('Feature Importance Score')\n",
    "    lgb.plot_importance(alg,importance_type='split')\n",
    "    return feat_imp\n",
    "\n",
    "def turnParams(model,X,y,cat_features,searchParam,modelparams,scoring='roc_auc',cv=5):\n",
    "    gsc=GridSearchCV(estimator=model.__class__(**modelparams),param_grid=searchParam,scoring=scoring,\n",
    "                    iid=False,cv=cv)\n",
    "    gsc.fit(X,y,eval_metric='auc',categorical_feature=cat_features)\n",
    "    param_name=list(searchParam.keys())[0]\n",
    "    columns=[p[param_name] for p in gsc.cv_results_['params']]\n",
    "    cv_scores=pd.DataFrame([gsc.cv_results_['mean_test_score'],\n",
    "                            gsc.cv_results_['mean_train_score'],\n",
    "                            gsc.cv_results_['std_test_score'],\n",
    "                            gsc.cv_results_['std_train_score']],\n",
    "                            index=['mean_test_score','mean_train_score','std_test_score','std_train_score'],\n",
    "                            columns=columns).T\n",
    "    #cv_scores.index.name=param_name\n",
    "    for param in gsc.best_params_.keys():\n",
    "        modelparams[param]=gsc.best_params_[param]\n",
    "    print('Best params:')\n",
    "    for param in gsc.best_params_.keys():\n",
    "        print(param,':',gsc.best_params_[param])\n",
    "    print('Best score:',gsc.best_score_)\n",
    "    print(cv_scores)\n",
    "    \n",
    "def plot_confusion_matrix(cm, classes,\n",
    "                          normalize=False,\n",
    "                          title='Confusion matrix',\n",
    "                          cmap=plt.cm.Blues):\n",
    "    \"\"\"\n",
    "    This function prints and plots the confusion matrix.\n",
    "    Normalization can be applied by setting `normalize=True`.\n",
    "    \"\"\"\n",
    "    if normalize:\n",
    "        cm = cm.astype('float') / cm.sum(axis=1)[:, np.newaxis]\n",
    "        print(\"Normalized confusion matrix\")\n",
    "    else:\n",
    "        print('Confusion matrix, without normalization')\n",
    "\n",
    "    print(cm)\n",
    "\n",
    "    plt.imshow(cm, interpolation='nearest', cmap=cmap)\n",
    "    plt.title(title)\n",
    "    plt.colorbar()\n",
    "    tick_marks = np.arange(len(classes))\n",
    "    plt.xticks(tick_marks, classes, rotation=45)\n",
    "    plt.yticks(tick_marks, classes)\n",
    "\n",
    "    fmt = '.2f' if normalize else 'd'\n",
    "    thresh = cm.max() / 2.\n",
    "    for i, j in itertools.product(range(cm.shape[0]), range(cm.shape[1])):\n",
    "        plt.text(j, i, format(cm[i, j], fmt),\n",
    "                 horizontalalignment=\"center\",\n",
    "                 color=\"white\" if cm[i, j] > thresh else \"black\")\n",
    "\n",
    "    plt.tight_layout()\n",
    "    plt.ylabel('True label')\n",
    "    plt.xlabel('Predicted label')"
   ]
  },
  {
   "cell_type": "code",
   "execution_count": 112,
   "metadata": {
    "collapsed": true
   },
   "outputs": [],
   "source": [
    "params={'boosting_type':'gbdt',\n",
    "        'num_leaves':20,\n",
    "        'max_depth':6,\n",
    "        'learning_rate':0.2,\n",
    "        'n_estimators':38,\n",
    "        'max_bin':255,\n",
    "        'objective':'binary',\n",
    "        'min_split_gain':0,\n",
    "        'min_child_weight':0,\n",
    "        'min_child_samples':1,\n",
    "        'subsample':1.0,\n",
    "        'subsample_freq':1,\n",
    "        'colsample_bytree':1.0,\n",
    "        'reg_alpha':0,\n",
    "        'reg_lambda':0,\n",
    "        'random_state':9,\n",
    "        'n_jobs':4,\n",
    "        'is_unbalance':True,\n",
    "       }\n",
    "\n",
    "cvparams={'boosting_type':'gbdt',\n",
    "        'num_leaves':20,\n",
    "        'max_depth':6,\n",
    "        'learning_rate':0.2,\n",
    "        'max_bin':255,\n",
    "        'objective':'binary',\n",
    "        'min_gain_to_split':0,\n",
    "        'min_sum_hessian_in_leaf':0,\n",
    "        'min_data_in_leaf':1,\n",
    "        'bagging_fraction':1.0,\n",
    "        'bagging_freq':1,\n",
    "        'feature_fraction':1.0,\n",
    "        'lambda_l1':0,\n",
    "        'lambda_l2':0,\n",
    "        'num_threads':4,\n",
    "        'is_unbalance':True,\n",
    "       }\n",
    "#在sklaearn接口中，参数名称发生了变化，需要进行映射\n",
    "tran_table={ 'min_split_gain':'min_gain_to_split',\n",
    "             'min_child_weight':'min_sum_hessian_in_leaf',\n",
    "             'min_child_samples':'min_data_in_leaf',\n",
    "             'subsample':'bagging_fraction',\n",
    "             'subsample_freq':'bagging_freq',\n",
    "             'colsample_bytree':'feature_fraction',\n",
    "             'reg_alpha':'lambda_l1',\n",
    "             'reg_lambda':'lambda_l2',\n",
    "             'n_jobs':'num_threads',\n",
    "            \n",
    "             'boosting_type':'boosting_type',\n",
    "             'num_leaves':'num_leaves',\n",
    "             'max_depth':'max_depth',\n",
    "             'learning_rate':'learning_rate',\n",
    "             'max_bin':'max_bin',\n",
    "             'objective':'objective',\n",
    "             'is_unbalance':'is_unbalance'}\n",
    "def get_lgb_params(sklearn_params,cvparams,tran_table):\n",
    "    for sklearn_param,lgb_param in tran_table.items():\n",
    "        cvparams[lgb_param]=sklearn_params[sklearn_param]"
   ]
  },
  {
   "cell_type": "code",
   "execution_count": 113,
   "metadata": {
    "collapsed": true
   },
   "outputs": [],
   "source": [
    "lgbc=lgb.LGBMClassifier(**params)"
   ]
  },
  {
   "cell_type": "code",
   "execution_count": 117,
   "metadata": {
    "collapsed": false
   },
   "outputs": [
    {
     "name": "stdout",
     "output_type": "stream",
     "text": [
      "[20]\tcv_agg's auc: 0.635203 + 0.00361775\n",
      "[40]\tcv_agg's auc: 0.633945 + 0.00335396\n",
      "[60]\tcv_agg's auc: 0.63193 + 0.00330429\n",
      "Best Iteration: 23\n",
      "Model report on trian:\n",
      "Train AUC:0.6587\n",
      "Model report on test:\n",
      "Test AUC:0.6376\n",
      "Test classifiction report:\n",
      "             precision    recall  f1-score   support\n",
      "\n",
      "          0       0.97      0.63      0.77    114704\n",
      "          1       0.05      0.55      0.10      4339\n",
      "\n",
      "avg / total       0.94      0.63      0.74    119043\n",
      "\n",
      "Test confusion matrix:\n",
      "Confusion matrix, without normalization\n",
      "[[72535 42169]\n",
      " [ 1934  2405]]\n"
     ]
    },
    {
     "data": {
      "image/png": "[encoded data removed]",
      "text/plain": [
       "<matplotlib.figure.Figure at 0xc800fdadd8>"
      ]
     },
     "metadata": {},
     "output_type": "display_data"
    },
    {
     "data": {
      "image/png": "[encoded data removed]",
      "text/plain": [
       "<matplotlib.figure.Figure at 0xc801bd4748>"
      ]
     },
     "metadata": {},
     "output_type": "display_data"
    }
   ],
   "source": [
    "get_lgb_params(lgbc.get_params(),cvparams,tran_table)\n",
    "\n",
    "feat_imp=modelfit(lgbc,X_train,y_train,X_test,y_test,'auto',cvparams,useTrainCV=True,cv_folds=5,early_stopping_rounds=50)"
   ]
  },
  {
   "cell_type": "code",
   "execution_count": 83,
   "metadata": {
    "collapsed": true
   },
   "outputs": [],
   "source": [
    "#lgb.create_tree_digraph(lgbc)"
   ]
  },
  {
   "cell_type": "code",
   "execution_count": 118,
   "metadata": {
    "collapsed": true
   },
   "outputs": [],
   "source": [
    "params['n_estimators']=23"
   ]
  },
  {
   "cell_type": "markdown",
   "metadata": {},
   "source": [
    "# 2 Tune params"
   ]
  },
  {
   "cell_type": "code",
   "execution_count": 122,
   "metadata": {
    "collapsed": true
   },
   "outputs": [],
   "source": [
    "#不重要的警告信息不予显示\n",
    "import warnings\n",
    "warnings.filterwarnings(\"ignore\")"
   ]
  },
  {
   "cell_type": "markdown",
   "metadata": {},
   "source": [
    "## 2.1 subsample"
   ]
  },
  {
   "cell_type": "code",
   "execution_count": 123,
   "metadata": {
    "collapsed": false
   },
   "outputs": [
    {
     "name": "stdout",
     "output_type": "stream",
     "text": [
      "Best params:\n",
      "subsample : 1.0\n",
      "Best score: 0.635892397832\n",
      "     mean_test_score  mean_train_score  std_test_score  std_train_score\n",
      "0.1         0.606563          0.634691        0.005348         0.001881\n",
      "0.3         0.624748          0.654869        0.003623         0.001424\n",
      "0.5         0.632122          0.660439        0.004758         0.001922\n",
      "0.7         0.633977          0.662074        0.004527         0.001256\n",
      "0.9         0.635200          0.662834        0.005273         0.001412\n",
      "1.0         0.635892          0.663272        0.004313         0.001248\n"
     ]
    }
   ],
   "source": [
    "searchParam={'subsample':[0.1,0.3,0.5,0.7,0.9,1.0]}\n",
    "turnParams(lgbc,X_train,y_train,'auto',searchParam,params,scoring='roc_auc',cv=5);"
   ]
  },
  {
   "cell_type": "code",
   "execution_count": 130,
   "metadata": {
    "collapsed": false
   },
   "outputs": [
    {
     "name": "stdout",
     "output_type": "stream",
     "text": [
      "Best params:\n",
      "subsample : 0.95\n",
      "Best score: 0.63698188483\n",
      "      mean_test_score  mean_train_score  std_test_score  std_train_score\n",
      "0.95         0.636982          0.663309        0.005366         0.001165\n",
      "0.96         0.635474          0.662750        0.003879         0.001359\n",
      "0.97         0.635954          0.663300        0.005221         0.001565\n",
      "0.98         0.635872          0.663607        0.005381         0.001458\n",
      "0.99         0.635951          0.663045        0.004730         0.001351\n",
      "1.00         0.635892          0.663272        0.004313         0.001248\n"
     ]
    }
   ],
   "source": [
    "searchParam={'subsample':[0.95,0.96,0.97,0.98,0.99,1.0]}\n",
    "turnParams(lgbc,X_train,y_train,'auto',searchParam,params,scoring='roc_auc',cv=5);"
   ]
  },
  {
   "cell_type": "markdown",
   "metadata": {},
   "source": [
    "## 2.3 colsample_bytree"
   ]
  },
  {
   "cell_type": "code",
   "execution_count": 135,
   "metadata": {
    "collapsed": false
   },
   "outputs": [
    {
     "name": "stdout",
     "output_type": "stream",
     "text": [
      "Best params:\n",
      "colsample_bytree : 1.0\n",
      "Best score: 0.63698188483\n",
      "      mean_test_score  mean_train_score  std_test_score  std_train_score\n",
      "0.95         0.635607          0.663237        0.005630         0.000915\n",
      "0.97         0.635857          0.663266        0.004562         0.001799\n",
      "0.99         0.635601          0.663205        0.004669         0.001578\n",
      "1.00         0.636982          0.663309        0.005366         0.001165\n"
     ]
    }
   ],
   "source": [
    "searchParam={'colsample_bytree':[0.95,0.97,0.99,1.0]}\n",
    "turnParams(lgbc,X_train,y_train,'auto',searchParam,params,scoring='roc_auc',cv=5);"
   ]
  },
  {
   "cell_type": "markdown",
   "metadata": {},
   "source": [
    "## 2.4 reg_alpha"
   ]
  },
  {
   "cell_type": "code",
   "execution_count": 138,
   "metadata": {
    "collapsed": false
   },
   "outputs": [
    {
     "name": "stdout",
     "output_type": "stream",
     "text": [
      "Best params:\n",
      "reg_alpha : 35\n",
      "Best score: 0.636916995544\n",
      "    mean_test_score  mean_train_score  std_test_score  std_train_score\n",
      "20         0.636112          0.662284        0.005305         0.000969\n",
      "21         0.636132          0.661935        0.005428         0.001118\n",
      "25         0.635826          0.661219        0.005223         0.001599\n",
      "27         0.635807          0.661476        0.005344         0.001056\n",
      "30         0.636327          0.661408        0.005301         0.000902\n",
      "35         0.636917          0.661071        0.005308         0.001150\n"
     ]
    }
   ],
   "source": [
    "searchParam={'reg_alpha':[20,21,25,27,30,35]}\n",
    "turnParams(lgbc,X_train,y_train,'auto',searchParam,params,scoring='roc_auc',cv=5);"
   ]
  },
  {
   "cell_type": "code",
   "execution_count": 139,
   "metadata": {
    "collapsed": false
   },
   "outputs": [
    {
     "name": "stdout",
     "output_type": "stream",
     "text": [
      "Best params:\n",
      "reg_alpha : 37\n",
      "Best score: 0.63734944985\n",
      "    mean_test_score  mean_train_score  std_test_score  std_train_score\n",
      "34         0.636516          0.660784        0.005821         0.001230\n",
      "35         0.636917          0.661071        0.005308         0.001150\n",
      "37         0.637349          0.660813        0.005070         0.000805\n",
      "40         0.636145          0.660842        0.006272         0.001236\n",
      "45         0.635848          0.660618        0.004697         0.001273\n",
      "50         0.636690          0.660303        0.005013         0.001457\n"
     ]
    }
   ],
   "source": [
    "searchParam={'reg_alpha':[34,35,37,40,45,50]}\n",
    "turnParams(lgbc,X_train,y_train,'auto',searchParam,params,scoring='roc_auc',cv=5);"
   ]
  },
  {
   "cell_type": "code",
   "execution_count": 141,
   "metadata": {
    "collapsed": false
   },
   "outputs": [
    {
     "name": "stdout",
     "output_type": "stream",
     "text": [
      "Best params:\n",
      "reg_alpha : 37.2\n",
      "Best score: 0.637349692228\n",
      "      mean_test_score  mean_train_score  std_test_score  std_train_score\n",
      "36.6         0.637317          0.660844        0.005118         0.000822\n",
      "36.8         0.637215          0.660900        0.005158         0.000874\n",
      "36.9         0.637349          0.660815        0.005070         0.000806\n",
      "37.0         0.637349          0.660813        0.005070         0.000805\n",
      "37.1         0.637350          0.660810        0.005070         0.000805\n",
      "37.2         0.637350          0.660807        0.005069         0.000805\n",
      "37.4         0.637332          0.660843        0.005069         0.000842\n"
     ]
    }
   ],
   "source": [
    "searchParam={'reg_alpha':[36.6,36.8,36.9,37,37.1,37.2,37.4]}\n",
    "turnParams(lgbc,X_train,y_train,'auto',searchParam,params,scoring='roc_auc',cv=5);"
   ]
  },
  {
   "cell_type": "markdown",
   "metadata": {},
   "source": [
    "## 2.5 reg_lambda"
   ]
  },
  {
   "cell_type": "code",
   "execution_count": 142,
   "metadata": {
    "collapsed": false
   },
   "outputs": [
    {
     "name": "stdout",
     "output_type": "stream",
     "text": [
      "Best params:\n",
      "reg_lambda : 0.001\n",
      "Best score: 0.637349699135\n",
      "         mean_test_score  mean_train_score  std_test_score  std_train_score\n",
      "0.00000         0.637350          0.660807        0.005069         0.000805\n",
      "0.00001         0.637350          0.660807        0.005069         0.000805\n",
      "0.00100         0.637350          0.660807        0.005069         0.000805\n",
      "0.10000         0.637347          0.660848        0.005072         0.000841\n",
      "0.50000         0.637263          0.660838        0.004939         0.000849\n",
      "1.00000         0.637182          0.660697        0.004788         0.001099\n"
     ]
    }
   ],
   "source": [
    "searchParam={'reg_lambda':[0,1e-5,1e-3,0.1,0.5,1]}\n",
    "turnParams(lgbc,X_train,y_train,'auto',searchParam,params,scoring='roc_auc',cv=5);"
   ]
  },
  {
   "cell_type": "code",
   "execution_count": 143,
   "metadata": {
    "collapsed": false
   },
   "outputs": [
    {
     "name": "stdout",
     "output_type": "stream",
     "text": [
      "Best params:\n",
      "reg_lambda : 0.002\n",
      "Best score: 0.637349706043\n",
      "        mean_test_score  mean_train_score  std_test_score  std_train_score\n",
      "0.0001         0.637350          0.660807        0.005069         0.000805\n",
      "0.0005         0.637350          0.660807        0.005069         0.000805\n",
      "0.0010         0.637350          0.660807        0.005069         0.000805\n",
      "0.0020         0.637350          0.660807        0.005069         0.000805\n",
      "0.0050         0.637347          0.660849        0.005072         0.000841\n",
      "0.0100         0.637347          0.660849        0.005072         0.000841\n"
     ]
    }
   ],
   "source": [
    "searchParam={'reg_lambda':[1e-4,5e-4,1e-3,2e-3,5e-3,0.01]}\n",
    "turnParams(lgbc,X_train,y_train,'auto',searchParam,params,scoring='roc_auc',cv=5);"
   ]
  },
  {
   "cell_type": "markdown",
   "metadata": {},
   "source": [
    "## 2.6 min_child_samples"
   ]
  },
  {
   "cell_type": "code",
   "execution_count": 144,
   "metadata": {
    "collapsed": false
   },
   "outputs": [
    {
     "name": "stdout",
     "output_type": "stream",
     "text": [
      "Best params:\n",
      "min_child_samples : 1\n",
      "Best score: 0.637349706043\n",
      "   mean_test_score  mean_train_score  std_test_score  std_train_score\n",
      "1          0.63735          0.660807        0.005069         0.000805\n",
      "2          0.63735          0.660807        0.005069         0.000805\n",
      "3          0.63735          0.660807        0.005069         0.000805\n",
      "4          0.63735          0.660807        0.005069         0.000805\n",
      "5          0.63735          0.660807        0.005069         0.000805\n",
      "6          0.63735          0.660807        0.005069         0.000805\n",
      "7          0.63735          0.660807        0.005069         0.000805\n"
     ]
    }
   ],
   "source": [
    "searchParam={'min_child_samples':[1,2,3,4,5,6,7]}\n",
    "turnParams(lgbc,X_train,y_train,'auto',searchParam,params,scoring='roc_auc',cv=5);"
   ]
  },
  {
   "cell_type": "markdown",
   "metadata": {},
   "source": [
    "## 2.7 min_child_weight"
   ]
  },
  {
   "cell_type": "code",
   "execution_count": 147,
   "metadata": {
    "collapsed": false
   },
   "outputs": [
    {
     "name": "stdout",
     "output_type": "stream",
     "text": [
      "Best params:\n",
      "min_child_weight : 0\n",
      "Best score: 0.637349706043\n",
      "         mean_test_score  mean_train_score  std_test_score  std_train_score\n",
      "0.00000          0.63735          0.660807        0.005069         0.000805\n",
      "0.00001          0.63735          0.660807        0.005069         0.000805\n",
      "0.00100          0.63735          0.660807        0.005069         0.000805\n",
      "0.10000          0.63735          0.660807        0.005069         0.000805\n",
      "0.50000          0.63735          0.660807        0.005069         0.000805\n",
      "1.00000          0.63735          0.660807        0.005069         0.000805\n",
      "3.00000          0.63735          0.660807        0.005069         0.000805\n",
      "5.00000          0.63735          0.660807        0.005069         0.000805\n"
     ]
    }
   ],
   "source": [
    "searchParam={'min_child_weight':[0,1e-5,1e-3,0.1,0.5,1.0,3.0,5.0]}\n",
    "turnParams(lgbc,X_train,y_train,'auto',searchParam,params,scoring='roc_auc',cv=5);"
   ]
  },
  {
   "cell_type": "markdown",
   "metadata": {},
   "source": [
    "## 2.9 min_split_gain"
   ]
  },
  {
   "cell_type": "code",
   "execution_count": 148,
   "metadata": {
    "collapsed": false
   },
   "outputs": [
    {
     "name": "stdout",
     "output_type": "stream",
     "text": [
      "Best params:\n",
      "min_split_gain : 0\n",
      "Best score: 0.637349706043\n",
      "     mean_test_score  mean_train_score  std_test_score  std_train_score\n",
      "0.0         0.637350          0.660807        0.005069         0.000805\n",
      "0.5         0.637148          0.660621        0.005032         0.001164\n",
      "0.9         0.637085          0.660673        0.005033         0.001191\n",
      "1.0         0.637282          0.660702        0.004971         0.001216\n",
      "1.1         0.637288          0.660653        0.004971         0.001246\n",
      "2.0         0.636502          0.660578        0.004896         0.001162\n",
      "3.0         0.636710          0.660608        0.004722         0.001079\n"
     ]
    }
   ],
   "source": [
    "searchParam={'min_split_gain':[0,0.5,0.9,1,1.1,2,3]}\n",
    "turnParams(lgbc,X_train,y_train,'auto',searchParam,params,scoring='roc_auc',cv=5);"
   ]
  },
  {
   "cell_type": "markdown",
   "metadata": {},
   "source": [
    "## 2.10 num_leaves"
   ]
  },
  {
   "cell_type": "code",
   "execution_count": 150,
   "metadata": {
    "collapsed": false
   },
   "outputs": [
    {
     "name": "stdout",
     "output_type": "stream",
     "text": [
      "Best params:\n",
      "num_leaves : 7\n",
      "Best score: 0.633042879386\n",
      "   mean_test_score  mean_train_score  std_test_score  std_train_score\n",
      "3         0.625724          0.629608        0.004505         0.001288\n",
      "5         0.630622          0.637408        0.004846         0.001613\n",
      "7         0.633043          0.642017        0.004158         0.000890\n"
     ]
    }
   ],
   "source": [
    "searchParam={'num_leaves':[3,5,7]}\n",
    "turnParams(lgbc,X_train,y_train,'auto',searchParam,params,scoring='roc_auc',cv=5);"
   ]
  },
  {
   "cell_type": "code",
   "execution_count": 151,
   "metadata": {
    "collapsed": false
   },
   "outputs": [
    {
     "name": "stdout",
     "output_type": "stream",
     "text": [
      "Best params:\n",
      "num_leaves : 11\n",
      "Best score: 0.635762077866\n",
      "    mean_test_score  mean_train_score  std_test_score  std_train_score\n",
      "7          0.633043          0.642017        0.004158         0.000890\n",
      "9          0.634044          0.645414        0.005875         0.000936\n",
      "11         0.635762          0.648973        0.005178         0.001287\n",
      "15         0.635285          0.654847        0.005204         0.001226\n"
     ]
    }
   ],
   "source": [
    "searchParam={'num_leaves':[7,9,11,15]}\n",
    "turnParams(lgbc,X_train,y_train,'auto',searchParam,params,scoring='roc_auc',cv=5);"
   ]
  },
  {
   "cell_type": "code",
   "execution_count": 152,
   "metadata": {
    "collapsed": false
   },
   "outputs": [
    {
     "name": "stdout",
     "output_type": "stream",
     "text": [
      "Best params:\n",
      "num_leaves : 14\n",
      "Best score: 0.636184500827\n",
      "    mean_test_score  mean_train_score  std_test_score  std_train_score\n",
      "10         0.635278          0.647274        0.005076         0.001179\n",
      "11         0.635762          0.648973        0.005178         0.001287\n",
      "12         0.636044          0.650576        0.004682         0.001571\n",
      "13         0.636176          0.651962        0.004628         0.000949\n",
      "14         0.636185          0.653273        0.004509         0.001427\n"
     ]
    }
   ],
   "source": [
    "searchParam={'num_leaves':[10,11,12,13,14]}\n",
    "turnParams(lgbc,X_train,y_train,'auto',searchParam,params,scoring='roc_auc',cv=5);"
   ]
  },
  {
   "cell_type": "code",
   "execution_count": 153,
   "metadata": {
    "collapsed": false
   },
   "outputs": [
    {
     "name": "stdout",
     "output_type": "stream",
     "text": [
      "Best params:\n",
      "num_leaves : 20\n",
      "Best score: 0.637349706043\n",
      "    mean_test_score  mean_train_score  std_test_score  std_train_score\n",
      "14         0.636185          0.653273        0.004509         0.001427\n",
      "15         0.635285          0.654847        0.005204         0.001226\n",
      "16         0.636113          0.656082        0.004543         0.001369\n",
      "20         0.637350          0.660807        0.005069         0.000805\n"
     ]
    }
   ],
   "source": [
    "searchParam={'num_leaves':[14,15,16,20]}\n",
    "turnParams(lgbc,X_train,y_train,'auto',searchParam,params,scoring='roc_auc',cv=5);"
   ]
  },
  {
   "cell_type": "code",
   "execution_count": 154,
   "metadata": {
    "collapsed": false
   },
   "outputs": [
    {
     "name": "stdout",
     "output_type": "stream",
     "text": [
      "Best params:\n",
      "num_leaves : 20\n",
      "Best score: 0.637349706043\n",
      "    mean_test_score  mean_train_score  std_test_score  std_train_score\n",
      "18         0.636257          0.658266        0.004818         0.000750\n",
      "19         0.636619          0.659898        0.004754         0.001196\n",
      "20         0.637350          0.660807        0.005069         0.000805\n",
      "21         0.635591          0.662024        0.005021         0.001161\n",
      "25         0.634249          0.666300        0.005271         0.001309\n",
      "30         0.635766          0.671904        0.004799         0.001879\n"
     ]
    }
   ],
   "source": [
    "searchParam={'num_leaves':[18,19,20,21,25,30]}\n",
    "turnParams(lgbc,X_train,y_train,'auto',searchParam,params,scoring='roc_auc',cv=5);"
   ]
  },
  {
   "cell_type": "markdown",
   "metadata": {},
   "source": [
    "## 2.10 max_depth"
   ]
  },
  {
   "cell_type": "code",
   "execution_count": 156,
   "metadata": {
    "collapsed": false
   },
   "outputs": [
    {
     "name": "stdout",
     "output_type": "stream",
     "text": [
      "Best params:\n",
      "max_depth : 6\n",
      "Best score: 0.637349706043\n",
      "   mean_test_score  mean_train_score  std_test_score  std_train_score\n",
      "6         0.637350          0.660807        0.005069         0.000805\n",
      "7         0.637233          0.661268        0.004477         0.001206\n",
      "8         0.637021          0.661839        0.005636         0.001211\n",
      "9         0.636337          0.662108        0.005603         0.001230\n"
     ]
    }
   ],
   "source": [
    "searchParam={'max_depth':[6,7,8,9]}\n",
    "turnParams(lgbc,X_train,y_train,'auto',searchParam,params,scoring='roc_auc',cv=5);"
   ]
  },
  {
   "cell_type": "markdown",
   "metadata": {},
   "source": [
    "## 2.11 lower learning_rate"
   ]
  },
  {
   "cell_type": "code",
   "execution_count": 158,
   "metadata": {
    "collapsed": false
   },
   "outputs": [
    {
     "name": "stdout",
     "output_type": "stream",
     "text": [
      "[20]\tcv_agg's auc: 0.615388 + 0.00263045\n",
      "[40]\tcv_agg's auc: 0.619187 + 0.00294828\n",
      "[60]\tcv_agg's auc: 0.622387 + 0.0033581\n",
      "[80]\tcv_agg's auc: 0.625038 + 0.003733\n",
      "[100]\tcv_agg's auc: 0.626947 + 0.0040943\n",
      "[120]\tcv_agg's auc: 0.62862 + 0.00437775\n",
      "[140]\tcv_agg's auc: 0.63006 + 0.00437322\n",
      "[160]\tcv_agg's auc: 0.631128 + 0.00445017\n",
      "[180]\tcv_agg's auc: 0.632279 + 0.00440863\n",
      "[200]\tcv_agg's auc: 0.633253 + 0.0044185\n",
      "[220]\tcv_agg's auc: 0.634077 + 0.00449291\n",
      "[240]\tcv_agg's auc: 0.634864 + 0.00452748\n",
      "[260]\tcv_agg's auc: 0.635518 + 0.00457832\n",
      "[280]\tcv_agg's auc: 0.636131 + 0.00464786\n",
      "[300]\tcv_agg's auc: 0.636685 + 0.00466929\n",
      "[320]\tcv_agg's auc: 0.637133 + 0.00466265\n",
      "[340]\tcv_agg's auc: 0.637607 + 0.0046169\n",
      "[360]\tcv_agg's auc: 0.637939 + 0.0045913\n",
      "[380]\tcv_agg's auc: 0.638259 + 0.00460722\n",
      "[400]\tcv_agg's auc: 0.638523 + 0.00457008\n",
      "[420]\tcv_agg's auc: 0.638737 + 0.00457217\n",
      "[440]\tcv_agg's auc: 0.638964 + 0.00447435\n",
      "[460]\tcv_agg's auc: 0.639187 + 0.00444211\n",
      "[480]\tcv_agg's auc: 0.639354 + 0.00441663\n",
      "[500]\tcv_agg's auc: 0.639517 + 0.00435618\n",
      "[520]\tcv_agg's auc: 0.639626 + 0.00430538\n",
      "[540]\tcv_agg's auc: 0.639787 + 0.00427734\n",
      "[560]\tcv_agg's auc: 0.639904 + 0.00425484\n",
      "[580]\tcv_agg's auc: 0.640018 + 0.00423102\n",
      "[600]\tcv_agg's auc: 0.640179 + 0.00420337\n",
      "[620]\tcv_agg's auc: 0.640273 + 0.00419244\n",
      "[640]\tcv_agg's auc: 0.640361 + 0.00416703\n",
      "[660]\tcv_agg's auc: 0.640406 + 0.0041139\n",
      "[680]\tcv_agg's auc: 0.640468 + 0.00409307\n",
      "[700]\tcv_agg's auc: 0.640538 + 0.00408426\n",
      "[720]\tcv_agg's auc: 0.640589 + 0.00407216\n",
      "[740]\tcv_agg's auc: 0.64065 + 0.00404924\n",
      "[760]\tcv_agg's auc: 0.640675 + 0.00400758\n",
      "[780]\tcv_agg's auc: 0.640718 + 0.00399147\n",
      "[800]\tcv_agg's auc: 0.640758 + 0.00394833\n",
      "[820]\tcv_agg's auc: 0.640763 + 0.00394113\n",
      "[840]\tcv_agg's auc: 0.640779 + 0.00392667\n",
      "[860]\tcv_agg's auc: 0.640797 + 0.00390647\n",
      "[880]\tcv_agg's auc: 0.64081 + 0.00384459\n",
      "[900]\tcv_agg's auc: 0.640845 + 0.00381219\n",
      "[920]\tcv_agg's auc: 0.640848 + 0.00381884\n",
      "[940]\tcv_agg's auc: 0.640866 + 0.00381447\n",
      "[960]\tcv_agg's auc: 0.640893 + 0.00381576\n",
      "[980]\tcv_agg's auc: 0.640883 + 0.00381006\n",
      "[1000]\tcv_agg's auc: 0.640877 + 0.00381019\n",
      "Best Iteration: 969\n",
      "Model report on trian:\n",
      "Train AUC:0.6784\n",
      "Model report on test:\n",
      "Test AUC:0.6419\n",
      "Test classifiction report:\n",
      "             precision    recall  f1-score   support\n",
      "\n",
      "          0       0.97      0.64      0.78    114704\n",
      "          1       0.06      0.55      0.10      4339\n",
      "\n",
      "avg / total       0.94      0.64      0.75    119043\n",
      "\n",
      "Test confusion matrix:\n",
      "Confusion matrix, without normalization\n",
      "[[73884 40820]\n",
      " [ 1950  2389]]\n"
     ]
    },
    {
     "data": {
      "image/png": "[encoded data removed]",
      "text/plain": [
       "<matplotlib.figure.Figure at 0xc800e3ada0>"
      ]
     },
     "metadata": {},
     "output_type": "display_data"
    },
    {
     "data": {
      "image/png": "[encoded data removed]",
      "text/plain": [
       "<matplotlib.figure.Figure at 0xc801c9c208>"
      ]
     },
     "metadata": {},
     "output_type": "display_data"
    }
   ],
   "source": [
    "params['learning_rate']=0.01\n",
    "lgbc=lgb.LGBMClassifier(**params)\n",
    "get_lgb_params(params,cvparams,tran_table)\n",
    "feat_imp=modelfit(lgbc,X_train,y_train,X_test,y_test,'auto',cvparams,useTrainCV=True,cv_folds=5,early_stopping_rounds=50)"
   ]
  },
  {
   "cell_type": "code",
   "execution_count": 160,
   "metadata": {
    "collapsed": false
   },
   "outputs": [
    {
     "name": "stdout",
     "output_type": "stream",
     "text": [
      "[20]\tcv_agg's auc: 0.626511 + 0.00396501\n",
      "[40]\tcv_agg's auc: 0.632883 + 0.00452943\n",
      "[60]\tcv_agg's auc: 0.636243 + 0.00475028\n",
      "[80]\tcv_agg's auc: 0.638259 + 0.00471581\n",
      "[100]\tcv_agg's auc: 0.639147 + 0.00440668\n",
      "[120]\tcv_agg's auc: 0.639907 + 0.00440301\n",
      "[140]\tcv_agg's auc: 0.64018 + 0.00423821\n",
      "[160]\tcv_agg's auc: 0.640356 + 0.00419176\n",
      "[180]\tcv_agg's auc: 0.640267 + 0.00401833\n",
      "[200]\tcv_agg's auc: 0.640278 + 0.00403967\n",
      "Best Iteration: 162\n",
      "Model report on trian:\n",
      "Train AUC:0.6725\n",
      "Model report on test:\n",
      "Test AUC:0.6413\n",
      "Test classifiction report:\n",
      "             precision    recall  f1-score   support\n",
      "\n",
      "          0       0.97      0.64      0.77    114704\n",
      "          1       0.06      0.55      0.10      4339\n",
      "\n",
      "avg / total       0.94      0.64      0.75    119043\n",
      "\n",
      "Test confusion matrix:\n",
      "Confusion matrix, without normalization\n",
      "[[73461 41243]\n",
      " [ 1935  2404]]\n"
     ]
    },
    {
     "data": {
      "image/png": "[encoded data removed]",
      "text/plain": [
       "<matplotlib.figure.Figure at 0xc8010a4160>"
      ]
     },
     "metadata": {},
     "output_type": "display_data"
    },
    {
     "data": {
      "image/png": "[encoded data removed]",
      "text/plain": [
       "<matplotlib.figure.Figure at 0xc801136668>"
      ]
     },
     "metadata": {},
     "output_type": "display_data"
    }
   ],
   "source": [
    "params['learning_rate']=0.05\n",
    "lgbc=lgb.LGBMClassifier(**params)\n",
    "get_lgb_params(params,cvparams,tran_table)\n",
    "feat_imp=modelfit(lgbc,X_train,y_train,X_test,y_test,'auto',cvparams,useTrainCV=True,cv_folds=5,early_stopping_rounds=50)"
   ]
  },
  {
   "cell_type": "code",
   "execution_count": 161,
   "metadata": {
    "collapsed": true
   },
   "outputs": [],
   "source": [
    "params['n_estimators']=162"
   ]
  },
  {
   "cell_type": "markdown",
   "metadata": {},
   "source": [
    "# 3 Final model"
   ]
  },
  {
   "cell_type": "code",
   "execution_count": 162,
   "metadata": {
    "collapsed": false
   },
   "outputs": [
    {
     "data": {
      "text/plain": [
       "{'boosting_type': 'gbdt',\n",
       " 'colsample_bytree': 1.0,\n",
       " 'is_unbalance': True,\n",
       " 'learning_rate': 0.05,\n",
       " 'max_bin': 255,\n",
       " 'max_depth': 6,\n",
       " 'min_child_samples': 1,\n",
       " 'min_child_weight': 0,\n",
       " 'min_split_gain': 0,\n",
       " 'n_estimators': 162,\n",
       " 'n_jobs': 4,\n",
       " 'num_leaves': 20,\n",
       " 'objective': 'binary',\n",
       " 'random_state': 9,\n",
       " 'reg_alpha': 37.2,\n",
       " 'reg_lambda': 0.002,\n",
       " 'subsample': 0.95,\n",
       " 'subsample_freq': 1}"
      ]
     },
     "execution_count": 162,
     "metadata": {},
     "output_type": "execute_result"
    }
   ],
   "source": [
    "params"
   ]
  },
  {
   "cell_type": "code",
   "execution_count": 163,
   "metadata": {
    "collapsed": true
   },
   "outputs": [],
   "source": [
    "lgbc_opt=lgb.LGBMClassifier(**params)"
   ]
  },
  {
   "cell_type": "markdown",
   "metadata": {},
   "source": [
    "### cv"
   ]
  },
  {
   "cell_type": "code",
   "execution_count": 164,
   "metadata": {
    "collapsed": false
   },
   "outputs": [
    {
     "name": "stdout",
     "output_type": "stream",
     "text": [
      "Best params:\n",
      "max_depth : 6\n",
      "Best score: 0.640936671152\n",
      "   mean_test_score  mean_train_score  std_test_score  std_train_score\n",
      "6         0.640937           0.67268        0.002706         0.000369\n"
     ]
    }
   ],
   "source": [
    "searchParam={'max_depth':[6]}\n",
    "turnParams(lgbc_opt,X,y,'auto',searchParam,params,scoring='roc_auc',cv=5);"
   ]
  },
  {
   "cell_type": "code",
   "execution_count": 165,
   "metadata": {
    "collapsed": false
   },
   "outputs": [
    {
     "data": {
      "text/plain": [
       "LGBMClassifier(boosting_type='gbdt', colsample_bytree=1.0, is_unbalance=True,\n",
       "        learning_rate=0.05, max_bin=255, max_depth=6, min_child_samples=1,\n",
       "        min_child_weight=0, min_split_gain=0, n_estimators=162, n_jobs=4,\n",
       "        num_leaves=20, objective='binary', random_state=9, reg_alpha=37.2,\n",
       "        reg_lambda=0.002, silent=True, subsample=0.95,\n",
       "        subsample_for_bin=50000, subsample_freq=1)"
      ]
     },
     "execution_count": 165,
     "metadata": {},
     "output_type": "execute_result"
    }
   ],
   "source": [
    "lgbc_opt.fit(X,y,feature_name=list(X.columns),categorical_feature='auto')"
   ]
  },
  {
   "cell_type": "code",
   "execution_count": 166,
   "metadata": {
    "collapsed": false
   },
   "outputs": [
    {
     "data": {
      "text/plain": [
       "['D:\\\\study\\\\Competition\\\\kaggle-PSSDP-20171014\\\\20171102_14LightGBM.pkl']"
      ]
     },
     "execution_count": 166,
     "metadata": {},
     "output_type": "execute_result"
    }
   ],
   "source": [
    "joblib.dump(lgbc_opt,r'D:\\study\\Competition\\kaggle-PSSDP-20171014\\20171102_14LightGBM.pkl')"
   ]
  },
  {
   "cell_type": "code",
   "execution_count": 167,
   "metadata": {
    "collapsed": true
   },
   "outputs": [],
   "source": [
    "pred_prob=lgbc_opt.predict_proba(X_predict)[:,1]"
   ]
  },
  {
   "cell_type": "code",
   "execution_count": 168,
   "metadata": {
    "collapsed": true
   },
   "outputs": [],
   "source": [
    "predict_result=pd.DataFrame({'id':test_df['id'].astype(int),'target':pd.Series(pred_prob,index=test_df['id'].index)})"
   ]
  },
  {
   "cell_type": "code",
   "execution_count": 169,
   "metadata": {
    "collapsed": false
   },
   "outputs": [
    {
     "data": {
      "text/html": [
       "<div>\n",
       "<table border=\"1\" class=\"dataframe\">\n",
       "  <thead>\n",
       "    <tr style=\"text-align: right;\">\n",
       "      <th></th>\n",
       "      <th>id</th>\n",
       "      <th>target</th>\n",
       "    </tr>\n",
       "  </thead>\n",
       "  <tbody>\n",
       "    <tr>\n",
       "      <th>0</th>\n",
       "      <td>0</td>\n",
       "      <td>0.416894</td>\n",
       "    </tr>\n",
       "    <tr>\n",
       "      <th>1</th>\n",
       "      <td>1</td>\n",
       "      <td>0.437842</td>\n",
       "    </tr>\n",
       "    <tr>\n",
       "      <th>2</th>\n",
       "      <td>2</td>\n",
       "      <td>0.422406</td>\n",
       "    </tr>\n",
       "    <tr>\n",
       "      <th>3</th>\n",
       "      <td>3</td>\n",
       "      <td>0.281879</td>\n",
       "    </tr>\n",
       "    <tr>\n",
       "      <th>4</th>\n",
       "      <td>4</td>\n",
       "      <td>0.494555</td>\n",
       "    </tr>\n",
       "  </tbody>\n",
       "</table>\n",
       "</div>"
      ],
      "text/plain": [
       "   id    target\n",
       "0   0  0.416894\n",
       "1   1  0.437842\n",
       "2   2  0.422406\n",
       "3   3  0.281879\n",
       "4   4  0.494555"
      ]
     },
     "execution_count": 169,
     "metadata": {},
     "output_type": "execute_result"
    }
   ],
   "source": [
    "predict_result.head()"
   ]
  },
  {
   "cell_type": "code",
   "execution_count": 170,
   "metadata": {
    "collapsed": true
   },
   "outputs": [],
   "source": [
    "predict_result.to_csv(r'D:\\study\\Competition\\kaggle-PSSDP-20171014\\20171102_14lgbm.csv',index=False)"
   ]
  },
  {
   "cell_type": "code",
   "execution_count": 172,
   "metadata": {
    "collapsed": false
   },
   "outputs": [
    {
     "data": {
      "text/plain": [
       "<matplotlib.axes._subplots.AxesSubplot at 0xc8011d27b8>"
      ]
     },
     "execution_count": 172,
     "metadata": {},
     "output_type": "execute_result"
    },
    {
     "data": {
      "image/png": "[encoded data removed]",
      "text/plain": [
       "<matplotlib.figure.Figure at 0xc802356a20>"
      ]
     },
     "metadata": {},
     "output_type": "display_data"
    }
   ],
   "source": [
    "sns.distplot(predict_result['target'])"
   ]
  },
  {
   "cell_type": "code",
   "execution_count": 173,
   "metadata": {
    "collapsed": false
   },
   "outputs": [
    {
     "data": {
      "text/plain": [
       "count    892816.000000\n",
       "mean          0.467750\n",
       "std           0.112784\n",
       "min           0.152381\n",
       "25%           0.386147\n",
       "50%           0.463037\n",
       "75%           0.543116\n",
       "max           0.893551\n",
       "Name: target, dtype: float64"
      ]
     },
     "execution_count": 173,
     "metadata": {},
     "output_type": "execute_result"
    }
   ],
   "source": [
    "predict_result['target'].describe()"
   ]
  },
  {
   "cell_type": "code",
   "execution_count": null,
   "metadata": {
    "collapsed": true
   },
   "outputs": [],
   "source": []
  }
 ],
 "metadata": {
  "kernelspec": {
   "display_name": "Python 3",
   "language": "python",
   "name": "python3"
  },
  "language_info": {
   "codemirror_mode": {
    "name": "ipython",
    "version": 3
   },
   "file_extension": ".py",
   "mimetype": "text/x-python",
   "name": "python",
   "nbconvert_exporter": "python",
   "pygments_lexer": "ipython3",
   "version": "3.6.0"
  }
 },
 "nbformat": 4,
 "nbformat_minor": 2
}
