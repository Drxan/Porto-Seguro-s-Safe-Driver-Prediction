{
 "cells": [
  {
   "cell_type": "code",
   "execution_count": 50,
   "metadata": {},
   "outputs": [],
   "source": [
    "import itertools\n",
    "import pandas as pd\n",
    "import numpy as np\n",
    "import matplotlib.pyplot as plt\n",
    "import seaborn as sns\n",
    "from sklearn.model_selection import train_test_split,GridSearchCV\n",
    "from xgboost.sklearn import XGBClassifier\n",
    "import xgboost as xgb\n",
    "from sklearn import metrics\n",
    "import lightgbm as lgb\n",
    "from copy import deepcopy\n",
    "import graphviz\n",
    "%matplotlib inline\n",
    "plt.rcParams['figure.figsize']=12,4"
   ]
  },
  {
   "cell_type": "code",
   "execution_count": 13,
   "metadata": {
    "collapsed": true
   },
   "outputs": [],
   "source": [
    "train_df=pd.read_csv('/home/yw/study/Competition/Safe_Driver_Prediction_20171014/train.csv',na_values=-1)\n",
    "test_df=pd.read_csv('/home/yw/study/Competition/Safe_Driver_Prediction_20171014/test.csv',na_values=-1)\n",
    "sample_df=pd.read_csv('/home/yw/study/Competition/Safe_Driver_Prediction_20171014/sample_submission.csv')"
   ]
  },
  {
   "cell_type": "code",
   "execution_count": 14,
   "metadata": {
    "collapsed": true
   },
   "outputs": [],
   "source": [
    "#所有二元变量\n",
    "bin_features=[feat for feat in train_df.columns if 'bin' in feat]\n",
    "#所有的分类变量\n",
    "cat_features=[feat for feat in train_df.columns if 'cat' in feat]\n",
    "#所有calc变量\n",
    "calc_features=[feat for feat in train_df.columns if 'calc' in feat]"
   ]
  },
  {
   "cell_type": "code",
   "execution_count": 15,
   "metadata": {},
   "outputs": [
    {
     "data": {
      "text/html": [
       "<div>\n",
       "<style>\n",
       "    .dataframe thead tr:only-child th {\n",
       "        text-align: right;\n",
       "    }\n",
       "\n",
       "    .dataframe thead th {\n",
       "        text-align: left;\n",
       "    }\n",
       "\n",
       "    .dataframe tbody tr th {\n",
       "        vertical-align: top;\n",
       "    }\n",
       "</style>\n",
       "<table border=\"1\" class=\"dataframe\">\n",
       "  <thead>\n",
       "    <tr style=\"text-align: right;\">\n",
       "      <th></th>\n",
       "      <th>id</th>\n",
       "      <th>target</th>\n",
       "      <th>ps_ind_01</th>\n",
       "      <th>ps_ind_02_cat</th>\n",
       "      <th>ps_ind_03</th>\n",
       "      <th>ps_ind_04_cat</th>\n",
       "      <th>ps_ind_05_cat</th>\n",
       "      <th>ps_ind_06_bin</th>\n",
       "      <th>ps_ind_07_bin</th>\n",
       "      <th>ps_ind_08_bin</th>\n",
       "      <th>...</th>\n",
       "      <th>ps_calc_11</th>\n",
       "      <th>ps_calc_12</th>\n",
       "      <th>ps_calc_13</th>\n",
       "      <th>ps_calc_14</th>\n",
       "      <th>ps_calc_15_bin</th>\n",
       "      <th>ps_calc_16_bin</th>\n",
       "      <th>ps_calc_17_bin</th>\n",
       "      <th>ps_calc_18_bin</th>\n",
       "      <th>ps_calc_19_bin</th>\n",
       "      <th>ps_calc_20_bin</th>\n",
       "    </tr>\n",
       "  </thead>\n",
       "  <tbody>\n",
       "    <tr>\n",
       "      <th>0</th>\n",
       "      <td>7</td>\n",
       "      <td>0</td>\n",
       "      <td>2</td>\n",
       "      <td>2.0</td>\n",
       "      <td>5</td>\n",
       "      <td>1.0</td>\n",
       "      <td>0.0</td>\n",
       "      <td>0</td>\n",
       "      <td>1</td>\n",
       "      <td>0</td>\n",
       "      <td>...</td>\n",
       "      <td>9</td>\n",
       "      <td>1</td>\n",
       "      <td>5</td>\n",
       "      <td>8</td>\n",
       "      <td>0</td>\n",
       "      <td>1</td>\n",
       "      <td>1</td>\n",
       "      <td>0</td>\n",
       "      <td>0</td>\n",
       "      <td>1</td>\n",
       "    </tr>\n",
       "    <tr>\n",
       "      <th>1</th>\n",
       "      <td>9</td>\n",
       "      <td>0</td>\n",
       "      <td>1</td>\n",
       "      <td>1.0</td>\n",
       "      <td>7</td>\n",
       "      <td>0.0</td>\n",
       "      <td>0.0</td>\n",
       "      <td>0</td>\n",
       "      <td>0</td>\n",
       "      <td>1</td>\n",
       "      <td>...</td>\n",
       "      <td>3</td>\n",
       "      <td>1</td>\n",
       "      <td>1</td>\n",
       "      <td>9</td>\n",
       "      <td>0</td>\n",
       "      <td>1</td>\n",
       "      <td>1</td>\n",
       "      <td>0</td>\n",
       "      <td>1</td>\n",
       "      <td>0</td>\n",
       "    </tr>\n",
       "    <tr>\n",
       "      <th>2</th>\n",
       "      <td>13</td>\n",
       "      <td>0</td>\n",
       "      <td>5</td>\n",
       "      <td>4.0</td>\n",
       "      <td>9</td>\n",
       "      <td>1.0</td>\n",
       "      <td>0.0</td>\n",
       "      <td>0</td>\n",
       "      <td>0</td>\n",
       "      <td>1</td>\n",
       "      <td>...</td>\n",
       "      <td>4</td>\n",
       "      <td>2</td>\n",
       "      <td>7</td>\n",
       "      <td>7</td>\n",
       "      <td>0</td>\n",
       "      <td>1</td>\n",
       "      <td>1</td>\n",
       "      <td>0</td>\n",
       "      <td>1</td>\n",
       "      <td>0</td>\n",
       "    </tr>\n",
       "  </tbody>\n",
       "</table>\n",
       "<p>3 rows × 59 columns</p>\n",
       "</div>"
      ],
      "text/plain": [
       "   id  target  ps_ind_01  ps_ind_02_cat  ps_ind_03  ps_ind_04_cat  \\\n",
       "0   7       0          2            2.0          5            1.0   \n",
       "1   9       0          1            1.0          7            0.0   \n",
       "2  13       0          5            4.0          9            1.0   \n",
       "\n",
       "   ps_ind_05_cat  ps_ind_06_bin  ps_ind_07_bin  ps_ind_08_bin       ...        \\\n",
       "0            0.0              0              1              0       ...         \n",
       "1            0.0              0              0              1       ...         \n",
       "2            0.0              0              0              1       ...         \n",
       "\n",
       "   ps_calc_11  ps_calc_12  ps_calc_13  ps_calc_14  ps_calc_15_bin  \\\n",
       "0           9           1           5           8               0   \n",
       "1           3           1           1           9               0   \n",
       "2           4           2           7           7               0   \n",
       "\n",
       "   ps_calc_16_bin  ps_calc_17_bin  ps_calc_18_bin  ps_calc_19_bin  \\\n",
       "0               1               1               0               0   \n",
       "1               1               1               0               1   \n",
       "2               1               1               0               1   \n",
       "\n",
       "   ps_calc_20_bin  \n",
       "0               1  \n",
       "1               0  \n",
       "2               0  \n",
       "\n",
       "[3 rows x 59 columns]"
      ]
     },
     "execution_count": 15,
     "metadata": {},
     "output_type": "execute_result"
    }
   ],
   "source": [
    "train_df.head(3)"
   ]
  },
  {
   "cell_type": "code",
   "execution_count": 16,
   "metadata": {
    "collapsed": true
   },
   "outputs": [],
   "source": [
    "use_features=[x for x in train_df.columns if x not in ['id','target']]"
   ]
  },
  {
   "cell_type": "code",
   "execution_count": 17,
   "metadata": {
    "collapsed": true
   },
   "outputs": [],
   "source": [
    "X=train_df[use_features]\n",
    "y=train_df['target']\n",
    "\n",
    "X_predict=test_df[use_features]"
   ]
  },
  {
   "cell_type": "code",
   "execution_count": 18,
   "metadata": {
    "collapsed": true
   },
   "outputs": [],
   "source": [
    "X_train,X_test,y_train,y_test=train_test_split(X,y,test_size=0.20,stratify=y,random_state=9)"
   ]
  },
  {
   "cell_type": "markdown",
   "metadata": {},
   "source": [
    "# 1 Base line"
   ]
  },
  {
   "cell_type": "code",
   "execution_count": 158,
   "metadata": {
    "collapsed": true
   },
   "outputs": [],
   "source": [
    "def gini(actual, pred, cmpcol = 0, sortcol = 1):\n",
    "    assert( len(actual) == len(pred) )\n",
    "    all = np.asarray(np.c_[ actual, pred, np.arange(len(actual)) ], dtype=np.float)\n",
    "    all = all[ np.lexsort((all[:,2], -1*all[:,1])) ]\n",
    "    totalLosses = all[:,0].sum()\n",
    "    giniSum = all[:,0].cumsum().sum() / totalLosses\n",
    " \n",
    "    giniSum -= (len(actual) + 1) / 2.\n",
    "    return giniSum / len(actual)\n",
    "\n",
    "def softmax(x):\n",
    "    \"\"\"Compute softmax values for each sets of scores in x.\"\"\"\n",
    "    e_x = np.exp(x - np.max(x))\n",
    "    return e_x / e_x.sum() \n",
    "\n",
    "def gini_normalized(preds,dtrain):\n",
    "    y=dtrain.get_label()\n",
    "    preds=softmax(preds)\n",
    "    return 'NormGini',gini(y, preds) / gini(y, y),True\n",
    "\n",
    "def gini_normalized_ordinary(y,preds):\n",
    "    return gini(y, preds) / gini(y, y)\n",
    "\n",
    "def modelfit(alg,X,y,X_test,y_test,cat_features,cvparams,folds=None,useTrainCV=True,cv_folds=5,early_stopping_rounds=30):\n",
    "    feature_names=list(X.columns)\n",
    "    if useTrainCV==True:\n",
    "        dtrain=lgb.Dataset(X, label=y, max_bin=255, reference=None, \n",
    "                           weight=None, group=None, silent=False, feature_name=feature_names,\n",
    "                            categorical_feature=cat_features,params=None, free_raw_data=True)\n",
    "        cvresult=lgb.cv(cvparams,dtrain,num_boost_round=50000,folds=folds,nfold=cv_folds,stratified=True,\n",
    "                        metrics='auc',feature_name=feature_names,categorical_feature=cat_features,early_stopping_rounds=early_stopping_rounds,\n",
    "                        verbose_eval=20,show_stdv =True,seed=9)\n",
    "        #,feval=gini_normalized\n",
    "        alg.set_params(n_estimators=len(cvresult['auc-mean']))\n",
    "        print('Best Iteration:',len(cvresult['auc-mean']))\n",
    "        \n",
    "    alg.fit(X,y,eval_metric='auc',feature_name=feature_names,categorical_feature=cat_features)\n",
    "    \n",
    "    #Predict training set:\n",
    "    dtrain_predictions=alg.predict(X)\n",
    "    dtrain_predprob=alg.predict_proba(X)[:,1]\n",
    "    \n",
    "    #pPredict test set:\n",
    "    dtest_predictions=alg.predict(X_test)\n",
    "    dtest_predprob=alg.predict_proba(X_test)[:,1]\n",
    "    \n",
    "    #Print Mode report:\n",
    "    print('Model report on trian:')\n",
    "    #print('Train Accuracy:{0:.4f}'.format(metrics.accuracy_score(y,dtrain_predictions)))\n",
    "    print('Train AUC:{0:.4f}'.format(metrics.roc_auc_score(y,dtrain_predprob)))\n",
    "    #print('Train Normalized GINI：{0:.6f}'.format(gini_normalized_ordinary(y,dtrain_predprob)))\n",
    "    print('Model report on test:')\n",
    "    #print('Test Accuracy:{0:.4f}'.format(metrics.accuracy_score(y_test,dtest_predictions)))\n",
    "    print('Test AUC:{0:.4f}'.format(metrics.roc_auc_score(y_test,dtest_predprob)))\n",
    "    #print('Test Normalized GINI：{0：.6f}'.format(gini_normalized_ordinary(y,dtest_predprob)))\n",
    "    print('Test classifiction report:')\n",
    "    print(metrics.classification_report(y_test,dtest_predictions))\n",
    "    print('Test confusion matrix:')\n",
    "    plt.figure()\n",
    "    with sns.axes_style(style='dark'):\n",
    "        plot_confusion_matrix(metrics.confusion_matrix(y_test,dtest_predictions),classes=['0','1'],\n",
    "                             title='Confusion Matrix')\n",
    "    \n",
    "    feat_imp=pd.Series(alg.feature_importances_,index=X.columns).sort_values(ascending=True)\n",
    "    #plt.figure()\n",
    "    #feat_imp.plot(kind='barh',title='Feature Importances',color='green')\n",
    "    #plt.ylabel('Feature Importance Score')\n",
    "    lgb.plot_importance(alg,importance_type='gain')\n",
    "    return feat_imp\n",
    "\n",
    "def turnParams(model,X,y,cat_features,searchParam,modelparams,scoring='roc_auc',cv=5):\n",
    "    gsc=GridSearchCV(estimator=model.__class__(**modelparams),param_grid=searchParam,scoring=scoring,\n",
    "                    iid=False,cv=cv)\n",
    "    gsc.fit(X,y,eval_metric='auc',categorical_feature=cat_features)\n",
    "    param_name=list(searchParam.keys())[0]\n",
    "    columns=[p[param_name] for p in gsc.cv_results_['params']]\n",
    "    cv_scores=pd.DataFrame([gsc.cv_results_['mean_test_score'],\n",
    "                            gsc.cv_results_['mean_train_score'],\n",
    "                            gsc.cv_results_['std_test_score'],\n",
    "                            gsc.cv_results_['std_train_score']],\n",
    "                            index=['mean_test_score','mean_train_score','std_test_score','std_train_score'],\n",
    "                            columns=columns).T\n",
    "    #cv_scores.index.name=param_name\n",
    "    for param in gsc.best_params_.keys():\n",
    "        modelparams[param]=gsc.best_params_[param]\n",
    "    print('Best params:')\n",
    "    for param in gsc.best_params_.keys():\n",
    "        print(param,':',gsc.best_params_[param])\n",
    "    print('Best score:',gsc.best_score_)\n",
    "    print(cv_scores)\n",
    "    \n",
    "def plot_confusion_matrix(cm, classes,\n",
    "                          normalize=False,\n",
    "                          title='Confusion matrix',\n",
    "                          cmap=plt.cm.Blues):\n",
    "    \"\"\"\n",
    "    This function prints and plots the confusion matrix.\n",
    "    Normalization can be applied by setting `normalize=True`.\n",
    "    \"\"\"\n",
    "    if normalize:\n",
    "        cm = cm.astype('float') / cm.sum(axis=1)[:, np.newaxis]\n",
    "        print(\"Normalized confusion matrix\")\n",
    "    else:\n",
    "        print('Confusion matrix, without normalization')\n",
    "\n",
    "    print(cm)\n",
    "\n",
    "    plt.imshow(cm, interpolation='nearest', cmap=cmap)\n",
    "    plt.title(title)\n",
    "    plt.colorbar()\n",
    "    tick_marks = np.arange(len(classes))\n",
    "    plt.xticks(tick_marks, classes, rotation=45)\n",
    "    plt.yticks(tick_marks, classes)\n",
    "\n",
    "    fmt = '.2f' if normalize else 'd'\n",
    "    thresh = cm.max() / 2.\n",
    "    for i, j in itertools.product(range(cm.shape[0]), range(cm.shape[1])):\n",
    "        plt.text(j, i, format(cm[i, j], fmt),\n",
    "                 horizontalalignment=\"center\",\n",
    "                 color=\"white\" if cm[i, j] > thresh else \"black\")\n",
    "\n",
    "    plt.tight_layout()\n",
    "    plt.ylabel('True label')\n",
    "    plt.xlabel('Predicted label')"
   ]
  },
  {
   "cell_type": "code",
   "execution_count": 233,
   "metadata": {
    "collapsed": true
   },
   "outputs": [],
   "source": [
    "params={'boosting_type':'gbdt',\n",
    "        'num_leaves':20,\n",
    "        'max_depth':6,\n",
    "        'learning_rate':0.3,\n",
    "        'n_estimators':38,\n",
    "        'max_bin':255,\n",
    "        'objective':'binary',\n",
    "        'min_split_gain':1,\n",
    "        'min_child_weight':5,\n",
    "        'min_child_samples':1,\n",
    "        'subsample':0.8,\n",
    "        'subsample_freq':1,\n",
    "        'colsample_bytree':0.8,\n",
    "        'reg_alpha':0,\n",
    "        'reg_lambda':0,\n",
    "        'random_state':9,\n",
    "        'n_jobs':4,\n",
    "        'is_unbalance':True,\n",
    "       }\n",
    "\n",
    "cvparams={'boosting_type':'gbdt',\n",
    "        'num_leaves':8,\n",
    "        'max_depth':3,\n",
    "        'learning_rate':0.3,\n",
    "        'max_bin':255,\n",
    "        'objective':'binary',\n",
    "        'min_gain_to_split':1,\n",
    "        'min_sum_hessian_in_leaf':5,\n",
    "        'min_data_in_leaf':1,\n",
    "        'bagging_fraction':0.8,\n",
    "        'bagging_freq':1,\n",
    "        'feature_fraction':0.8,\n",
    "        'lambda_l1':0,\n",
    "        'lambda_l2':0,\n",
    "        'num_threads':4,\n",
    "        'is_unbalance':True,\n",
    "       }\n",
    "#在sklaearn接口中，参数名称发生了变化，需要进行映射\n",
    "tran_table={ 'min_split_gain':'min_gain_to_split',\n",
    "             'min_child_weight':'min_sum_hessian_in_leaf',\n",
    "             'min_child_samples':'min_data_in_leaf',\n",
    "             'subsample':'bagging_fraction',\n",
    "             'subsample_freq':'bagging_freq',\n",
    "             'colsample_bytree':'feature_fraction',\n",
    "             'reg_alpha':'lambda_l1',\n",
    "             'reg_lambda':'lambda_l2',\n",
    "             'n_jobs':'num_threads',\n",
    "            \n",
    "             'boosting_type':'boosting_type',\n",
    "             'num_leaves':'num_leaves',\n",
    "             'max_depth':'max_depth',\n",
    "             'learning_rate':'learning_rate',\n",
    "             'max_bin':'max_bin',\n",
    "             'objective':'objective',\n",
    "             'is_unbalance':'is_unbalance'}\n",
    "def get_lgb_params(sklearn_params,cvparams,tran_table):\n",
    "    for sklearn_param,lgb_param in tran_table.items():\n",
    "        cvparams[lgb_param]=sklearn_params[sklearn_param]"
   ]
  },
  {
   "cell_type": "code",
   "execution_count": 135,
   "metadata": {
    "collapsed": true
   },
   "outputs": [],
   "source": [
    "lgbc=lgb.LGBMClassifier(**params)"
   ]
  },
  {
   "cell_type": "code",
   "execution_count": 136,
   "metadata": {},
   "outputs": [
    {
     "name": "stdout",
     "output_type": "stream",
     "text": [
      "[20]\tcv_agg's auc: 0.628457 + 0.00272447\n",
      "[40]\tcv_agg's auc: 0.629094 + 0.00403532\n",
      "[60]\tcv_agg's auc: 0.628182 + 0.00393359\n",
      "Best Iteration: 38\n",
      "Model report on trian:\n",
      "Train AUC:0.6615\n",
      "Model report on test:\n",
      "Test AUC:0.6306\n",
      "Test classifiction report:\n",
      "             precision    recall  f1-score   support\n",
      "\n",
      "          0       0.97      0.63      0.77    114704\n",
      "          1       0.05      0.56      0.10      4339\n",
      "\n",
      "avg / total       0.94      0.63      0.74    119043\n",
      "\n",
      "Test confusion matrix:\n",
      "Confusion matrix, without normalization\n",
      "[[72473 42231]\n",
      " [ 1927  2412]]\n"
     ]
    },
    {
     "data": {
      "image/png": "[encoded data removed]",
      "text/plain": [
       "<matplotlib.figure.Figure at 0x7fcd4433fba8>"
      ]
     },
     "metadata": {},
     "output_type": "display_data"
    },
    {
     "data": {
      "image/png": "[encoded data removed]",
      "text/plain": [
       "<matplotlib.figure.Figure at 0x7fcd442652e8>"
      ]
     },
     "metadata": {},
     "output_type": "display_data"
    }
   ],
   "source": [
    "get_lgb_params(lgbc.get_params(),cvparams,tran_table)\n",
    "\n",
    "feat_imp=modelfit(lgbc,X_train,y_train,X_test,y_test,cat_features,cvparams,useTrainCV=True,cv_folds=5,early_stopping_rounds=30)"
   ]
  },
  {
   "cell_type": "code",
   "execution_count": 83,
   "metadata": {},
   "outputs": [],
   "source": [
    "#lgb.create_tree_digraph(lgbc)"
   ]
  },
  {
   "cell_type": "code",
   "execution_count": 137,
   "metadata": {
    "collapsed": true
   },
   "outputs": [],
   "source": [
    "params['n_estimators']=38"
   ]
  },
  {
   "cell_type": "markdown",
   "metadata": {},
   "source": [
    "# 2 Tune params"
   ]
  },
  {
   "cell_type": "code",
   "execution_count": 127,
   "metadata": {
    "collapsed": true
   },
   "outputs": [],
   "source": [
    "#不重要的警告信息不予显示\n",
    "import warnings\n",
    "warnings.filterwarnings(\"ignore\")"
   ]
  },
  {
   "cell_type": "markdown",
   "metadata": {},
   "source": [
    "## 2.1 subsample"
   ]
  },
  {
   "cell_type": "code",
   "execution_count": 150,
   "metadata": {},
   "outputs": [
    {
     "name": "stdout",
     "output_type": "stream",
     "text": [
      "Best params:\n",
      "subsample : 0.9\n",
      "Best score: 0.623924422932\n",
      "           mean_test_score  mean_train_score  std_test_score  std_train_score\n",
      "subsample                                                                    \n",
      "0.1               0.582750          0.626622        0.003614         0.001442\n",
      "0.3               0.608044          0.666197        0.003758         0.001107\n",
      "0.5               0.618622          0.681435        0.002113         0.000822\n",
      "0.7               0.620946          0.692656        0.002902         0.000672\n",
      "0.9               0.623924          0.703990        0.001712         0.000956\n",
      "1.0               0.623101          0.708420        0.001306         0.000580\n"
     ]
    }
   ],
   "source": [
    "searchParam={'subsample':[0.1,0.3,0.5,0.7,0.9,1.0]}\n",
    "turnParams(lgbc,X,y,cat_features,searchParam,params,scoring='roc_auc',cv=5);"
   ]
  },
  {
   "cell_type": "code",
   "execution_count": 152,
   "metadata": {},
   "outputs": [
    {
     "name": "stdout",
     "output_type": "stream",
     "text": [
      "Best params:\n",
      "subsample : 0.97\n",
      "Best score: 0.62436035446\n",
      "           mean_test_score  mean_train_score  std_test_score  std_train_score\n",
      "subsample                                                                    \n",
      "0.93              0.623301          0.705083        0.001692         0.000719\n",
      "0.94              0.623620          0.705942        0.002505         0.000879\n",
      "0.95              0.624357          0.705522        0.002013         0.000718\n",
      "0.96              0.623966          0.706437        0.001829         0.000918\n",
      "0.97              0.624360          0.707495        0.001531         0.000481\n"
     ]
    }
   ],
   "source": [
    "searchParam={'subsample':[0.93,0.94,0.95,0.96,0.97]}\n",
    "turnParams(lgbc,X,y,cat_features,searchParam,params,scoring='roc_auc',cv=5);"
   ]
  },
  {
   "cell_type": "markdown",
   "metadata": {},
   "source": [
    "## 2.2 subsample_freq"
   ]
  },
  {
   "cell_type": "code",
   "execution_count": 153,
   "metadata": {},
   "outputs": [
    {
     "name": "stdout",
     "output_type": "stream",
     "text": [
      "Best params:\n",
      "subsample_freq : 9\n",
      "Best score: 0.624862859961\n",
      "                mean_test_score  mean_train_score  std_test_score  \\\n",
      "subsample_freq                                                      \n",
      "1                      0.624360          0.707495        0.001531   \n",
      "2                      0.623342          0.707011        0.001965   \n",
      "3                      0.622373          0.708170        0.001819   \n",
      "4                      0.623043          0.708620        0.003030   \n",
      "5                      0.623033          0.708085        0.003098   \n",
      "6                      0.624311          0.707190        0.002618   \n",
      "7                      0.623814          0.707778        0.003000   \n",
      "8                      0.623689          0.707683        0.004197   \n",
      "9                      0.624863          0.707701        0.002882   \n",
      "\n",
      "                std_train_score  \n",
      "subsample_freq                   \n",
      "1                      0.000481  \n",
      "2                      0.001405  \n",
      "3                      0.001083  \n",
      "4                      0.000897  \n",
      "5                      0.001049  \n",
      "6                      0.001241  \n",
      "7                      0.000808  \n",
      "8                      0.001804  \n",
      "9                      0.000902  \n"
     ]
    }
   ],
   "source": [
    "searchParam={'subsample_freq':[1,2,3,4,5,6,7,8,9]}\n",
    "turnParams(lgbc,X,y,cat_features,searchParam,params,scoring='roc_auc',cv=5);"
   ]
  },
  {
   "cell_type": "code",
   "execution_count": 154,
   "metadata": {},
   "outputs": [
    {
     "name": "stdout",
     "output_type": "stream",
     "text": [
      "Best params:\n",
      "subsample_freq : 9\n",
      "Best score: 0.624862859961\n",
      "                mean_test_score  mean_train_score  std_test_score  \\\n",
      "subsample_freq                                                      \n",
      "9                      0.624863          0.707701        0.002882   \n",
      "10                     0.623543          0.708535        0.003470   \n",
      "13                     0.623964          0.707633        0.003531   \n",
      "15                     0.622719          0.707979        0.002533   \n",
      "20                     0.622787          0.707283        0.002655   \n",
      "25                     0.623462          0.707648        0.002974   \n",
      "\n",
      "                std_train_score  \n",
      "subsample_freq                   \n",
      "9                      0.000902  \n",
      "10                     0.001344  \n",
      "13                     0.000546  \n",
      "15                     0.001434  \n",
      "20                     0.001190  \n",
      "25                     0.001486  \n"
     ]
    }
   ],
   "source": [
    "searchParam={'subsample_freq':[9,10,13,15,20,25]}\n",
    "turnParams(lgbc,X,y,cat_features,searchParam,params,scoring='roc_auc',cv=5);"
   ]
  },
  {
   "cell_type": "markdown",
   "metadata": {},
   "source": [
    "## 2.3 colsample_bytree"
   ]
  },
  {
   "cell_type": "code",
   "execution_count": 155,
   "metadata": {},
   "outputs": [
    {
     "name": "stdout",
     "output_type": "stream",
     "text": [
      "Best params:\n",
      "colsample_bytree : 0.3\n",
      "Best score: 0.631277503259\n",
      "                  mean_test_score  mean_train_score  std_test_score  \\\n",
      "colsample_bytree                                                      \n",
      "0.1                      0.624900          0.657771        0.002763   \n",
      "0.3                      0.631278          0.677482        0.001747   \n",
      "0.5                      0.626293          0.697281        0.002737   \n",
      "0.7                      0.625584          0.701080        0.002893   \n",
      "0.8                      0.624863          0.707701        0.002882   \n",
      "0.9                      0.621290          0.710993        0.003098   \n",
      "1.0                      0.618995          0.715264        0.002495   \n",
      "\n",
      "                  std_train_score  \n",
      "colsample_bytree                   \n",
      "0.1                      0.000639  \n",
      "0.3                      0.001443  \n",
      "0.5                      0.001311  \n",
      "0.7                      0.001422  \n",
      "0.8                      0.000902  \n",
      "0.9                      0.001399  \n",
      "1.0                      0.001044  \n"
     ]
    }
   ],
   "source": [
    "searchParam={'colsample_bytree':[0.1,0.3,0.5,0.7,0.8,0.9,1.0]}\n",
    "turnParams(lgbc,X,y,cat_features,searchParam,params,scoring='roc_auc',cv=5);"
   ]
  },
  {
   "cell_type": "code",
   "execution_count": 157,
   "metadata": {},
   "outputs": [
    {
     "name": "stdout",
     "output_type": "stream",
     "text": [
      "Best params:\n",
      "colsample_bytree : 0.3\n",
      "Best score: 0.631277503259\n",
      "                  mean_test_score  mean_train_score  std_test_score  \\\n",
      "colsample_bytree                                                      \n",
      "0.24                     0.630350          0.679827        0.002854   \n",
      "0.26                     0.628828          0.683085        0.001886   \n",
      "0.28                     0.631180          0.680134        0.002320   \n",
      "0.30                     0.631278          0.677482        0.001747   \n",
      "0.32                     0.628964          0.682787        0.002659   \n",
      "0.34                     0.629898          0.683812        0.001580   \n",
      "0.36                     0.627522          0.695551        0.003292   \n",
      "0.38                     0.629099          0.694038        0.003499   \n",
      "0.40                     0.627820          0.692661        0.003489   \n",
      "\n",
      "                  std_train_score  \n",
      "colsample_bytree                   \n",
      "0.24                     0.000593  \n",
      "0.26                     0.001186  \n",
      "0.28                     0.000317  \n",
      "0.30                     0.001443  \n",
      "0.32                     0.000620  \n",
      "0.34                     0.000928  \n",
      "0.36                     0.000640  \n",
      "0.38                     0.000552  \n",
      "0.40                     0.001035  \n"
     ]
    }
   ],
   "source": [
    "searchParam={'colsample_bytree':np.arange(0.24,0.4,0.02)}\n",
    "turnParams(lgbc,X,y,cat_features,searchParam,params,scoring='roc_auc',cv=5);"
   ]
  },
  {
   "cell_type": "markdown",
   "metadata": {},
   "source": [
    "## 2.4 reg_alpha"
   ]
  },
  {
   "cell_type": "code",
   "execution_count": 160,
   "metadata": {},
   "outputs": [
    {
     "name": "stdout",
     "output_type": "stream",
     "text": [
      "Best params:\n",
      "reg_alpha : 10\n",
      "Best score: 0.632798469654\n",
      "          mean_test_score  mean_train_score  std_test_score  std_train_score\n",
      "0.00000          0.631278          0.677482        0.001747         0.001443\n",
      "0.00001          0.631278          0.677482        0.001747         0.001443\n",
      "0.00100          0.631278          0.677482        0.001747         0.001443\n",
      "0.10000          0.632565          0.677859        0.001570         0.001366\n",
      "0.50000          0.631724          0.677322        0.002516         0.001755\n",
      "1.00000          0.631500          0.677602        0.001768         0.001686\n",
      "3.00000          0.632743          0.677252        0.001555         0.001047\n",
      "5.00000          0.632689          0.677290        0.002458         0.001491\n",
      "10.00000         0.632798          0.676330        0.002089         0.001497\n"
     ]
    }
   ],
   "source": [
    "searchParam={'reg_alpha':[0,1e-5,1e-3,0.1,0.5,1,3,5,10]}\n",
    "turnParams(lgbc,X,y,cat_features,searchParam,params,scoring='roc_auc',cv=5);"
   ]
  },
  {
   "cell_type": "code",
   "execution_count": 161,
   "metadata": {},
   "outputs": [
    {
     "name": "stdout",
     "output_type": "stream",
     "text": [
      "Best params:\n",
      "reg_alpha : 13\n",
      "Best score: 0.634238018283\n",
      "    mean_test_score  mean_train_score  std_test_score  std_train_score\n",
      "8          0.631935          0.677113        0.001995         0.001378\n",
      "9          0.633293          0.676764        0.002692         0.000935\n",
      "10         0.632798          0.676330        0.002089         0.001497\n",
      "11         0.632673          0.676711        0.001849         0.001289\n",
      "13         0.634238          0.676867        0.002047         0.001055\n",
      "15         0.632968          0.676631        0.001808         0.001006\n",
      "20         0.633579          0.676571        0.002177         0.000897\n"
     ]
    }
   ],
   "source": [
    "searchParam={'reg_alpha':[8,9,10,11,13,15,20]}\n",
    "turnParams(lgbc,X,y,cat_features,searchParam,params,scoring='roc_auc',cv=5);"
   ]
  },
  {
   "cell_type": "code",
   "execution_count": 162,
   "metadata": {},
   "outputs": [
    {
     "name": "stdout",
     "output_type": "stream",
     "text": [
      "Best params:\n",
      "reg_alpha : 13\n",
      "Best score: 0.634238018283\n",
      "      mean_test_score  mean_train_score  std_test_score  std_train_score\n",
      "11.5         0.632061          0.676672        0.001804         0.000935\n",
      "12.0         0.633006          0.676450        0.002290         0.000768\n",
      "12.5         0.633273          0.676601        0.001921         0.001052\n",
      "13.0         0.634238          0.676867        0.002047         0.001055\n",
      "13.5         0.633711          0.676977        0.001663         0.001138\n",
      "14.0         0.633886          0.676589        0.002297         0.001433\n"
     ]
    }
   ],
   "source": [
    "searchParam={'reg_alpha':[11.5,12,12.5,13,13.5,14]}\n",
    "turnParams(lgbc,X,y,cat_features,searchParam,params,scoring='roc_auc',cv=5);"
   ]
  },
  {
   "cell_type": "markdown",
   "metadata": {},
   "source": [
    "## 2.5 reg_lambda"
   ]
  },
  {
   "cell_type": "code",
   "execution_count": 163,
   "metadata": {},
   "outputs": [
    {
     "name": "stdout",
     "output_type": "stream",
     "text": [
      "Best params:\n",
      "reg_lambda : 0.001\n",
      "Best score: 0.634238036366\n",
      "          mean_test_score  mean_train_score  std_test_score  std_train_score\n",
      "0.00000          0.634238          0.676867        0.002047         0.001055\n",
      "0.00001          0.634238          0.676867        0.002047         0.001055\n",
      "0.00100          0.634238          0.676867        0.002047         0.001055\n",
      "0.10000          0.633969          0.676938        0.002343         0.001150\n",
      "0.50000          0.633850          0.676792        0.002156         0.001513\n",
      "1.00000          0.633658          0.676962        0.001747         0.001146\n",
      "3.00000          0.633429          0.676496        0.002298         0.001228\n",
      "5.00000          0.632963          0.676264        0.002213         0.000875\n",
      "10.00000         0.632758          0.676683        0.002694         0.000626\n"
     ]
    }
   ],
   "source": [
    "searchParam={'reg_lambda':[0,1e-5,1e-3,0.1,0.5,1,3,5,10]}\n",
    "turnParams(lgbc,X,y,cat_features,searchParam,params,scoring='roc_auc',cv=5);"
   ]
  },
  {
   "cell_type": "code",
   "execution_count": 164,
   "metadata": {},
   "outputs": [
    {
     "name": "stdout",
     "output_type": "stream",
     "text": [
      "Best params:\n",
      "reg_lambda : 0.009\n",
      "Best score: 0.634238272665\n",
      "       mean_test_score  mean_train_score  std_test_score  std_train_score\n",
      "0.001         0.634238          0.676867        0.002047         0.001055\n",
      "0.002         0.634238          0.676866        0.002047         0.001055\n",
      "0.003         0.634238          0.676866        0.002047         0.001055\n",
      "0.004         0.634238          0.676866        0.002047         0.001055\n",
      "0.005         0.634238          0.676866        0.002047         0.001055\n",
      "0.006         0.634238          0.676866        0.002047         0.001055\n",
      "0.007         0.634238          0.676866        0.002047         0.001055\n",
      "0.008         0.634238          0.676866        0.002047         0.001055\n",
      "0.009         0.634238          0.676866        0.002047         0.001055\n"
     ]
    }
   ],
   "source": [
    "searchParam={'reg_lambda':np.arange(1,10)*1e-3}\n",
    "turnParams(lgbc,X,y,cat_features,searchParam,params,scoring='roc_auc',cv=5);"
   ]
  },
  {
   "cell_type": "markdown",
   "metadata": {},
   "source": [
    "## 2.6 min_child_samples"
   ]
  },
  {
   "cell_type": "code",
   "execution_count": 171,
   "metadata": {},
   "outputs": [
    {
     "name": "stdout",
     "output_type": "stream",
     "text": [
      "Best params:\n",
      "min_child_samples : 5\n",
      "Best score: 0.63428579984\n",
      "     mean_test_score  mean_train_score  std_test_score  std_train_score\n",
      "1           0.634238          0.676866        0.002047         0.001055\n",
      "2           0.634238          0.676866        0.002047         0.001055\n",
      "5           0.634286          0.676859        0.002134         0.001064\n",
      "10          0.633938          0.676871        0.002404         0.001082\n",
      "20          0.634112          0.676849        0.002433         0.001172\n",
      "30          0.633639          0.676719        0.001724         0.001288\n",
      "50          0.633944          0.677029        0.001638         0.001690\n",
      "100         0.633487          0.676505        0.001754         0.001532\n"
     ]
    }
   ],
   "source": [
    "searchParam={'min_child_samples':[1,2,5,10,20,30,50,100]}\n",
    "turnParams(lgbc,X,y,cat_features,searchParam,params,scoring='roc_auc',cv=5);"
   ]
  },
  {
   "cell_type": "code",
   "execution_count": 172,
   "metadata": {},
   "outputs": [
    {
     "name": "stdout",
     "output_type": "stream",
     "text": [
      "Best params:\n",
      "min_child_samples : 3\n",
      "Best score: 0.63428579984\n",
      "   mean_test_score  mean_train_score  std_test_score  std_train_score\n",
      "3         0.634286          0.676859        0.002134         0.001064\n",
      "4         0.634286          0.676859        0.002134         0.001064\n",
      "5         0.634286          0.676859        0.002134         0.001064\n",
      "6         0.634286          0.676859        0.002134         0.001064\n",
      "7         0.634286          0.676859        0.002134         0.001064\n"
     ]
    }
   ],
   "source": [
    "searchParam={'min_child_samples':[3,4,5,6,7]}\n",
    "turnParams(lgbc,X,y,cat_features,searchParam,params,scoring='roc_auc',cv=5);"
   ]
  },
  {
   "cell_type": "markdown",
   "metadata": {},
   "source": [
    "## 2.7 min_child_weight"
   ]
  },
  {
   "cell_type": "code",
   "execution_count": 173,
   "metadata": {},
   "outputs": [
    {
     "name": "stdout",
     "output_type": "stream",
     "text": [
      "Best params:\n",
      "min_child_weight : 1e-05\n",
      "Best score: 0.63428579984\n",
      "         mean_test_score  mean_train_score  std_test_score  std_train_score\n",
      "0.00001         0.634286          0.676859        0.002134         0.001064\n",
      "0.00100         0.634286          0.676859        0.002134         0.001064\n",
      "0.10000         0.634286          0.676859        0.002134         0.001064\n",
      "0.50000         0.634286          0.676859        0.002134         0.001064\n",
      "1.00000         0.634286          0.676859        0.002134         0.001064\n",
      "3.00000         0.634286          0.676859        0.002134         0.001064\n",
      "5.00000         0.634286          0.676859        0.002134         0.001064\n"
     ]
    }
   ],
   "source": [
    "searchParam={'min_child_weight':[1e-5,1e-3,0.1,0.5,1.0,3.0,5.0]}\n",
    "turnParams(lgbc,X,y,cat_features,searchParam,params,scoring='roc_auc',cv=5);"
   ]
  },
  {
   "cell_type": "markdown",
   "metadata": {},
   "source": [
    "## 2.8 max_bin"
   ]
  },
  {
   "cell_type": "code",
   "execution_count": 174,
   "metadata": {},
   "outputs": [
    {
     "name": "stdout",
     "output_type": "stream",
     "text": [
      "Best params:\n",
      "max_bin : 255\n",
      "Best score: 0.63428579984\n",
      "     mean_test_score  mean_train_score  std_test_score  std_train_score\n",
      "31          0.632909          0.675524        0.002234         0.001220\n",
      "63          0.633120          0.675998        0.001408         0.000908\n",
      "127         0.633413          0.676443        0.002107         0.001359\n",
      "255         0.634286          0.676859        0.002134         0.001064\n",
      "511         0.632746          0.676565        0.001914         0.001183\n"
     ]
    }
   ],
   "source": [
    "searchParam={'max_bin':[31,63,127,255,511]}\n",
    "turnParams(lgbc,X,y,cat_features,searchParam,params,scoring='roc_auc',cv=5);"
   ]
  },
  {
   "cell_type": "markdown",
   "metadata": {},
   "source": [
    "## 2.9 min_split_gain"
   ]
  },
  {
   "cell_type": "code",
   "execution_count": 183,
   "metadata": {},
   "outputs": [
    {
     "name": "stdout",
     "output_type": "stream",
     "text": [
      "Best params:\n",
      "min_split_gain : 1\n",
      "Best score: 0.63428579984\n",
      "     mean_test_score  mean_train_score  std_test_score  std_train_score\n",
      "0.5         0.634007          0.676327        0.002064         0.000875\n",
      "0.9         0.634016          0.676880        0.002242         0.001080\n",
      "1.0         0.634286          0.676859        0.002134         0.001064\n",
      "1.1         0.633735          0.676845        0.002634         0.001043\n",
      "2.0         0.634004          0.676904        0.001815         0.001361\n",
      "3.0         0.633310          0.676621        0.001720         0.001495\n"
     ]
    }
   ],
   "source": [
    "searchParam={'min_split_gain':[0.5,0.9,1,1.1,2,3]}\n",
    "turnParams(lgbc,X,y,cat_features,searchParam,params,scoring='roc_auc',cv=5);"
   ]
  },
  {
   "cell_type": "markdown",
   "metadata": {},
   "source": [
    "## 2.10 num_leaves"
   ]
  },
  {
   "cell_type": "code",
   "execution_count": 176,
   "metadata": {},
   "outputs": [
    {
     "name": "stdout",
     "output_type": "stream",
     "text": [
      "Best params:\n",
      "num_leaves : 7\n",
      "Best score: 0.635499450526\n",
      "   mean_test_score  mean_train_score  std_test_score  std_train_score\n",
      "4         0.634265          0.642673        0.001518         0.000440\n",
      "5         0.634572          0.645314        0.001152         0.000483\n",
      "6         0.634850          0.648309        0.001404         0.000673\n",
      "7         0.635499          0.651191        0.001650         0.000421\n",
      "8         0.635406          0.653547        0.001854         0.000980\n",
      "9         0.635258          0.656202        0.001742         0.000374\n"
     ]
    }
   ],
   "source": [
    "searchParam={'num_leaves':np.arange(4,10)}\n",
    "turnParams(lgbc,X,y,cat_features,searchParam,params,scoring='roc_auc',cv=5);"
   ]
  },
  {
   "cell_type": "markdown",
   "metadata": {},
   "source": [
    "## 2.10 max_depth"
   ]
  },
  {
   "cell_type": "code",
   "execution_count": 177,
   "metadata": {},
   "outputs": [
    {
     "name": "stdout",
     "output_type": "stream",
     "text": [
      "Best params:\n",
      "max_depth : 4\n",
      "Best score: 0.635724188011\n",
      "   mean_test_score  mean_train_score  std_test_score  std_train_score\n",
      "2         0.634100          0.641946        0.001687         0.000426\n",
      "3         0.635574          0.650242        0.002159         0.000868\n",
      "4         0.635724          0.650743        0.002045         0.000634\n",
      "5         0.635325          0.651277        0.001637         0.000556\n",
      "6         0.635499          0.651191        0.001650         0.000421\n"
     ]
    }
   ],
   "source": [
    "searchParam={'max_depth':[2,3,4,5,6]}\n",
    "turnParams(lgbc,X,y,cat_features,searchParam,params,scoring='roc_auc',cv=5);"
   ]
  },
  {
   "cell_type": "markdown",
   "metadata": {},
   "source": [
    "## 2.11 lower learning_rate"
   ]
  },
  {
   "cell_type": "code",
   "execution_count": 243,
   "metadata": {},
   "outputs": [
    {
     "name": "stdout",
     "output_type": "stream",
     "text": [
      "[20]\tcv_agg's auc: 0.620509 + 0.00403624\n",
      "[40]\tcv_agg's auc: 0.621248 + 0.00439828\n",
      "[60]\tcv_agg's auc: 0.621408 + 0.00411366\n",
      "[80]\tcv_agg's auc: 0.622763 + 0.00368234\n",
      "[100]\tcv_agg's auc: 0.624094 + 0.00366845\n",
      "[120]\tcv_agg's auc: 0.624486 + 0.00365803\n",
      "[140]\tcv_agg's auc: 0.625486 + 0.00356304\n",
      "[160]\tcv_agg's auc: 0.626216 + 0.00355535\n",
      "[180]\tcv_agg's auc: 0.627109 + 0.00360109\n",
      "[200]\tcv_agg's auc: 0.62775 + 0.00365857\n",
      "[220]\tcv_agg's auc: 0.628109 + 0.00365438\n",
      "[240]\tcv_agg's auc: 0.628586 + 0.00363781\n",
      "[260]\tcv_agg's auc: 0.629201 + 0.00363329\n",
      "[280]\tcv_agg's auc: 0.629664 + 0.00372227\n",
      "[300]\tcv_agg's auc: 0.630284 + 0.00368157\n",
      "[320]\tcv_agg's auc: 0.630677 + 0.00370816\n",
      "[340]\tcv_agg's auc: 0.631068 + 0.00374888\n",
      "[360]\tcv_agg's auc: 0.631301 + 0.00378741\n",
      "[380]\tcv_agg's auc: 0.631514 + 0.00379321\n",
      "[400]\tcv_agg's auc: 0.631864 + 0.00380445\n",
      "[420]\tcv_agg's auc: 0.632214 + 0.0038218\n",
      "[440]\tcv_agg's auc: 0.63249 + 0.00379892\n",
      "[460]\tcv_agg's auc: 0.632763 + 0.00382828\n",
      "[480]\tcv_agg's auc: 0.633038 + 0.00384283\n",
      "[500]\tcv_agg's auc: 0.633108 + 0.00385301\n",
      "[520]\tcv_agg's auc: 0.63338 + 0.00384691\n",
      "[540]\tcv_agg's auc: 0.633527 + 0.00380939\n",
      "[560]\tcv_agg's auc: 0.633741 + 0.00385381\n",
      "[580]\tcv_agg's auc: 0.633893 + 0.00385371\n",
      "[600]\tcv_agg's auc: 0.634126 + 0.00385292\n",
      "[620]\tcv_agg's auc: 0.63425 + 0.00381492\n",
      "[640]\tcv_agg's auc: 0.634397 + 0.00382037\n",
      "[660]\tcv_agg's auc: 0.634605 + 0.0037521\n",
      "[680]\tcv_agg's auc: 0.634683 + 0.00375272\n",
      "[700]\tcv_agg's auc: 0.634825 + 0.00374461\n",
      "[720]\tcv_agg's auc: 0.634908 + 0.00374462\n",
      "[740]\tcv_agg's auc: 0.634998 + 0.00373999\n",
      "[760]\tcv_agg's auc: 0.635102 + 0.00375918\n",
      "[780]\tcv_agg's auc: 0.635184 + 0.00373436\n",
      "[800]\tcv_agg's auc: 0.635269 + 0.00372028\n",
      "[820]\tcv_agg's auc: 0.635391 + 0.00371901\n",
      "[840]\tcv_agg's auc: 0.635494 + 0.00370912\n",
      "[860]\tcv_agg's auc: 0.635569 + 0.00368456\n",
      "[880]\tcv_agg's auc: 0.63561 + 0.00367169\n",
      "[900]\tcv_agg's auc: 0.635699 + 0.00364374\n",
      "[920]\tcv_agg's auc: 0.635727 + 0.00359951\n",
      "[940]\tcv_agg's auc: 0.635787 + 0.00360702\n",
      "[960]\tcv_agg's auc: 0.635844 + 0.00363809\n",
      "[980]\tcv_agg's auc: 0.635925 + 0.00362539\n",
      "[1000]\tcv_agg's auc: 0.635951 + 0.00360622\n",
      "[1020]\tcv_agg's auc: 0.636004 + 0.00359911\n",
      "[1040]\tcv_agg's auc: 0.636034 + 0.00360225\n",
      "[1060]\tcv_agg's auc: 0.636067 + 0.00360411\n",
      "[1080]\tcv_agg's auc: 0.636145 + 0.00360665\n",
      "[1100]\tcv_agg's auc: 0.63616 + 0.00359999\n",
      "[1120]\tcv_agg's auc: 0.636235 + 0.00358839\n",
      "[1140]\tcv_agg's auc: 0.636273 + 0.0035879\n",
      "[1160]\tcv_agg's auc: 0.636299 + 0.00357555\n",
      "[1180]\tcv_agg's auc: 0.636316 + 0.0035986\n",
      "[1200]\tcv_agg's auc: 0.63632 + 0.0035899\n",
      "[1220]\tcv_agg's auc: 0.636341 + 0.00360224\n",
      "[1240]\tcv_agg's auc: 0.63639 + 0.00357912\n",
      "[1260]\tcv_agg's auc: 0.636408 + 0.00357894\n",
      "[1280]\tcv_agg's auc: 0.636426 + 0.00356667\n",
      "[1300]\tcv_agg's auc: 0.636458 + 0.00357513\n",
      "[1320]\tcv_agg's auc: 0.636468 + 0.0035754\n",
      "[1340]\tcv_agg's auc: 0.636463 + 0.00355721\n",
      "[1360]\tcv_agg's auc: 0.636451 + 0.00353431\n",
      "Best Iteration: 1333\n",
      "Model report on trian:\n",
      "Train AUC:0.6617\n",
      "Model report on test:\n",
      "Test AUC:0.6381\n",
      "Test classifiction report:\n",
      "             precision    recall  f1-score   support\n",
      "\n",
      "          0       0.97      0.63      0.77    114704\n",
      "          1       0.05      0.56      0.10      4339\n",
      "\n",
      "avg / total       0.94      0.63      0.74    119043\n",
      "\n",
      "Test confusion matrix:\n",
      "Confusion matrix, without normalization\n",
      "[[72279 42425]\n",
      " [ 1894  2445]]\n"
     ]
    },
    {
     "data": {
      "image/png": "[encoded data removed]",
      "text/plain": [
       "<matplotlib.figure.Figure at 0x7fcd442c29e8>"
      ]
     },
     "metadata": {},
     "output_type": "display_data"
    },
    {
     "data": {
      "image/png": "[encoded data removed]",
      "text/plain": [
       "<matplotlib.figure.Figure at 0x7fcd445e5c88>"
      ]
     },
     "metadata": {},
     "output_type": "display_data"
    }
   ],
   "source": [
    "params['learning_rate']=0.01\n",
    "lgbc=lgb.LGBMClassifier(**params)\n",
    "get_lgb_params(params,cvparams,tran_table)\n",
    "feat_imp=modelfit(lgbc,X_train,y_train,X_test,y_test,cat_features,cvparams,useTrainCV=True,cv_folds=5,early_stopping_rounds=30)"
   ]
  },
  {
   "cell_type": "code",
   "execution_count": 259,
   "metadata": {},
   "outputs": [],
   "source": [
    "params['n_estimators']=1333"
   ]
  },
  {
   "cell_type": "markdown",
   "metadata": {},
   "source": [
    "# 3 Final model"
   ]
  },
  {
   "cell_type": "code",
   "execution_count": 260,
   "metadata": {},
   "outputs": [
    {
     "data": {
      "text/plain": [
       "{'boosting_type': 'gbdt',\n",
       " 'colsample_bytree': 0.3,\n",
       " 'is_unbalance': True,\n",
       " 'learning_rate': 0.01,\n",
       " 'max_bin': 255,\n",
       " 'max_depth': 4,\n",
       " 'min_child_samples': 3,\n",
       " 'min_child_weight': 1e-05,\n",
       " 'min_split_gain': 1,\n",
       " 'n_estimators': 1333,\n",
       " 'n_jobs': 4,\n",
       " 'num_leaves': 7,\n",
       " 'objective': 'binary',\n",
       " 'random_state': 9,\n",
       " 'reg_alpha': 13,\n",
       " 'reg_lambda': 0.009,\n",
       " 'subsample': 0.97,\n",
       " 'subsample_freq': 9}"
      ]
     },
     "execution_count": 260,
     "metadata": {},
     "output_type": "execute_result"
    }
   ],
   "source": [
    "params"
   ]
  },
  {
   "cell_type": "code",
   "execution_count": 261,
   "metadata": {
    "collapsed": true
   },
   "outputs": [],
   "source": [
    "lgbc_opt=lgb.LGBMClassifier(**params)"
   ]
  },
  {
   "cell_type": "code",
   "execution_count": 264,
   "metadata": {},
   "outputs": [
    {
     "data": {
      "text/plain": [
       "LGBMClassifier(boosting_type='gbdt', colsample_bytree=0.3, is_unbalance=True,\n",
       "        learning_rate=0.01, max_bin=255, max_depth=4, min_child_samples=3,\n",
       "        min_child_weight=1e-05, min_split_gain=1, n_estimators=1333,\n",
       "        n_jobs=4, num_leaves=7, objective='binary', random_state=9,\n",
       "        reg_alpha=13, reg_lambda=0.009, silent=True, subsample=0.97,\n",
       "        subsample_for_bin=50000, subsample_freq=9)"
      ]
     },
     "execution_count": 264,
     "metadata": {},
     "output_type": "execute_result"
    }
   ],
   "source": [
    "lgbc_opt.fit(X,y,feature_name=list(X.columns),categorical_feature=cat_features)"
   ]
  },
  {
   "cell_type": "code",
   "execution_count": 265,
   "metadata": {
    "collapsed": true
   },
   "outputs": [],
   "source": [
    "pred_prob=lgbc_opt.predict_proba(X_predict)[:,1]"
   ]
  },
  {
   "cell_type": "code",
   "execution_count": 266,
   "metadata": {
    "collapsed": true
   },
   "outputs": [],
   "source": [
    "predict_result=pd.DataFrame({'id':test_df['id'].astype(int),'target':pd.Series(pred_prob,index=test_df['id'].index)})"
   ]
  },
  {
   "cell_type": "code",
   "execution_count": 267,
   "metadata": {},
   "outputs": [
    {
     "data": {
      "text/html": [
       "<div>\n",
       "<style>\n",
       "    .dataframe thead tr:only-child th {\n",
       "        text-align: right;\n",
       "    }\n",
       "\n",
       "    .dataframe thead th {\n",
       "        text-align: left;\n",
       "    }\n",
       "\n",
       "    .dataframe tbody tr th {\n",
       "        vertical-align: top;\n",
       "    }\n",
       "</style>\n",
       "<table border=\"1\" class=\"dataframe\">\n",
       "  <thead>\n",
       "    <tr style=\"text-align: right;\">\n",
       "      <th></th>\n",
       "      <th>id</th>\n",
       "      <th>target</th>\n",
       "    </tr>\n",
       "  </thead>\n",
       "  <tbody>\n",
       "    <tr>\n",
       "      <th>0</th>\n",
       "      <td>0</td>\n",
       "      <td>0.448932</td>\n",
       "    </tr>\n",
       "    <tr>\n",
       "      <th>1</th>\n",
       "      <td>1</td>\n",
       "      <td>0.448197</td>\n",
       "    </tr>\n",
       "    <tr>\n",
       "      <th>2</th>\n",
       "      <td>2</td>\n",
       "      <td>0.417098</td>\n",
       "    </tr>\n",
       "    <tr>\n",
       "      <th>3</th>\n",
       "      <td>3</td>\n",
       "      <td>0.314295</td>\n",
       "    </tr>\n",
       "    <tr>\n",
       "      <th>4</th>\n",
       "      <td>4</td>\n",
       "      <td>0.505310</td>\n",
       "    </tr>\n",
       "  </tbody>\n",
       "</table>\n",
       "</div>"
      ],
      "text/plain": [
       "   id    target\n",
       "0   0  0.448932\n",
       "1   1  0.448197\n",
       "2   2  0.417098\n",
       "3   3  0.314295\n",
       "4   4  0.505310"
      ]
     },
     "execution_count": 267,
     "metadata": {},
     "output_type": "execute_result"
    }
   ],
   "source": [
    "predict_result.head()"
   ]
  },
  {
   "cell_type": "code",
   "execution_count": 268,
   "metadata": {
    "collapsed": true
   },
   "outputs": [],
   "source": [
    "predict_result.to_csv('/home/yw/study/Competition/Safe_Driver_Prediction_20171014/20171030_12lgbm.csv',index=False)"
   ]
  },
  {
   "cell_type": "code",
   "execution_count": null,
   "metadata": {
    "collapsed": true
   },
   "outputs": [],
   "source": []
  }
 ],
 "metadata": {
  "kernelspec": {
   "display_name": "Python 3",
   "language": "python",
   "name": "python3"
  },
  "language_info": {
   "codemirror_mode": {
    "name": "ipython",
    "version": 3
   },
   "file_extension": ".py",
   "mimetype": "text/x-python",
   "name": "python",
   "nbconvert_exporter": "python",
   "pygments_lexer": "ipython3",
   "version": "3.6.2"
  }
 },
 "nbformat": 4,
 "nbformat_minor": 2
}
